{
 "cells": [
  {
   "cell_type": "markdown",
   "metadata": {},
   "source": [
    "### Load libriers"
   ]
  },
  {
   "cell_type": "code",
   "execution_count": 1,
   "metadata": {},
   "outputs": [],
   "source": [
    "from bs4 import BeautifulSoup \n",
    "import requests\n",
    "import pandas as pd\n",
    "import numpy as np\n",
    "import matplotlib.pyplot as plt\n",
    "import seaborn as sns\n",
    "import pandas as pd"
   ]
  },
  {
   "attachments": {},
   "cell_type": "markdown",
   "metadata": {},
   "source": [
    "**Requesting data from website**"
   ]
  },
  {
   "cell_type": "code",
   "execution_count": 2,
   "metadata": {},
   "outputs": [
    {
     "name": "stdout",
     "output_type": "stream",
     "text": [
      "<class 'bs4.element.ResultSet'>\n",
      "100\n"
     ]
    }
   ],
   "source": [
    "from requests import get\n",
    "url = 'https://www.goodreads.com/list/show/12362.All_Time_Favorite_Romance_Novels?page=1'\n",
    "response = requests.get(url)\n",
    "html = response.content\n",
    "html_soup = BeautifulSoup(html, \"html.parser\")\n",
    "book_containers = html_soup.find_all('tr',itemtype=\"http://schema.org/Book\")\n",
    "print(type(book_containers))\n",
    "print(len(book_containers))"
   ]
  },
  {
   "cell_type": "code",
   "execution_count": 3,
   "metadata": {},
   "outputs": [
    {
     "data": {
      "text/plain": [
       "bs4.BeautifulSoup"
      ]
     },
     "execution_count": 3,
     "metadata": {},
     "output_type": "execute_result"
    }
   ],
   "source": [
    "html_soup = BeautifulSoup(response.text, 'html.parser')\n",
    "type(html_soup)"
   ]
  },
  {
   "cell_type": "code",
   "execution_count": 4,
   "metadata": {},
   "outputs": [
    {
     "data": {
      "text/plain": [
       "<tr itemscope=\"\" itemtype=\"http://schema.org/Book\">\n",
       "<td class=\"number\" valign=\"top\">1</td>\n",
       "<td valign=\"top\" width=\"5%\">\n",
       "<div class=\"u-anchorTarget\" id=\"1885\"></div>\n",
       "<div class=\"js-tooltipTrigger tooltipTrigger\" data-resource-id=\"1885\" data-resource-type=\"Book\">\n",
       "<a href=\"/book/show/1885.Pride_and_Prejudice\" title=\"Pride and Prejudice\">\n",
       "<img alt=\"Pride and Prejudice\" class=\"bookCover\" itemprop=\"image\" src=\"https://i.gr-assets.com/images/S/compressed.photo.goodreads.com/books/1320399351i/1885._SY75_.jpg\"/>\n",
       "</a> </div>\n",
       "</td>\n",
       "<td valign=\"top\" width=\"100%\">\n",
       "<a class=\"bookTitle\" href=\"/book/show/1885.Pride_and_Prejudice\" itemprop=\"url\">\n",
       "<span aria-level=\"4\" itemprop=\"name\" role=\"heading\">Pride and Prejudice</span>\n",
       "</a> <br/>\n",
       "<span class=\"by\">by</span>\n",
       "<span itemprop=\"author\" itemscope=\"\" itemtype=\"http://schema.org/Person\">\n",
       "<div class=\"authorName__container\">\n",
       "<a class=\"authorName\" href=\"https://www.goodreads.com/author/show/1265.Jane_Austen\" itemprop=\"url\"><span itemprop=\"name\">Jane Austen</span></a>\n",
       "</div>\n",
       "</span>\n",
       "<br/>\n",
       "<div>\n",
       "<span class=\"greyText smallText uitext\">\n",
       "<span class=\"minirating\"><span class=\"stars staticStars notranslate\"><span class=\"staticStar p10\" size=\"12x12\"></span><span class=\"staticStar p10\" size=\"12x12\"></span><span class=\"staticStar p10\" size=\"12x12\"></span><span class=\"staticStar p10\" size=\"12x12\"></span><span class=\"staticStar p3\" size=\"12x12\"></span></span> 4.28 avg rating — 3,891,470 ratings</span>\n",
       "</span>\n",
       "</div>\n",
       "<div style=\"margin-top: 5px\">\n",
       "<span class=\"smallText uitext\">\n",
       "<a href=\"#\" onclick=\"Lightbox.showBoxByID('score_explanation', 300); return false;\">score: 237,502</a>,\n",
       "              <span class=\"greyText\">and</span>\n",
       "<a href=\"#\" id=\"loading_link_811215\" onclick=\"new Ajax.Request('/list/list_book/872724', {asynchronous:true, evalScripts:true, onFailure:function(request){Element.hide('loading_anim_811215');$('loading_link_811215').innerHTML = '&lt;span class=&quot;error&quot;&gt;ERROR&lt;/span&gt;try again';$('loading_link_811215').show();;Element.hide('loading_anim_811215');}, onLoading:function(request){;Element.show('loading_anim_811215');Element.hide('loading_link_811215')}, onSuccess:function(request){Element.hide('loading_anim_811215');Element.show('loading_link_811215');}, parameters:'authenticity_token=' + encodeURIComponent('kAMnFqXOPTPS87ny6udqiPoxEf+mHNpb8EQktL5sw/zS6P4ajEs6VGkVGJpO4sECFjrRf4oeB0IB+l6Sya+ylw==')}); return false;\">2,403 people voted</a><img alt=\"Loading trans\" class=\"loading\" id=\"loading_anim_811215\" src=\"https://s.gr-assets.com/assets/loading-trans-ced157046184c3bc7c180ffbfc6825a4.gif\" style=\"display:none\"/>\n",
       "               \n",
       "              \n",
       "            </span>\n",
       "</div>\n",
       "</td>\n",
       "<td width=\"130px\">\n",
       "<div class=\"wtrButtonContainer wtrSignedOut\" id=\"1_book_1885\">\n",
       "<div class=\"wtrUp wtrLeft\">\n",
       "<form accept-charset=\"UTF-8\" action=\"/shelf/add_to_shelf\" method=\"post\"><input name=\"utf8\" type=\"hidden\" value=\"✓\"/><input name=\"authenticity_token\" type=\"hidden\" value=\"HWAfH02cZMbFFE3nCRKGQlnyqqc+QTWRD0918HgEeH5fi8YTZBljoX7y7I+tFy3ItflqJxJD6Ij+8Q/WD8cJFQ==\"/>\n",
       "<input id=\"book_id\" name=\"book_id\" type=\"hidden\" value=\"1885\"/>\n",
       "<input id=\"name\" name=\"name\" type=\"hidden\" value=\"to-read\"/>\n",
       "<input id=\"unique_id\" name=\"unique_id\" type=\"hidden\" value=\"1_book_1885\"/>\n",
       "<input id=\"wtr_new\" name=\"wtr_new\" type=\"hidden\" value=\"true\"/>\n",
       "<input id=\"from_choice\" name=\"from_choice\" type=\"hidden\" value=\"false\"/>\n",
       "<input id=\"from_home_module\" name=\"from_home_module\" type=\"hidden\" value=\"false\"/>\n",
       "<input class=\"wtrLeftUpRef\" id=\"ref\" name=\"ref\" type=\"hidden\" value=\"\"/>\n",
       "<input class=\"wtrExisting\" id=\"existing_review\" name=\"existing_review\" type=\"hidden\" value=\"false\"/>\n",
       "<input id=\"page_url\" name=\"page_url\" type=\"hidden\"/>\n",
       "<button class=\"wtrToRead\" type=\"submit\">\n",
       "<span class=\"progressTrigger\">Want to Read</span>\n",
       "<span class=\"progressIndicator\">saving…</span>\n",
       "</button>\n",
       "</form>\n",
       "</div>\n",
       "<div class=\"wtrRight wtrUp\">\n",
       "<form accept-charset=\"UTF-8\" action=\"/shelf/add_to_shelf\" class=\"hiddenShelfForm\" method=\"post\"><input name=\"utf8\" type=\"hidden\" value=\"✓\"/><input name=\"authenticity_token\" type=\"hidden\" value=\"fFUU9lvWicAqZbUr9EUco0oL65ceYs5CIYLhsg5v2Z0+vs36clOOp5GDFENQQLcppgArFzJgE1vQPJuUeayo9g==\"/>\n",
       "<input id=\"unique_id\" name=\"unique_id\" type=\"hidden\" value=\"1_book_1885\"/>\n",
       "<input id=\"book_id\" name=\"book_id\" type=\"hidden\" value=\"1885\"/>\n",
       "<input id=\"a\" name=\"a\" type=\"hidden\"/>\n",
       "<input id=\"name\" name=\"name\" type=\"hidden\"/>\n",
       "<input id=\"from_choice\" name=\"from_choice\" type=\"hidden\" value=\"false\"/>\n",
       "<input id=\"from_home_module\" name=\"from_home_module\" type=\"hidden\" value=\"false\"/>\n",
       "<input id=\"page_url\" name=\"page_url\" type=\"hidden\"/>\n",
       "</form>\n",
       "<button class=\"wtrShelfButton\"></button>\n",
       "<div class=\"wtrShelfMenu\">\n",
       "<ul class=\"wtrExclusiveShelves\">\n",
       "<li><button class=\"wtrExclusiveShelf\" name=\"name\" type=\"submit\" value=\"to-read\">\n",
       "<span class=\"progressTrigger\">Want to Read</span>\n",
       "<img alt=\"saving…\" class=\"progressIndicator\" src=\"https://s.gr-assets.com/assets/loading-trans-ced157046184c3bc7c180ffbfc6825a4.gif\"/>\n",
       "</button>\n",
       "</li>\n",
       "<li><button class=\"wtrExclusiveShelf\" name=\"name\" type=\"submit\" value=\"currently-reading\">\n",
       "<span class=\"progressTrigger\">Currently Reading</span>\n",
       "<img alt=\"saving…\" class=\"progressIndicator\" src=\"https://s.gr-assets.com/assets/loading-trans-ced157046184c3bc7c180ffbfc6825a4.gif\"/>\n",
       "</button>\n",
       "</li>\n",
       "<li><button class=\"wtrExclusiveShelf\" name=\"name\" type=\"submit\" value=\"read\">\n",
       "<span class=\"progressTrigger\">Read</span>\n",
       "<img alt=\"saving…\" class=\"progressIndicator\" src=\"https://s.gr-assets.com/assets/loading-trans-ced157046184c3bc7c180ffbfc6825a4.gif\"/>\n",
       "</button>\n",
       "</li>\n",
       "</ul>\n",
       "</div>\n",
       "</div>\n",
       "<div class=\"ratingStars wtrRating\">\n",
       "<div class=\"starsErrorTooltip hidden\">\n",
       "Error rating book. Refresh and try again.\n",
       "</div>\n",
       "<div class=\"myRating uitext greyText\">Rate this book</div>\n",
       "<div class=\"clearRating uitext\">Clear rating</div>\n",
       "<div class=\"stars\" data-rating=\"0\" data-resource-id=\"1885\" data-restore-rating=\"null\" data-submit-url=\"/review/rate/1885?stars_click=true&amp;wtr_button_id=1_book_1885\" data-user-id=\"0\"><a class=\"star off\" href=\"#\" ref=\"\" title=\"did not like it\">1 of 5 stars</a><a class=\"star off\" href=\"#\" ref=\"\" title=\"it was ok\">2 of 5 stars</a><a class=\"star off\" href=\"#\" ref=\"\" title=\"liked it\">3 of 5 stars</a><a class=\"star off\" href=\"#\" ref=\"\" title=\"really liked it\">4 of 5 stars</a><a class=\"star off\" href=\"#\" ref=\"\" title=\"it was amazing\">5 of 5 stars</a></div>\n",
       "</div>\n",
       "</div>\n",
       "</td>\n",
       "</tr>"
      ]
     },
     "execution_count": 4,
     "metadata": {},
     "output_type": "execute_result"
    }
   ],
   "source": [
    "first_book = book_containers[0]\n",
    "first_book"
   ]
  },
  {
   "cell_type": "code",
   "execution_count": 5,
   "metadata": {},
   "outputs": [
    {
     "name": "stdout",
     "output_type": "stream",
     "text": [
      "<class 'bs4.element.ResultSet'>\n",
      "0\n"
     ]
    }
   ],
   "source": [
    "book_containers = html_soup.find_all('div', class_ =\"elementList\")\n",
    "print(type(book_containers))\n",
    "print(len(book_containers))"
   ]
  },
  {
   "cell_type": "code",
   "execution_count": 10,
   "metadata": {},
   "outputs": [],
   "source": [
    "name = first_book.find('a',class_=\"bookTitle\").text.strip()\n",
    "authors = first_book.find('a',class_=\"authorName\").text.strip()\n",
    "\n",
    "scoring = first_book.find('span',class_=\"greyText smallText uitext\").text.strip().split()\n",
    "avg_scores=scoring[0]\n",
    "rates = scoring[4]\n",
    "\n",
    "voted= first_book.find('span',class_=\"smallText uitext\").text.strip().split()\n",
    "scores=voted[1]\n",
    "vote=voted[3]\n",
    "\n",
    "\n"
   ]
  },
  {
   "cell_type": "code",
   "execution_count": 11,
   "metadata": {},
   "outputs": [
    {
     "name": "stdout",
     "output_type": "stream",
     "text": [
      "name: Pride and Prejudice\n",
      "authors: Jane Austen\n",
      "scoring: ['4.28', 'avg', 'rating', '—', '3,891,470', 'ratings']\n",
      "averae sores: 4.28\n",
      "ratings 3,891,470\n",
      "scores: 237,502,\n",
      "votes: 2,403\n"
     ]
    }
   ],
   "source": [
    "print(\"name:\",name)\n",
    "print(\"authors:\",authors)\n",
    "print(\"scoring:\",scoring)\n",
    "print(\"averae sores:\",avg_scores)\n",
    "print(\"ratings\", rates)\n",
    "print(\"scores:\",scores)\n",
    "\n",
    "print(\"votes:\",vote)"
   ]
  },
  {
   "cell_type": "code",
   "execution_count": 8,
   "metadata": {},
   "outputs": [],
   "source": [
    "page = 1\n",
    "names = []\n",
    "ratings = []\n",
    "avgscores = []\n",
    "author=[]\n",
    "score=[]\n",
    "votes=[]\n",
    "while page != 51:\n",
    "    url = f\"https://www.goodreads.com/list/show/12362.All_Time_Favorite_Romance_Novels?page={page}\"\n",
    "    response = requests.get(url)\n",
    "    html = response.content\n",
    "    soup = BeautifulSoup(html, \"html.parser\")\n",
    "    book_containers = soup.find_all('tr', itemtype=\"http://schema.org/Book\")\n",
    "    for container in book_containers:\n",
    "        if container.find('td', width= '100%') is not None:\n",
    "            name = container.find('a',class_=\"bookTitle\").text.strip()\n",
    "            names.append(name)\n",
    "            authors = container.find('a',class_=\"authorName\").text.strip()\n",
    "            author.append(authors)\n",
    "            scoring = container.find('span',class_=\"greyText smallText uitext\").text.strip().split()\n",
    "            ascores=scoring[0]\n",
    "            avgscores.append(ascores)\n",
    "            rates = scoring[4]\n",
    "            ratings.append(rates)\n",
    "            voted= container.find('span',class_=\"smallText uitext\").text.strip().split()        \n",
    "            scores=voted[1]\n",
    "            score.append(scores)\n",
    "            vote=voted[3]\n",
    "            votes.append(vote)\n",
    "    page = page + 1"
   ]
  },
  {
   "cell_type": "code",
   "execution_count": 12,
   "metadata": {},
   "outputs": [
    {
     "data": {
      "text/plain": [
       "['Pride and Prejudice',\n",
       " 'Fifty Shades of Grey (Fifty Shades, #1)',\n",
       " 'Beautiful Disaster (Beautiful, #1)',\n",
       " 'Twilight (The Twilight Saga, #1)',\n",
       " 'The Notebook (The Notebook, #1)',\n",
       " 'Perfect Chemistry (Perfect Chemistry, #1)',\n",
       " 'Outlander (Outlander, #1)',\n",
       " 'Jane Eyre',\n",
       " 'Thoughtless (Thoughtless, #1)',\n",
       " 'Bared to You (Crossfire, #1)',\n",
       " 'Easy (Contours of the Heart, #1)',\n",
       " 'Gone with the Wind',\n",
       " \"Gabriel's Inferno (Gabriel's Inferno, #1)\",\n",
       " \"The Time Traveler's Wife\",\n",
       " 'Slammed (Slammed, #1)',\n",
       " 'Anna and the French Kiss (Anna and the French Kiss, #1)',\n",
       " 'Vampire Academy (Vampire Academy, #1)',\n",
       " 'A Walk to Remember',\n",
       " 'Dark Lover (Black Dagger Brotherhood, #1)',\n",
       " 'Wuthering Heights',\n",
       " 'Hush, Hush (Hush, Hush, #1)',\n",
       " 'The Fault in Our Stars',\n",
       " 'Sense and Sensibility',\n",
       " 'Persuasion',\n",
       " 'The Host (The Host, #1)',\n",
       " 'Divergent (Divergent, #1)',\n",
       " 'City of Bones (The Mortal Instruments, #1)',\n",
       " 'Obsidian (Lux, #1)',\n",
       " 'Love Unscripted (Love, #1)',\n",
       " 'On the Island (On the Island, #1)',\n",
       " 'Hopeless (Hopeless, #1)',\n",
       " 'Memoirs of a Geisha',\n",
       " 'On Dublin Street (On Dublin Street, #1)',\n",
       " 'Shiver (The Wolves of Mercy Falls, #1)',\n",
       " 'Halfway to the Grave (Night Huntress, #1)',\n",
       " 'The Truth About Forever',\n",
       " 'The Bronze Horseman (The Bronze Horseman, #1)',\n",
       " 'Water for Elephants',\n",
       " 'Kiss an Angel',\n",
       " 'It Had to Be You (Chicago Stars, #1)',\n",
       " 'Reason to Breathe (Breathing, #1)',\n",
       " 'The Edge of Never (The Edge of Never, #1)',\n",
       " 'Emma',\n",
       " 'Flat-Out Love (Flat-Out Love, #1)',\n",
       " 'Leaving Paradise (Leaving Paradise, #1)',\n",
       " 'This Lullaby',\n",
       " 'Clockwork Angel (The Infernal Devices, #1)',\n",
       " 'A Kingdom of Dreams (Westmoreland, #1)',\n",
       " 'Matched (Matched, #1)',\n",
       " 'The Vincent Boys (The Vincent Boys, #1)',\n",
       " 'The DUFF: Designated Ugly Fat Friend (Hamilton High, #1)',\n",
       " 'Romeo and Juliet',\n",
       " 'Just the Sexiest Man Alive',\n",
       " 'Something About You (FBI/US Attorney, #1)',\n",
       " \"The Bride (Lairds' Fiancées, #1)\",\n",
       " 'Along for the Ride',\n",
       " 'The Summer I Turned Pretty (Summer, #1)',\n",
       " 'Mystery Man (Dream Man, #1)',\n",
       " 'Call Me Irresistible (Wynette, Texas, #6)',\n",
       " 'Significance (Significance, #1)',\n",
       " 'Bet Me',\n",
       " 'Breathe (Sea Breeze, #1)',\n",
       " 'Forbidden',\n",
       " 'Lover Eternal (Black Dagger Brotherhood, #2)',\n",
       " 'Natural Born Charmer (Chicago Stars, #7)',\n",
       " 'Shatter Me (Shatter Me, #1)',\n",
       " 'Can You Keep a Secret?',\n",
       " 'Naked in Death (In Death, #1)',\n",
       " 'The Gamble (Colorado Mountain, #1)',\n",
       " 'Sugar Daddy (Travises, #1)',\n",
       " 'The Sweet Gum Tree',\n",
       " 'The Thorn Birds',\n",
       " 'Wallbanger (Cocktail, #1)',\n",
       " 'Going Too Far',\n",
       " 'This Heart of Mine (Chicago Stars, #5)',\n",
       " \"Ain't She Sweet?\",\n",
       " \"Bridget Jones's Diary (Bridget Jones, #1)\",\n",
       " 'Me Before You (Me Before You, #1)',\n",
       " 'Playing for Keeps (Neighbor from Hell, #1)',\n",
       " 'Catching Jordan',\n",
       " 'Wait for You (Wait for You, #1)',\n",
       " 'Pushing the Limits (Pushing the Limits, #1)',\n",
       " 'Rock Chick (Rock Chick, #1)',\n",
       " 'Fallen Too Far (Rosemary Beach, #1; Too Far, #1)',\n",
       " 'Existence (Existence, #1)',\n",
       " \"Nobody's Baby But Mine (Chicago Stars, #3)\",\n",
       " 'Forget You',\n",
       " 'Lover Unbound (Black Dagger Brotherhood, #5)',\n",
       " 'The Sky Is Everywhere',\n",
       " 'The Madness of Lord Ian Mackenzie (Mackenzies & McBrides, #1)',\n",
       " 'Forever Mine (The Moreno Brothers, #1)',\n",
       " 'Devil in Winter (Wallflowers, #3)',\n",
       " 'Practice Makes Perfect',\n",
       " 'North and South',\n",
       " 'Fallen (Fallen, #1)',\n",
       " 'Delirium (Delirium, #1)',\n",
       " 'The Darkest Night (Lords of the Underworld, #1)',\n",
       " 'The Boy Who Sneaks in My Bedroom Window (The Boy Who Sneaks in My Bedroom Window, #1)',\n",
       " 'Lock and Key',\n",
       " 'The Perfect Play (Play by Play, #1)',\n",
       " 'Hex Hall (Hex Hall, #1)',\n",
       " 'That Boy (That Boy, #1)',\n",
       " 'Match Me If You Can (Chicago Stars, #6)',\n",
       " 'Heart on a Chain',\n",
       " \"Archer's Voice\",\n",
       " 'Slave to Sensation (Psy-Changeling, #1)',\n",
       " 'Goddess of Light (Goddess Summoning, #3)',\n",
       " 'Paradise (Second Opportunities, #1)',\n",
       " 'Honey Moon',\n",
       " 'Pleasure Unbound (Demonica, #1)',\n",
       " 'Redeeming Love',\n",
       " 'Cross My Heart (Cross My Heart, #1)',\n",
       " 'Heaven, Texas (Chicago Stars, #2)',\n",
       " 'Something Wonderful (Sequels, #2)',\n",
       " 'A Knight in Shining Armor (Montgomery/Taggert Family, #13)',\n",
       " 'Backstage Pass (Sinners on Tour, #1)',\n",
       " 'Mr. Perfect',\n",
       " 'Trust in Advertising',\n",
       " 'Rules of Protection (Tangled in Texas, #1)',\n",
       " 'Little Women',\n",
       " 'Taking Shots (Assassins, #1)',\n",
       " 'Vision in White (Bride Quartet, #1)',\n",
       " 'Vain (The Seven Deadly, #1)',\n",
       " 'Perfect You',\n",
       " 'Lady Be Good (Wynette, Texas, #2)',\n",
       " 'Dream a Little Dream (Chicago Stars, #4)',\n",
       " 'The Bridges of Madison County',\n",
       " 'Almost Heaven (Sequels, #3)',\n",
       " 'Perfect (Second Opportunities, #2)',\n",
       " 'The Deal (Off-Campus, #1)',\n",
       " 'P.S. I Love You (P.S. I Love You, #1)',\n",
       " 'A Discovery of Witches (All Souls, #1)',\n",
       " 'The Coincidence of Callie & Kayden (The Coincidence, #1)',\n",
       " 'Ugly Love',\n",
       " 'Secrets of a Summer Night (Wallflowers, #1)',\n",
       " \"The Secret (Highlands' Lairds, #1)\",\n",
       " 'Cry No More',\n",
       " 'Lover Mine (Black Dagger Brotherhood, #8)',\n",
       " 'Smooth Talking Stranger (Travises, #3)',\n",
       " 'Jewels of the Sun (Gallaghers of Ardmore, #1)',\n",
       " 'Unleashed (Ross Siblings, #1)',\n",
       " 'Lord of Scoundrels (Scoundrels, #3)',\n",
       " 'The Marriage Bargain (Marriage to a Billionaire, #1)',\n",
       " 'Romancing Mister Bridgerton (Bridgertons, #4)',\n",
       " 'Flowers from the Storm',\n",
       " 'Lover Avenged (Black Dagger Brotherhood, #7)',\n",
       " 'The Mighty Storm (The Storm, #1)',\n",
       " 'Kissed by an Angel/The Power of Love/Soulmates (Kissed by an Angel, #1-3)',\n",
       " 'Blue-Eyed Devil (Travises, #2)',\n",
       " 'Seduce Me at Sunrise (The Hathaways, #2)',\n",
       " 'Firelight (Firelight, #1)',\n",
       " 'Dreams Come True',\n",
       " 'After Forever Ends',\n",
       " 'Virgin River (Virgin River, #1)',\n",
       " 'Stardust',\n",
       " 'Rebecca',\n",
       " 'Northanger Abbey',\n",
       " 'The Duke and I (Bridgertons, #1)',\n",
       " \"Ransom (Highlands' Lairds, #2)\",\n",
       " 'Safe Haven',\n",
       " 'Dance Upon the Air (Three Sisters Island, #1)',\n",
       " 'Tangled (Tangled, #1)',\n",
       " 'Like Water for Chocolate',\n",
       " 'It Happened One Autumn (Wallflowers, #2)',\n",
       " 'Bloodlines (Bloodlines, #1)',\n",
       " \"I've Got Your Number\",\n",
       " \"Honor's Splendour\",\n",
       " 'Darkfever (Fever, #1)',\n",
       " 'Extreme Exposure (I-Team, #1)',\n",
       " 'Fantasy Lover (Hunter Legends, #1)',\n",
       " 'Love Auction: Too Risky to Love Again',\n",
       " 'Lover Revealed (Black Dagger Brotherhood, #4)',\n",
       " 'All The Wrong Reasons (Wrong Reasons, #1)',\n",
       " 'The Selection (The Selection, #1)',\n",
       " 'Morning Glory',\n",
       " \"Mackenzie's Mountain (Mackenzie Family, #1)\",\n",
       " 'Captive in the Dark (The Dark Duet, #1)',\n",
       " \"The Wedding (Lairds' Fiancées, #2)\",\n",
       " 'Montana Sky',\n",
       " \"Annie's Song\",\n",
       " 'The Secret of Ella and Micha (The Secret, #1)',\n",
       " 'Again the Magic (Wallflowers, #0)',\n",
       " 'First Lady (Wynette, Texas, #4)',\n",
       " 'The Sea of Tranquility',\n",
       " 'The Phantom of the Opera',\n",
       " 'Perfection (Neighbor from Hell, #2)',\n",
       " 'One Day',\n",
       " 'Some Girls Bite (Chicagoland Vampires, #1)',\n",
       " 'Real (Real, #1)',\n",
       " 'Tears of the Moon (Gallaghers of Ardmore, #2)',\n",
       " 'Love in the Afternoon (The Hathaways, #5)',\n",
       " 'Nine Rules to Break When Romancing a Rake (Love By Numbers, #1)',\n",
       " 'Scandal in Spring (Wallflowers, #4)',\n",
       " 'Taking Chances (Taking Chances, #1)',\n",
       " 'In Flight (Up in the Air, #1)',\n",
       " 'Not All You Need is Love',\n",
       " 'If I Stay (If I Stay, #1)',\n",
       " 'The Wolf and the Dove',\n",
       " 'The Next Always (Inn BoonsBoro Trilogy, #1)',\n",
       " 'Motorcycle Man (Dream Man, #4)',\n",
       " 'Dear John',\n",
       " 'Lothaire (Immortals After Dark, #11)',\n",
       " 'Kiss of the Highlander (Highlander, #4)',\n",
       " 'The Opportunist (Love Me with Lies, #1)',\n",
       " 'In Bed with a Highlander (McCabe Trilogy, #1)',\n",
       " 'Leave Me Breathless (Ross Siblings, #3)',\n",
       " 'Love Story (Love Story, #1)',\n",
       " 'Atonement',\n",
       " 'Lover Awakened (Black Dagger Brotherhood, #3)',\n",
       " 'Kiss of Snow (Psy-Changeling, #10)',\n",
       " 'Love on the Line 2 (Women at Work, #2)',\n",
       " 'The Last Song',\n",
       " 'After the Night',\n",
       " \"Dreaming of You (The Gamblers of Craven's, #2)\",\n",
       " 'Savor the Moment (Bride Quartet, #3)',\n",
       " 'The Darkest Surrender  (Lords of the Underworld, #8)',\n",
       " 'Kulti',\n",
       " 'Rock and a Hard Place (The Jamieson Collection, #1)',\n",
       " 'Boycotts & Barflies',\n",
       " 'Confess',\n",
       " 'The Princess Bride',\n",
       " 'The Hating Game',\n",
       " 'Dream Man',\n",
       " 'This Man (This Man, #1)',\n",
       " 'The Darkest Passion (Lords of the Underworld, #5)',\n",
       " 'Prince of Wolves (The Grey Wolves, #1)',\n",
       " 'Beautiful Bastard (Beautiful Bastard, #1)',\n",
       " 'Guilty Pleasures (Anita Blake, Vampire Hunter, #1)',\n",
       " 'Happy Ever After (Bride Quartet, #4)',\n",
       " 'Rock Chick Reckoning (Rock Chick, #6)',\n",
       " 'Rule (Marked Men, #1)',\n",
       " 'A Week to Be Wicked (Spindle Cove, #2)',\n",
       " 'Sweet Dreams (Colorado Mountain, #2)',\n",
       " 'Mine Till Midnight (The Hathaways, #1)',\n",
       " 'The Law of Attraction (Lawyers in Love, #1)',\n",
       " 'The Lucky One',\n",
       " 'Rules of Attraction (Perfect Chemistry, #2)',\n",
       " 'Bed of Roses (Bride Quartet, #2)',\n",
       " 'Saving Grace',\n",
       " 'Beautiful Creatures (Caster Chronicles, #1)',\n",
       " 'Welcome to Temptation (Dempseys, #1)',\n",
       " 'Dark Prince (Dark, #1)',\n",
       " 'Crash (Crash, #1)',\n",
       " 'Tempt Me at Twilight (The Hathaways, #3)',\n",
       " 'Flat-Out Sexy (Fast Track, #1)',\n",
       " 'Dead Until Dark (Sookie Stackhouse, #1)',\n",
       " 'Carolina Moon',\n",
       " 'Sea Swept (Chesapeake Bay Saga, #1)',\n",
       " 'The Night Circus',\n",
       " 'Making Faces',\n",
       " 'Whitney, My Love (Westmoreland, #2)',\n",
       " 'Unearthly (Unearthly, #1)',\n",
       " 'Sophie & Carter',\n",
       " 'Fury (New Species, #1)',\n",
       " 'Hearts in Darkness (Hearts in Darkness, #1)',\n",
       " 'Suddenly You',\n",
       " 'The Flame and the Flower (Birmingham, #1)',\n",
       " 'Sempre (Sempre, #1)',\n",
       " 'The V Girl: a Coming of Age Story',\n",
       " 'Angels Fall',\n",
       " 'Seduction and Snacks (Chocolate Lovers, #1)',\n",
       " \"The Lion's Lady (Crown's Spies, #1)\",\n",
       " 'Married by Morning (The Hathaways, #4)',\n",
       " 'Tribute',\n",
       " 'Seduction of a Highland Lass (McCabe Trilogy, #2)',\n",
       " 'Tempting the Best Man (Gamble Brothers, #1)',\n",
       " 'The Wall of Winnipeg and Me',\n",
       " 'Lover Unleashed (Black Dagger Brotherhood, #9)',\n",
       " \"Wicked Deeds on a Winter's Night (Immortals After Dark, #3)\",\n",
       " 'Ten Tiny Breaths (Ten Tiny Breaths, #1)',\n",
       " 'The Raven Prince (Princes Trilogy, #1)',\n",
       " 'Mansfield Park',\n",
       " 'Because of Low (Sea Breeze, #2)',\n",
       " 'When Beauty Tamed the Beast (Fairy Tales, #2)',\n",
       " 'Fangirl',\n",
       " 'Maybe Someday (Maybe, #1)',\n",
       " 'The Great Gatsby',\n",
       " 'A Rose in Winter',\n",
       " 'Eleanor & Park',\n",
       " 'Romero (The Moreno Brothers, #4)',\n",
       " 'Scandalous Desires (Maiden Lane, #3)',\n",
       " 'Knight (Unfinished Hero, #1)',\n",
       " 'The Many Sins of Lord Cameron (MacKenzies & McBrides, #3)',\n",
       " 'The Viscount Who Loved Me (Bridgertons, #2)',\n",
       " 'Gone Too Far (Troubleshooters, #6)',\n",
       " 'Inescapable (The Premonition, #1)',\n",
       " 'What I Did for Love (Wynette, Texas, #5)',\n",
       " 'The Grand Sophy',\n",
       " 'Lucca (Made Men, #4)',\n",
       " 'Graceling (Graceling Realm, #1)',\n",
       " 'Collide (Collide, #1)',\n",
       " 'Never Love a Highlander (McCabe Trilogy, #3)',\n",
       " 'Stray (Shifters, #1)',\n",
       " 'Unwritten Rules',\n",
       " 'Beyond the Highland Mist (Highlander, #1)',\n",
       " 'Carnal Innocence',\n",
       " 'Naked (The Blackstone Affair, #1)',\n",
       " 'Fancy Pants (Wynette, Texas, #1)',\n",
       " 'Falling into You (Falling, #1)',\n",
       " 'Play (Stage Dive, #2)',\n",
       " \"A Queen's Spy (The Tudor Mystery Trials #1)\",\n",
       " 'Hidden Away (KGI, #3)',\n",
       " 'Providence (Providence, #1)',\n",
       " 'No Place to Run (KGI, #2)',\n",
       " 'A Rather Unusual Romance',\n",
       " 'The Villain (Boston Belles, #2)',\n",
       " 'A Town Like Alice',\n",
       " 'The Last Boyfriend (Inn BoonsBoro Trilogy, #2)',\n",
       " 'The Prize',\n",
       " 'Key of Knowledge (Key Trilogy, #2)',\n",
       " 'Birthday Girl',\n",
       " 'Come Away with Me (With Me in Seattle, #1)',\n",
       " 'Wildalone (Wildalone Sagas, #1)',\n",
       " 'Mistress Suffragette',\n",
       " 'Yours Truly, Taddy (The Undergrad Years, #2; Invitation to Eden, #1)',\n",
       " 'Three Fates',\n",
       " 'The Unbecoming of Mara Dyer (Mara Dyer, #1)',\n",
       " 'Night Pleasures (Dark-Hunter, #1)',\n",
       " 'Take This Regret (Take This Regret, #1)',\n",
       " 'Half-Blood (Covenant, #1)',\n",
       " 'A Lot like Love (FBI/US Attorney, #2)',\n",
       " 'Love on the Line (Women at Work, #1)',\n",
       " 'The Darkest Lie (Lords of the Underworld, #6)',\n",
       " 'Glitter Baby (Wynette, Texas, #3)',\n",
       " 'Stolen Soulmate (Crowne Point #2)',\n",
       " 'Son of the Morning',\n",
       " 'The Beast in Him (Pride, #2)',\n",
       " 'Visions of Heat (Psy-Changeling, #2)',\n",
       " 'A Court of Thorns and Roses (A Court of Thorns and Roses, #1)',\n",
       " 'The Nanny Song',\n",
       " 'Looking for Alaska',\n",
       " \"Corelli's Mandolin\",\n",
       " 'Lover Enshrined (Black Dagger Brotherhood, #6)',\n",
       " 'Frederica',\n",
       " 'Just Listen',\n",
       " 'Rush (Breathless, #1)',\n",
       " 'True Betrayals',\n",
       " 'Much Ado About Nothing',\n",
       " 'Nights in Rodanthe',\n",
       " 'Katherine',\n",
       " 'While It Lasts (Sea Breeze, #3)',\n",
       " 'The Marriage Trap (Marriage to a Billionaire, #2)',\n",
       " 'Beautiful Player (Beautiful Bastard, #3)',\n",
       " 'On the Way to the Wedding (Bridgertons, #8)',\n",
       " 'Losing Hope (Hopeless, #2)',\n",
       " 'The Grunt 1 (The Lonely Hearts, #3)',\n",
       " 'The Blue Castle',\n",
       " \"It's in His Kiss (Bridgertons, #7)\",\n",
       " 'Demon from the Dark (Immortals After Dark, #9)',\n",
       " 'Bully (Fall Away, #1)',\n",
       " 'Beyond Nostalgia',\n",
       " 'Rising Tides (Chesapeake Bay Saga, #2)',\n",
       " 'Nauti Boy (Nauti, #1)',\n",
       " 'A Bend in the Road',\n",
       " 'It Ends with Us (It Ends with Us, #1)',\n",
       " 'Surrender (MacKinnon’s Rangers,  #1)',\n",
       " 'Beautiful Stranger (Beautiful Bastard, #2)',\n",
       " 'Down to You (The Bad Boys, #1)',\n",
       " 'Avoiding Commitment (Avoiding, #1)',\n",
       " 'Love, Rosie',\n",
       " 'Honest Illusions',\n",
       " 'Slade (New Species, #2)',\n",
       " 'Losing It (Losing It, #1)',\n",
       " 'When He Was Wicked (Bridgertons, #6)',\n",
       " 'For the Roses (Rose, #1)',\n",
       " 'The Winter Sea (Slains, #1)',\n",
       " 'Open Season',\n",
       " 'Moon Called (Mercy Thompson, #1)',\n",
       " 'Opposites Attract (First Comes Love, #1)',\n",
       " 'The Dark Highlander (Highlander, #5)',\n",
       " 'Trust: A New Beginning (Trust Trilogy, #1)',\n",
       " 'Whispers in the Dark (KGI, #4)',\n",
       " \"Eleven Scandals to Start to Win a Duke's Heart (Love By Numbers, #3)\",\n",
       " 'Neanderthal Seeks Human (Knitting in the City, #1)',\n",
       " 'Forsaken (The Secret Life of Amy Bensen, #3)',\n",
       " 'To Die For (Blair Mallory, #1)',\n",
       " 'The Warlord Wants Forever (Immortals After Dark, #0.5)',\n",
       " 'One for the Money (Stephanie Plum, #1)',\n",
       " 'If I Were You (Inside Out, #1)',\n",
       " 'The Mane Squeeze (Pride, #4)',\n",
       " 'Tempting the Beast (Breeds, #1; Feline Breeds, #1)',\n",
       " 'Dragon Bound (Elder Races, #1)',\n",
       " \"Devil's Bride (Cynster, #1)\",\n",
       " 'The Darkest Whisper (Lords of the Underworld, #4)',\n",
       " 'Big Bad Beast (Pride, #6)',\n",
       " \"Then Came You (The Gamblers of Craven's, #1)\",\n",
       " 'The Witness',\n",
       " 'Broken Promises (Past Imperfect Mystery, #1)',\n",
       " 'Nevermore (Nevermore, #1)',\n",
       " 'Ravished',\n",
       " 'The Undomestic Goddess',\n",
       " 'Notice Me',\n",
       " \"Morrigan's Cross (Circle Trilogy, #1)\",\n",
       " 'The Darkest Secret (Lords of the Underworld, #7)',\n",
       " 'Die for Me (Revenants, #1)',\n",
       " 'The Duke of Shadows',\n",
       " 'Play It Safe',\n",
       " 'Comanche Moon (Comanche, #1)',\n",
       " 'Come Back to Me (Come Back to Me, #1)',\n",
       " 'Rock Me (Ross Siblings, #2)',\n",
       " 'The Immortal Highlander (Highlander, #6)',\n",
       " 'Slightly Dangerous (Bedwyn Saga, #6)',\n",
       " 'Cinder (The Lunar Chronicles, #1)',\n",
       " 'Under the Never Sky (Under the Never Sky, #1)',\n",
       " 'Lover at Last (Black Dagger Brotherhood, #11)',\n",
       " 'Beast Behaving Badly (Pride, #5)',\n",
       " 'Callum & Harper (Sleepless, #1)',\n",
       " 'The Hunger Games (The Hunger Games, #1)',\n",
       " 'The Scarlet Pimpernel',\n",
       " 'That Girl, Darcy: A Pride and Prejudice Story',\n",
       " 'Tall, Tatted and Tempting (The Reed Brothers, #1)',\n",
       " 'The Score (Off-Campus, #3)',\n",
       " 'Sweet Sofie (The Moreno Brothers, #3)',\n",
       " 'The Black Lyon (Montgomery/Taggert, #1)',\n",
       " 'Arouse (Spiral of Bliss, #1)',\n",
       " 'Strangers',\n",
       " 'Hometown Girl Forever (Hometown, #3)',\n",
       " 'The Magic of You (Malory-Anderson Family, #4)',\n",
       " 'Hometown Girl After All (Hometown, #2)',\n",
       " \"Angels' Blood (Guild Hunter, #1)\",\n",
       " 'Lick (Stage Dive, #1)',\n",
       " 'Poison Study (Study, #1)',\n",
       " 'Driven (Driven, #1)',\n",
       " 'Where Dreams Begin',\n",
       " 'No Rest for the Wicked (Immortals After Dark, #2)',\n",
       " 'The Golden Dynasty (Fantasyland, #2)',\n",
       " 'Pleasure of a Dark Prince (Immortals After Dark, #8)',\n",
       " \"The Spymaster's Lady (Spymasters, #1)\",\n",
       " \"At Peace (The 'Burg, #2)\",\n",
       " 'Ten Ways to Be Adored When Landing a Lord (Love By Numbers, #2)',\n",
       " \"Untamed (MacKinnon's Rangers, #2)\",\n",
       " 'Shadows (Lux, #0.5)',\n",
       " 'Just One Drop (The Grey Wolves, #3)',\n",
       " 'The Guardian',\n",
       " 'Beautifully Damaged (Beautifully Damaged, #1)',\n",
       " 'Christmas in Smithville (Hometown, #4)',\n",
       " 'Hometown Girl at Heart (Hometown, #1)',\n",
       " \"Tiger's Curse (The Tiger Saga, #1)\",\n",
       " 'Not Quite a Husband (The Marsdens, #2)',\n",
       " 'An Offer From a Gentleman (Bridgertons, #3)',\n",
       " 'The Mane Attraction (Pride, #3)',\n",
       " 'Birthright',\n",
       " 'Release Me (Stark Trilogy, #1)',\n",
       " \"The Gift (Crown's Spies, #3)\",\n",
       " 'Kiss of Midnight (Midnight Breed,  #1)',\n",
       " 'Angelfall (Penryn & the End of Days, #1)',\n",
       " 'Anna Karenina',\n",
       " 'Hostage to Pleasure (Psy-Changeling, #5)',\n",
       " 'Edenbrooke (Edenbrooke, #1)',\n",
       " 'Lover Reborn (Black Dagger Brotherhood, #10)',\n",
       " 'What I Did for a Duke (Pennyroyal Green, #5)',\n",
       " 'Caged',\n",
       " 'Inside Out (Brown Family, #3)',\n",
       " 'Texas! Lucky (Texas! Tyler Family Saga, #1)',\n",
       " 'Home for Christmas (Christmas Romantic Comedy, #3)',\n",
       " 'Love, Lex (The Undergrad Years, #1)',\n",
       " 'Un Aquilone di Farfalle: Romanzo',\n",
       " 'Venetia',\n",
       " 'The Vincent Brothers (The Vincent Boys, #2)',\n",
       " 'Hometown Girl Again (Hometown, #5)',\n",
       " 'Blue Bloods (Blue Bloods, #1)',\n",
       " 'The Reef',\n",
       " 'The Kiss Quotient (The Kiss Quotient, #1)',\n",
       " 'Cry Wolf (Alpha & Omega, #1)',\n",
       " 'The Darkest Hour (KGI, #1)',\n",
       " 'Sweet Filthy Boy (Wild Seasons, #1)',\n",
       " \"Appetizers (The Winemaker's Dinner, #1)\",\n",
       " \"Gibson's Legacy (Last Score, #1)\",\n",
       " 'Own the Wind (Chaos, #1)',\n",
       " 'A Wallflower Christmas (Wallflowers, #4.5)',\n",
       " \"Enough Isn't Everything (The Everything Trilogy #1)\",\n",
       " 'Angel (Angel, #1)',\n",
       " 'Wicked Intentions (Maiden Lane, #1)',\n",
       " 'The Billionaire Wins the Game (Billionaire Bachelors, #1)',\n",
       " 'Public Secrets',\n",
       " 'The Guernsey Literary and Potato Peel Pie Society',\n",
       " 'If You Deceive (MacCarrick Brothers, #3)',\n",
       " 'Vicious (Sinners of Saint, #1)',\n",
       " 'My One and Only',\n",
       " 'Starcrossed (Starcrossed, #1)',\n",
       " 'A Reclusive Heart (Hollywood Hearts, #2)',\n",
       " 'Dance with the Devil (Dark-Hunter, #3)',\n",
       " 'About That Night (FBI/US Attorney, #3)',\n",
       " 'The Leopard Prince (Princes Trilogy, #2)',\n",
       " 'Mercy (Mercy, #1)',\n",
       " 'Seven Days with You',\n",
       " 'Into the Wilderness (Wilderness, #1)',\n",
       " 'The Darkest Seduction (Lords of the Underworld, #9)',\n",
       " 'The Goddess Test (Goddess Test, #1)',\n",
       " 'Double Clutch (Brenna Blixen, #1)',\n",
       " 'Beard in Mind (Winston Brothers, #4)',\n",
       " 'The Wedding (The Notebook, #2)',\n",
       " 'Something Borrowed (Darcy & Rachel, #1)',\n",
       " 'Every Day (Every Day, #1)',\n",
       " \"To All the Boys I've Loved Before (To All the Boys I've Loved Before, #1)\",\n",
       " 'Message in a Bottle',\n",
       " 'Hard and Fast (Fast Track, #2)',\n",
       " 'Giving Chase (Chase Brothers, #1)',\n",
       " 'Fugly (Fugly, #1)',\n",
       " 'Breaking Point (I-Team, #5)',\n",
       " 'Call Me By Your Name (Call Me By Your Name, #1)',\n",
       " 'A Hunger Like No Other (Immortals After Dark, #1)',\n",
       " 'The Simple Wild (Wild, #1)',\n",
       " 'A Certain Slant of Light (Light, #1)',\n",
       " 'Between the Lines (Between the Lines, #1)',\n",
       " 'Radiance (Wraith Kings, #1)',\n",
       " 'The Great Escape (Wynette, Texas, #7)',\n",
       " 'Fire of Stars and Dragons (Stars and Souls, #1)',\n",
       " 'Exit Unicorns',\n",
       " 'Kissing Under the Mistletoe (San Francisco Sullivans, #9; The Sullivans, #9)',\n",
       " 'The Longest Ride',\n",
       " 'Trancing the Tiger (Chinese Zodiac Romance, #1)',\n",
       " 'Shelter Mountain (Virgin River, #2)',\n",
       " \"Nick & Norah's Infinite Playlist\",\n",
       " 'Lady Luck (Colorado Mountain, #3)',\n",
       " 'November 9',\n",
       " 'Rubinrot (Edelstein-Trilogie, #1)',\n",
       " 'The Unsung Hero (Troubleshooters, #1)',\n",
       " 'El Diablo II (El Diablo, #2)',\n",
       " 'Girl with a Pearl Earring',\n",
       " 'Chesapeake Blue (Chesapeake Bay Saga, #4)',\n",
       " \"A Seacat's Love\",\n",
       " 'When a Scot Ties the Knot (Castles Ever After, #3)',\n",
       " 'Every Breath You Take (Second Opportunities, #4)',\n",
       " 'Fallen in Love (Fallen, #3.5)',\n",
       " 'The Air He Breathes (Elements, #1)',\n",
       " 'Heartbreaker (Buchanan-Renard, #1)',\n",
       " 'Midnight Awakening (Midnight Breed, #3)',\n",
       " 'Red, White & Royal Blue',\n",
       " 'The Rosie Project (Don Tillman, #1)',\n",
       " 'The Rose Garden',\n",
       " \"You Don't Have to Say You Love Me\",\n",
       " 'Willing Captive',\n",
       " 'Falling Under (Falling Under, #1)',\n",
       " 'Dancing on Coals',\n",
       " 'Stepbrother Dearest',\n",
       " 'Vicious Circles (Wrong Reasons, #2)',\n",
       " 'From Lukov with Love',\n",
       " 'Poughkeepsie (Poughkeepsie Brotherhood, #1)',\n",
       " 'Trying to Score (Assassins, #2)',\n",
       " 'Lead (Stage Dive, #3)',\n",
       " 'Lola and the Boy Next Door (Anna and the French Kiss, #2)',\n",
       " 'Sweet Release (Blakewell/Kenleigh Family Trilogy, #1)',\n",
       " 'Last Sacrifice (Vampire Academy, #6)',\n",
       " 'Breathe (Colorado Mountain, #4)',\n",
       " 'The Wreck',\n",
       " 'Aristotle and Dante Discover the Secrets of the Universe (Aristotle and Dante, #1)',\n",
       " 'Wings (Wings, #1)',\n",
       " 'All My Life (First Things, #1)',\n",
       " 'Written in Red (The Others, #1)',\n",
       " 'The Tenant of Wildfell Hall',\n",
       " \"The Trouble With Valentine's Day (Chinooks Hockey Team, #3)\",\n",
       " 'Inner Harbor (Chesapeake Bay Saga, #3)',\n",
       " 'Born in Shame (Born In Trilogy, #3)',\n",
       " 'Rainwater',\n",
       " 'My Life Next Door',\n",
       " 'The Perfect Hope (Inn Boonsboro Trilogy, #3)',\n",
       " 'Ella Enchanted (Ella Enchanted, #1)',\n",
       " 'The Marriage Mistake (Marriage to a Billionaire, #3)',\n",
       " 'The Iron King (The Iron Fey, #1)',\n",
       " 'Heart of the Sea (Gallaghers of Ardmore, #3)',\n",
       " 'Perfectly Imperfect',\n",
       " 'Beautifully Cruel (Beautifully Cruel, #1)',\n",
       " 'Never Never (Never Never, #1)',\n",
       " 'Highland Velvet (Velvet Montgomery Annuals Tetralogy #2)',\n",
       " 'The Best of Me',\n",
       " 'The Governess Affair (Brothers Sinister, #0.5)',\n",
       " 'Him (Him, #1)',\n",
       " 'Confessions of a Shopaholic (Shopaholic, #1)',\n",
       " 'Crocodile on the Sandbank (Amelia Peabody #1)',\n",
       " 'Somewhere In Time',\n",
       " 'Line of Scrimmage',\n",
       " 'Ashes in the Wind',\n",
       " 'So Over You',\n",
       " 'Love with Every Beat',\n",
       " 'Norwegian Wood',\n",
       " 'Now You See Her',\n",
       " 'Scarlet (The Lunar Chronicles, #2)',\n",
       " 'A Rogue by Any Other Name (The Rules of Scoundrels, #1)',\n",
       " 'Master of the Mountain (Mountain Masters & Dark Haven, #1)',\n",
       " 'Charade (Games, #1)',\n",
       " 'The Iron Duke (Iron Seas, #1)',\n",
       " 'Cold Mountain',\n",
       " 'Passion (Passion Quartet, #1)',\n",
       " 'Law Man (Dream Man, #3)',\n",
       " 'See Jane Score (Chinooks Hockey Team, #2)',\n",
       " 'Landline',\n",
       " 'Valiant (New Species, #3)',\n",
       " \"Warrior's Woman (Ly-San-Ter, #1)\",\n",
       " 'For the Love of Armin',\n",
       " 'Where You Are (Between the Lines, #2)',\n",
       " 'Yours Until Dawn',\n",
       " 'Mercy (Buchanan-Renard, #2)',\n",
       " 'The Look of Love (San Francisco Sullivans, #1; The Sullivans, #1)',\n",
       " 'Love, Eternally (Roman Time Travel, #1)',\n",
       " 'The Fiery Cross (Outlander, #5)',\n",
       " 'Where I Need to Be (B&S, #1)',\n",
       " \"Dark Witch (The Cousins O'Dwyer Trilogy, #1)\",\n",
       " 'Branded by Fire (Psy-Changeling, #6)',\n",
       " \"Guardian Angel (Crown's Spies, #2)\",\n",
       " 'Les Misérables',\n",
       " 'Wanted (Wanted, #1)',\n",
       " 'Beastly (Beastly, #1; Kendra Chronicles, #1)',\n",
       " 'I Have Never (First Comes Love, #2)',\n",
       " 'Heaven and Earth (Three Sisters Island, #2)',\n",
       " 'Immortal Matchmakers, Inc. (Immortal Matchmakers, #1)',\n",
       " 'Ten Things I Love About You (Bevelstoke, #3)',\n",
       " 'Your Bloods Eve',\n",
       " 'New Moon (The Twilight Saga, #2)',\n",
       " 'No Chance (Last Chance Rescue, #4)',\n",
       " 'Wicked Lovely (Wicked Lovely, #1)',\n",
       " 'Because of Miss Bridgerton (Rokesbys, #1)',\n",
       " 'Sing Me to Sleep',\n",
       " 'Forgive My Fins (Fins, #1)',\n",
       " 'After the Fall (Roman Time Travel, #2)',\n",
       " 'Once and Always (Sequels, #1)',\n",
       " \"Frenchman's Creek\",\n",
       " 'Just Like Heaven (Smythe-Smith Quartet, #1)',\n",
       " 'The Winter Rose (The Tea Rose, #2)',\n",
       " 'Jackson Rule',\n",
       " 'Transcendence (Transcendence, #1)',\n",
       " 'Grey (Fifty Shades as Told by Christian, #1)',\n",
       " 'Attachments',\n",
       " 'Destiny Binds (Timber Wolves Trilogy, #1)',\n",
       " 'Not Another Bad Date (Writer Friends, #4)',\n",
       " 'Simple Jess (Tales from Marrying Stone, #2)',\n",
       " 'Down London Road (On Dublin Street, #2)',\n",
       " 'Island of the Swans',\n",
       " 'What Happens in London (Bevelstoke, #2)',\n",
       " 'Dark Desires After Dusk (Immortals After Dark, #5)',\n",
       " \"I'll Give You the Sun\",\n",
       " 'An Abundance of Katherines',\n",
       " 'Out of the Dark (The Grey Wolves, #4)',\n",
       " 'Temptation (Temptation, #1)',\n",
       " 'Rescue Me (Last Chance Rescue, #1)',\n",
       " \"Castles (Crown's Spies #4)\",\n",
       " 'The Mistake (Off-Campus, #2)',\n",
       " 'Mockingjay (The Hunger Games, #3)',\n",
       " 'Let it Snow',\n",
       " 'The Velvet Promise (Velvet Montgomery Annuals Tetralogy #1)',\n",
       " 'Austenland (Austenland, #1)',\n",
       " 'Fires of Winter (Haardrad Viking Family, #1)',\n",
       " 'Eternal Eden (Eden Trilogy, #1)',\n",
       " \"Can't Help Falling in Love (San Francisco Sullivans, #3; The Sullivans, #3)\",\n",
       " 'The Choice',\n",
       " 'Making Chase (Chase Brothers, #4)',\n",
       " 'Gaudy Night (Lord Peter Wimsey, #12)',\n",
       " \"Baby, I'm Yours\",\n",
       " 'Born in Fire (Born In Trilogy, #1)',\n",
       " 'Punk 57',\n",
       " 'Soulless (Parasol Protectorate, #1)',\n",
       " 'Out of the Box Awakening (Out of the Box, #1)',\n",
       " 'Chasing Midnight (The Darkest Desires of Dixie, #1)',\n",
       " 'Adventures in Trichology',\n",
       " 'Cotillion',\n",
       " 'The Secret Diaries of Miss Miranda Cheever (Bevelstoke, #1)',\n",
       " 'Succubus Blues (Georgina Kincaid, #1)',\n",
       " 'Simply Irresistible (Lucky Harbor, #1)',\n",
       " 'Unravel Me (Shatter Me, #2)',\n",
       " 'A Night Like This (Smythe-Smith Quartet, #2)',\n",
       " 'Friend-Zoned (Friend-Zoned, #1)',\n",
       " 'Hereditary (Beatrice Harrow, #1)',\n",
       " 'Lawless (Long, Tall Texans #23)',\n",
       " \"My Wolf's Bane (Shapes of Autumn, #1)\",\n",
       " 'To Tame a Highland Warrior (Highlander, #2)',\n",
       " 'Treading Water (Treading Water, #1)',\n",
       " 'Love in the Time of Cholera',\n",
       " 'Definitely Dead (Sookie Stackhouse, #6)',\n",
       " 'Once Burned (Night Prince, #1)',\n",
       " 'No Good Duke Goes Unpunished (The Rules of Scoundrels, #3)',\n",
       " 'Craving Constellations (The Aces, #1)',\n",
       " 'Be My Baby (Baby, #2)',\n",
       " 'Crazy Rich Asians (Crazy Rich Asians, #1)',\n",
       " 'A Humble Heart (Hollywood Hearts, #1)',\n",
       " 'Captive Prince: Volume Two (Captive Prince, #2)',\n",
       " 'Chain Reaction (Perfect Chemistry, #3)',\n",
       " 'Force of Nature (Troubleshooters, #11)',\n",
       " 'Requiem (Delirium, #3)',\n",
       " 'Play with Me (With Me in Seattle, #3)',\n",
       " 'The Mating  (Law of the Lycans, #1)',\n",
       " 'Out of Control (Troubleshooters, #4)',\n",
       " 'Face the Fire (Three Sisters Island, #3)',\n",
       " 'Savor the Danger (Men Who Walk the Edge of Honor, #3)',\n",
       " 'To Sir Phillip, With Love (Bridgertons, #5)',\n",
       " 'Storm and Silence (Storm and Silence, #1)',\n",
       " 'The Song of Achilles',\n",
       " 'Fight with Me (With Me in Seattle, #2)',\n",
       " 'Beautiful Oblivion (The Maddox Brothers, #1)',\n",
       " 'Paper Towns',\n",
       " \"Tess of the D'Urbervilles\",\n",
       " 'Say Yes to the Marquess (Castles Ever After, #2)',\n",
       " 'Beauty and the Beast',\n",
       " 'Sweet Revenge (Last Chance Rescue, #8)',\n",
       " 'Marked (House of Night, #1)',\n",
       " 'Dead and Gone (Sookie Stackhouse, #9)',\n",
       " 'Under Locke',\n",
       " 'The Witch of Blackbird Pond',\n",
       " 'Possession',\n",
       " \"The Duke's Perfect Wife (MacKenzies & McBrides, #4)\",\n",
       " 'Unveiled (Turner, #1)',\n",
       " 'The Waking (Ruin, #1)',\n",
       " 'Never Seduce a Scot (The Montgomerys and Armstrongs, #1)',\n",
       " 'Christy',\n",
       " 'Prodigy (Legend, #2)',\n",
       " 'Unbeautifully (Undeniable, #2)',\n",
       " 'Sweet Justice (Last Chance Rescue, #7)',\n",
       " 'Royally Screwed (Royally, #1)',\n",
       " 'If You Desire (MacCarrick Brothers, #2)',\n",
       " 'Fallen Crest High (Fallen Crest High, #1)',\n",
       " 'Forever (The Wolves of Mercy Falls, #3)',\n",
       " 'Murder List (Buchanan-Renard #4)',\n",
       " \"Somebody to Love (Gideon's Cove, #3)\",\n",
       " 'Black Lies',\n",
       " 'The Unidentified Redhead (Redhead, #1)',\n",
       " 'Truly Madly Yours (Truly, Idaho, #1)',\n",
       " 'Red Queen (Red Queen, #1)',\n",
       " 'Bear Necessities (Halle Shifters, #1)',\n",
       " 'Sweet Reward (Last Chance Rescue, #9)',\n",
       " \"Dash & Lily's Book of Dares (Dash & Lily, #1)\",\n",
       " 'Crescendo (Hush, Hush, #2)',\n",
       " 'Angles - Part I',\n",
       " 'Mirage',\n",
       " 'The Masqueraders',\n",
       " 'Remembrance',\n",
       " 'Ashes of Midnight (Midnight Breed, #6)',\n",
       " 'Perfect Timing (Kendrick/Coulter/Harrigan, #11)',\n",
       " 'The Champion',\n",
       " 'Caught',\n",
       " 'Roomies',\n",
       " 'One Plus One',\n",
       " 'The Scribbler Guardian (Arks Of Octava #1)',\n",
       " 'Splintered Courage',\n",
       " 'Mine to Possess (Psy-Changeling, #4)',\n",
       " 'Price of a Kiss (Forbidden Men, #1)',\n",
       " 'The Bride Test (The Kiss Quotient, #2)',\n",
       " \"I'd Tell You I Love You, But Then I'd Have to Kill You (Gallagher Girls, #1)\",\n",
       " 'Hidden Riches',\n",
       " 'Veil of Midnight (Midnight Breed, #5)',\n",
       " 'Wrong (Cafe, #1)',\n",
       " 'Over the Edge (Troubleshooters, #3)',\n",
       " 'Origin (Lux, #4)',\n",
       " 'Exclusively Yours (Kowalski Family, #1)',\n",
       " 'Halo (Halo, #1)',\n",
       " 'The Gladiator',\n",
       " 'The Idea of You',\n",
       " 'Empire of Storms (Throne of Glass, #5)',\n",
       " 'Fifteen Weekends',\n",
       " \"Faro's Daughter\",\n",
       " 'Hot Target (Troubleshooters, #8)',\n",
       " \"Reaper's Property (Reapers MC, #1)\",\n",
       " 'Dirty (Dive Bar, #1)',\n",
       " 'Days of Blood & Starlight (Daughter of Smoke & Bone, #2)',\n",
       " 'Unteachable',\n",
       " 'If You Dare (MacCarrick Brothers, #1)',\n",
       " 'When You Dare (Men Who Walk the Edge of Honor, #1)',\n",
       " 'Arabella',\n",
       " 'The Raven Boys (The Raven Cycle, #1)',\n",
       " 'Spirit Bound (Vampire Academy, #5)',\n",
       " 'Remember Me?',\n",
       " 'The Gravity of Us (Elements, #4)',\n",
       " 'The Shell Seekers',\n",
       " 'Reached (Matched, #3)',\n",
       " 'Hot Shot',\n",
       " \"Amy & Roger's Epic Detour\",\n",
       " 'One Foot in the Grave (Night Huntress, #2)',\n",
       " 'Clockwork Prince (The Infernal Devices, #2)',\n",
       " 'City of Fallen Angels (The Mortal Instruments, #4)',\n",
       " 'Crown of Midnight (Throne of Glass, #2)',\n",
       " 'Velvet Song (Velvet Montgomery Annuals Tetralogy  #3)',\n",
       " 'Carry On (Simon Snow, #1)',\n",
       " 'Father Mine (Black Dagger Brotherhood, #6.5)',\n",
       " 'Shanna',\n",
       " 'One Night Promised',\n",
       " 'An Ember in the Ashes (An Ember in the Ashes, #1)',\n",
       " 'Liberating Lacey',\n",
       " 'Goddess of the Hunt (The Wanton Dairymaid Trilogy, #1)',\n",
       " 'Dreamfever (Fever, #4)',\n",
       " 'Daughter of the Forest  (Sevenwaters, #1)',\n",
       " 'Yours to Keep (Kowalski Family, #3)',\n",
       " 'Lord of the Abyss (Royal House of Shadows, #4)',\n",
       " 'Redeeming Zorus (Cyborg Seduction, #6)',\n",
       " 'The Chief (Highland Guard, #1)',\n",
       " 'The Protector',\n",
       " 'Unraveled (Turner, #3)',\n",
       " 'Truth or Beard (Winston Brothers, #1)',\n",
       " 'Grand Passion',\n",
       " 'Geek Girl',\n",
       " 'Rilla of Ingleside (Anne of Green Gables, #8)',\n",
       " 'Lord of the Fading Lands (Tairen Soul, #1)',\n",
       " 'The Far Pavilions',\n",
       " 'Unscrupulous (The Manhattanites, #1)',\n",
       " 'Tuck Everlasting',\n",
       " 'Howards End',\n",
       " 'Run to Me (Last Chance Rescue, #3)',\n",
       " 'Allegiant (Divergent, #3)',\n",
       " 'Abandon (Abandon, #1)',\n",
       " 'Onyx (Lux, #2)',\n",
       " \"Ral's Woman (Zorn Warriors, #1)\",\n",
       " 'Heartless',\n",
       " 'The Upside of Unrequited (Simonverse, #2)',\n",
       " 'Wildest Dreams (Fantasyland, #1)',\n",
       " 'The Distance Between Us (Old Town Shops #1)',\n",
       " 'Consequences (Consequences, #1)',\n",
       " 'Point of Retreat (Slammed, #2)',\n",
       " 'City of Heavenly Fire (The Mortal Instruments, #6)',\n",
       " 'Dangerous Games (Tempting SEALs, #2)',\n",
       " 'Remember When (Foster Saga, #1)',\n",
       " 'The Future of Our Past (The Remembrance Trilogy, #1)',\n",
       " 'A Kiss at Midnight (Fairy Tales, #1)',\n",
       " 'Dom Wars: Round One (Dom Wars, #1)',\n",
       " 'Keeping Promise Rock (Promises, #1)',\n",
       " 'Twisted Perfection (Rosemary Beach, #5; Perfection, #1)',\n",
       " 'Living Dead in Dallas (Sookie Stackhouse, #2)',\n",
       " 'Long Hard Ride (Rough Riders, #1)',\n",
       " 'Sweet Revenge',\n",
       " 'Hot Head (Head #1)',\n",
       " 'Rock with Me (With Me in Seattle, #4)',\n",
       " 'Play of Passion (Psy-Changeling, #9)',\n",
       " 'Never Judge a Lady by Her Cover (The Rules of Scoundrels, #4)',\n",
       " 'Shadow Kiss (Vampire Academy, #3)',\n",
       " 'Back To You',\n",
       " 'You Slay Me (Aisling Grey, #1)',\n",
       " 'The Statistical Probability of Love at First Sight',\n",
       " 'Shadow and Bone (The Shadow and Bone Trilogy, #1)',\n",
       " 'Moving Neutral (Moving Neutral, #1)',\n",
       " 'The Best Man (Blue Heron, #1)',\n",
       " 'Fire (Graceling Realm, #2)',\n",
       " 'One Day in December',\n",
       " 'Ruin (Ruin, #1)',\n",
       " 'Good For You (Between the Lines, #3)',\n",
       " 'Caressed by Ice (Psy-Changeling, #3)',\n",
       " 'Born at Midnight (Shadow Falls, #1)',\n",
       " 'Geekerella (Once Upon a Con, #1)',\n",
       " \"A Rake's Vow (Cynster, #2)\",\n",
       " 'Caraval (Caraval, #1)',\n",
       " 'Sylvester',\n",
       " 'The Duchess Deal (Girl Meets Duke, #1)',\n",
       " 'One Night with a Hero (The Hero, #2)',\n",
       " 'The Rescue',\n",
       " \"It's Not Summer Without You (Summer, #2)\",\n",
       " 'Noughts & Crosses (Noughts & Crosses, #1)',\n",
       " 'The Return of Rafe MacKade (The MacKade Brothers, #1)',\n",
       " 'Love Comes Softly (Love Comes Softly, #1)',\n",
       " 'Gentle Warrior',\n",
       " 'Loving David',\n",
       " 'Intermix Nation',\n",
       " 'Temptation (Temptation, #1)',\n",
       " 'An Ordinary Joe',\n",
       " 'The Last Letter from Your Lover',\n",
       " 'Tears of Tess (Monsters in the Dark, #1)',\n",
       " 'The Law of Moses (The Law of Moses, #1)',\n",
       " 'Linger (The Wolves of Mercy Falls, #2)',\n",
       " 'Siege and Storm (The Shadow and Bone Trilogy, #2)',\n",
       " 'Everything, Everything',\n",
       " 'High Country Bride (McKettricks, #1)',\n",
       " 'Return to Me (Last Chance Rescue, #2)',\n",
       " 'Frostbite (Vampire Academy, #2)',\n",
       " 'The Count of Monte Cristo',\n",
       " 'The Tied Man (The Tied Man, #1)',\n",
       " 'The Tudor Heresy (Mercenary For Hire #0.5)',\n",
       " 'Mistress',\n",
       " 'Always Been Mine (The Moreno Brothers, #2)',\n",
       " 'Kiss of a Demon King (Immortals After Dark, #6)',\n",
       " 'The Pact',\n",
       " 'The Fill-In Boyfriend',\n",
       " 'Tangle of Need (Psy-Changeling, #11)',\n",
       " 'Waterfall (River of Time, #1)',\n",
       " 'Undressed (The Manhattanites, #2)',\n",
       " 'Winter (The Lunar Chronicles, #4)',\n",
       " 'The Princess Diaries (The Princess Diaries, #1)',\n",
       " 'Captivated by You (Crossfire, #4)',\n",
       " \"The Highlander's Touch (Highlander, #3)\",\n",
       " 'Eclipse (The Twilight Saga, #3)',\n",
       " 'The Secret Keeper',\n",
       " 'Safe with Me (With Me in Seattle, #5)',\n",
       " 'White Trash Beautiful (White Trash Trilogy, #1)',\n",
       " 'Rhapsody in Paris (LaCasse, #4)',\n",
       " 'This Is What Happy Looks Like (This is What Happy Looks Like, #1)',\n",
       " 'Deeper Than Midnight (Midnight Breed, #9)',\n",
       " 'Where the Heart Is',\n",
       " 'Moondance in Red (Moondance Trilogy #1)',\n",
       " 'Bad Things (Tristan & Danika, #1)',\n",
       " 'All the Bright Places',\n",
       " 'Fixed on You (Fixed, #1)',\n",
       " 'Fall From Grace (Mad World, #1)',\n",
       " 'Fantastical (Fantasyland, #3)',\n",
       " \"Josh and Hazel's Guide to Not Dating\",\n",
       " 'When Harry Met Molly (Impossible Bachelors, #1)',\n",
       " 'The Sugar Queen',\n",
       " 'Fifty Shades Freed (Fifty Shades, #3)',\n",
       " 'Heart of Obsidian  (Psy-Changeling, #12)',\n",
       " 'True Believer (Jeremy Marsh & Lexie Darnell, #1)',\n",
       " 'A Lost Kitten (Sea-anan Saga, #1)',\n",
       " 'Double Standards',\n",
       " 'The Darkest Kiss (Lords of the Underworld, #2)',\n",
       " 'Too Much Temptation (Brava Brothers, #1)',\n",
       " 'The Ruby Brooch (Celtic Brooch #1)',\n",
       " 'Drums of Autumn (Outlander, #4)',\n",
       " 'Carnal Gift (Blakewell/Kenleigh Family Trilogy, #2)',\n",
       " 'Dragonfly in Amber (Outlander, #2)',\n",
       " 'A Court of Frost and Starlight (A Court of Thorns and Roses, #3.1)',\n",
       " 'Stuck-Up Suit',\n",
       " 'Daughter of Smoke & Bone (Daughter of Smoke & Bone, #1)',\n",
       " 'Rock Chick Redemption (Rock Chick, #3)',\n",
       " 'The Unknown Ajax',\n",
       " 'Beard Science (Winston Brothers, #3)',\n",
       " 'Destined (Destined, #1)',\n",
       " 'Midnight Rising (Midnight Breed, #4)',\n",
       " 'These Broken Stars (Starbound, #1)',\n",
       " 'Key of Valor (Key Trilogy, #3)',\n",
       " 'Grave Mercy (His Fair Assassin, #1)',\n",
       " 'What the Heart Wants (Soulmate, #1)',\n",
       " 'Middlemarch',\n",
       " \"The Gentleman's Guide to Vice and Virtue (Montague Siblings, #1)\",\n",
       " 'Blood Promise (Vampire Academy, #4)',\n",
       " 'Start Me Up (Tumble Creek, #2)',\n",
       " 'Queen of Babble (Queen of Babble, #1)',\n",
       " 'Just One Day (Just One Day, #1)',\n",
       " 'One Good Earl Deserves a Lover (The Rules of Scoundrels, #2)',\n",
       " 'Burning Up Flint (Cyborg Seduction, #1)',\n",
       " 'The Windflower',\n",
       " 'Homeport',\n",
       " 'Letters to a Secret Lover',\n",
       " 'The Search',\n",
       " \"The Valley of Horses (Earth's Children, #2)\",\n",
       " 'Just To Be With You (Seattle Sullivans #4; The Sullivans #12)',\n",
       " 'The Heiress Effect (Brothers Sinister, #2)',\n",
       " 'White Hot Kiss (The Dark Elements, #1)',\n",
       " 'Will Grayson, Will Grayson',\n",
       " 'Shades of Midnight (Midnight Breed, #7)',\n",
       " 'The Pride of Lions (Highlands, #1)',\n",
       " 'Until You (Westmoreland, #3)',\n",
       " 'Devoured (Devoured, #1)',\n",
       " 'The Unbearable Lightness of Being',\n",
       " 'Walking Disaster (Beautiful, #2)',\n",
       " 'The Heart of Devin MacKade (The MacKade Brothers, #3)',\n",
       " 'A Court of Wings and Ruin (A Court of Thorns and Roses, #3)',\n",
       " \"It Ain't Me, Babe (Hades Hangmen, #1)\",\n",
       " 'The Duchess War (Brothers Sinister, #1)',\n",
       " 'Dreams of Gods & Monsters (Daughter of Smoke & Bone, #3)',\n",
       " 'The Monster (Boston Belles, #3)',\n",
       " 'Midnight Sun [2008 Draft]',\n",
       " \"Breakfast at Tiffany's and Three Stories\",\n",
       " \"Grayson's Vow\",\n",
       " 'I Thee Wed (Vanza, #2)',\n",
       " 'A Farewell to Arms',\n",
       " \"Daisy's Back in Town\",\n",
       " 'The Bride and the Beast (Once Upon a Time, #2)',\n",
       " 'Dare You To (Pushing the Limits, #2)',\n",
       " 'Evermore (The Immortals, #1)',\n",
       " 'Dark Melody (Dark, #10)',\n",
       " 'The Kiss of Deception (The Remnant Chronicles, #1)',\n",
       " 'Surviving Raine (Surviving Raine, #1)',\n",
       " \"Duncan's Bride (Patterson-Cannon Family, #1)\",\n",
       " 'Last Chance (Last Chance Rescue, #6)',\n",
       " 'Bright Side (Bright Side, #1)',\n",
       " 'Romancing the Duke (Castles Ever After, #1)',\n",
       " 'Kissing Steel (Cyborg Seduction, #2)',\n",
       " 'Crazy For You',\n",
       " 'Bound by Honor (Born in Blood Mafia Chronicles, #1)',\n",
       " 'Dream Lake (Friday Harbor, #3)',\n",
       " 'Finding Cinderella (Hopeless, #2.5)',\n",
       " 'A Different Blue',\n",
       " 'Of Love and Other Demons',\n",
       " 'The Renegade Hunter (Argeneau, #12; Rogue Hunter, #3)',\n",
       " 'Cyrano de Bergerac',\n",
       " 'Breaking Dawn (The Twilight Saga, #4)',\n",
       " 'A Tale of the Other Kind (Therian, #1)',\n",
       " 'I Am Her... (I Am Her..., #1)',\n",
       " 'A Poker Game of Love',\n",
       " 'Touched by a Phoenix',\n",
       " 'Finding Clara',\n",
       " 'Forbidden by Faith (Forbidden Love, #1)',\n",
       " 'The Enlightenment of Alexander',\n",
       " 'Winds Of Fate (Fated Hearts #1)',\n",
       " 'Blind Sided',\n",
       " 'Lions in the Garden (The Uprising #1)',\n",
       " 'Truly, Madly, Deeply',\n",
       " 'Eye of the Storm (Gray Ghost, #2)',\n",
       " 'Black Rose (In the Garden, #2)',\n",
       " 'Slave (Finding Anna, #1)',\n",
       " 'Breaking Kate (Acceptance, #1)',\n",
       " 'My Love Is Blind',\n",
       " 'Caged Lions Never Roar',\n",
       " 'Discovering The Covering',\n",
       " 'Demon Possession (Shadow Quest, #1)',\n",
       " 'Taking Chase (Chase Brothers, #2)',\n",
       " 'Kiss of Crimson (Midnight Breed, #2)',\n",
       " 'Mine Forever: A Young Adult Romance',\n",
       " 'Voyager (Outlander, #3)',\n",
       " 'City of Ashes (The Mortal Instruments, #2)',\n",
       " 'Chocolat (Chocolat, #1)',\n",
       " 'Immortal City (Immortal City, #1)',\n",
       " 'Sweet Surrender (Sweet, #1)',\n",
       " 'The Training of Kate (Journey into Submission 1)',\n",
       " 'Manhunting',\n",
       " 'To Meet Her Needs',\n",
       " 'From Dead to Worse (Sookie Stackhouse, #8)',\n",
       " 'Grimnirs  (Runes, #3)',\n",
       " \"The Next Best Thing (Gideon's Cove, #2)\",\n",
       " ...]"
      ]
     },
     "execution_count": 12,
     "metadata": {},
     "output_type": "execute_result"
    }
   ],
   "source": [
    "names"
   ]
  },
  {
   "attachments": {},
   "cell_type": "markdown",
   "metadata": {},
   "source": [
    "## Reading data"
   ]
  },
  {
   "cell_type": "code",
   "execution_count": 40,
   "metadata": {},
   "outputs": [
    {
     "name": "stdout",
     "output_type": "stream",
     "text": [
      "<class 'pandas.core.frame.DataFrame'>\n",
      "RangeIndex: 4999 entries, 0 to 4998\n",
      "Data columns (total 6 columns):\n",
      " #   Column      Non-Null Count  Dtype \n",
      "---  ------      --------------  ----- \n",
      " 0   book title  4999 non-null   object\n",
      " 1   ratings     4999 non-null   object\n",
      " 2   avg_score   4999 non-null   object\n",
      " 3   author      4999 non-null   object\n",
      " 4   score       4999 non-null   object\n",
      " 5   votes       4999 non-null   object\n",
      "dtypes: object(6)\n",
      "memory usage: 234.5+ KB\n",
      "None\n"
     ]
    }
   ],
   "source": [
    "import pandas as pd\n",
    "df = pd.DataFrame({'book title': names,\n",
    "'ratings': ratings,\n",
    "'avg_score': avgscores,\n",
    "'author': author,\n",
    "'score' : score,\n",
    "'votes': votes\n",
    "})\n",
    "data=df # storing in another variable just not run requeste content again and again\n",
    "print(data.info())"
   ]
  },
  {
   "cell_type": "code",
   "execution_count": 41,
   "metadata": {},
   "outputs": [
    {
     "data": {
      "text/html": [
       "<div>\n",
       "<style scoped>\n",
       "    .dataframe tbody tr th:only-of-type {\n",
       "        vertical-align: middle;\n",
       "    }\n",
       "\n",
       "    .dataframe tbody tr th {\n",
       "        vertical-align: top;\n",
       "    }\n",
       "\n",
       "    .dataframe thead th {\n",
       "        text-align: right;\n",
       "    }\n",
       "</style>\n",
       "<table border=\"1\" class=\"dataframe\">\n",
       "  <thead>\n",
       "    <tr style=\"text-align: right;\">\n",
       "      <th></th>\n",
       "      <th>book title</th>\n",
       "      <th>ratings</th>\n",
       "      <th>avg_score</th>\n",
       "      <th>author</th>\n",
       "      <th>score</th>\n",
       "      <th>votes</th>\n",
       "    </tr>\n",
       "  </thead>\n",
       "  <tbody>\n",
       "    <tr>\n",
       "      <th>0</th>\n",
       "      <td>Pride and Prejudice</td>\n",
       "      <td>3,891,470</td>\n",
       "      <td>4.28</td>\n",
       "      <td>Jane Austen</td>\n",
       "      <td>237,502,</td>\n",
       "      <td>2,403</td>\n",
       "    </tr>\n",
       "    <tr>\n",
       "      <th>1</th>\n",
       "      <td>Fifty Shades of Grey (Fifty Shades, #1)</td>\n",
       "      <td>2,409,089</td>\n",
       "      <td>3.66</td>\n",
       "      <td>E.L. James</td>\n",
       "      <td>231,134,</td>\n",
       "      <td>2,344</td>\n",
       "    </tr>\n",
       "    <tr>\n",
       "      <th>2</th>\n",
       "      <td>Beautiful Disaster (Beautiful, #1)</td>\n",
       "      <td>643,007</td>\n",
       "      <td>4.04</td>\n",
       "      <td>Jamie McGuire</td>\n",
       "      <td>216,871,</td>\n",
       "      <td>2,200</td>\n",
       "    </tr>\n",
       "    <tr>\n",
       "      <th>3</th>\n",
       "      <td>Twilight (The Twilight Saga, #1)</td>\n",
       "      <td>6,099,397</td>\n",
       "      <td>3.64</td>\n",
       "      <td>Stephenie Meyer</td>\n",
       "      <td>138,962,</td>\n",
       "      <td>1,426</td>\n",
       "    </tr>\n",
       "    <tr>\n",
       "      <th>4</th>\n",
       "      <td>The Notebook (The Notebook, #1)</td>\n",
       "      <td>1,582,896</td>\n",
       "      <td>4.14</td>\n",
       "      <td>Nicholas Sparks</td>\n",
       "      <td>98,597,</td>\n",
       "      <td>1,013</td>\n",
       "    </tr>\n",
       "    <tr>\n",
       "      <th>...</th>\n",
       "      <td>...</td>\n",
       "      <td>...</td>\n",
       "      <td>...</td>\n",
       "      <td>...</td>\n",
       "      <td>...</td>\n",
       "      <td>...</td>\n",
       "    </tr>\n",
       "    <tr>\n",
       "      <th>4993</th>\n",
       "      <td>The Endearment</td>\n",
       "      <td>4,271</td>\n",
       "      <td>4.04</td>\n",
       "      <td>LaVyrle Spencer</td>\n",
       "      <td>20,</td>\n",
       "      <td>1</td>\n",
       "    </tr>\n",
       "    <tr>\n",
       "      <th>4994</th>\n",
       "      <td>Ein Hauch von Skandal</td>\n",
       "      <td>14,431</td>\n",
       "      <td>4.06</td>\n",
       "      <td>Sandra       Brown</td>\n",
       "      <td>20,</td>\n",
       "      <td>1</td>\n",
       "    </tr>\n",
       "    <tr>\n",
       "      <th>4995</th>\n",
       "      <td>Nothing Personal</td>\n",
       "      <td>4,209</td>\n",
       "      <td>3.63</td>\n",
       "      <td>Jaci Burton</td>\n",
       "      <td>19,</td>\n",
       "      <td>1</td>\n",
       "    </tr>\n",
       "    <tr>\n",
       "      <th>4996</th>\n",
       "      <td>Heiress in Love (Ministry of Marriage, #1)</td>\n",
       "      <td>898</td>\n",
       "      <td>3.71</td>\n",
       "      <td>Christina Brooke</td>\n",
       "      <td>19,</td>\n",
       "      <td>1</td>\n",
       "    </tr>\n",
       "    <tr>\n",
       "      <th>4997</th>\n",
       "      <td>Perfect Mate (Project Rebellion, #1)</td>\n",
       "      <td>3,884</td>\n",
       "      <td>3.73</td>\n",
       "      <td>Mina Carter</td>\n",
       "      <td>19,</td>\n",
       "      <td>1</td>\n",
       "    </tr>\n",
       "  </tbody>\n",
       "</table>\n",
       "<p>4998 rows × 6 columns</p>\n",
       "</div>"
      ],
      "text/plain": [
       "                                      book title    ratings avg_score  \\\n",
       "0                            Pride and Prejudice  3,891,470      4.28   \n",
       "1        Fifty Shades of Grey (Fifty Shades, #1)  2,409,089      3.66   \n",
       "2             Beautiful Disaster (Beautiful, #1)    643,007      4.04   \n",
       "3               Twilight (The Twilight Saga, #1)  6,099,397      3.64   \n",
       "4                The Notebook (The Notebook, #1)  1,582,896      4.14   \n",
       "...                                          ...        ...       ...   \n",
       "4993                              The Endearment      4,271      4.04   \n",
       "4994                       Ein Hauch von Skandal     14,431      4.06   \n",
       "4995                            Nothing Personal      4,209      3.63   \n",
       "4996  Heiress in Love (Ministry of Marriage, #1)        898      3.71   \n",
       "4997        Perfect Mate (Project Rebellion, #1)      3,884      3.73   \n",
       "\n",
       "                  author     score  votes  \n",
       "0            Jane Austen  237,502,  2,403  \n",
       "1             E.L. James  231,134,  2,344  \n",
       "2          Jamie McGuire  216,871,  2,200  \n",
       "3        Stephenie Meyer  138,962,  1,426  \n",
       "4        Nicholas Sparks   98,597,  1,013  \n",
       "...                  ...       ...    ...  \n",
       "4993     LaVyrle Spencer       20,      1  \n",
       "4994  Sandra       Brown       20,      1  \n",
       "4995         Jaci Burton       19,      1  \n",
       "4996    Christina Brooke       19,      1  \n",
       "4997         Mina Carter       19,      1  \n",
       "\n",
       "[4998 rows x 6 columns]"
      ]
     },
     "execution_count": 41,
     "metadata": {},
     "output_type": "execute_result"
    }
   ],
   "source": [
    "data.head(-1)"
   ]
  },
  {
   "cell_type": "code",
   "execution_count": 42,
   "metadata": {},
   "outputs": [],
   "source": [
    "#dowmlading data as CSV file\n",
    "import os  \n",
    "os.makedirs('D:\\webscrap\\Goodreads', exist_ok=True)  \n",
    "data.to_csv('D:\\webscrap\\Goodreads\\Romantic.csv') "
   ]
  },
  {
   "cell_type": "code",
   "execution_count": 43,
   "metadata": {},
   "outputs": [
    {
     "data": {
      "text/plain": [
       "Index(['book title', 'ratings', 'avg_score', 'author', 'score', 'votes'], dtype='object')"
      ]
     },
     "execution_count": 43,
     "metadata": {},
     "output_type": "execute_result"
    }
   ],
   "source": [
    "data.columns"
   ]
  },
  {
   "cell_type": "code",
   "execution_count": 44,
   "metadata": {},
   "outputs": [
    {
     "data": {
      "text/plain": [
       "(4999, 6)"
      ]
     },
     "execution_count": 44,
     "metadata": {},
     "output_type": "execute_result"
    }
   ],
   "source": [
    "data.shape"
   ]
  },
  {
   "cell_type": "code",
   "execution_count": 45,
   "metadata": {},
   "outputs": [
    {
     "data": {
      "text/html": [
       "<div>\n",
       "<style scoped>\n",
       "    .dataframe tbody tr th:only-of-type {\n",
       "        vertical-align: middle;\n",
       "    }\n",
       "\n",
       "    .dataframe tbody tr th {\n",
       "        vertical-align: top;\n",
       "    }\n",
       "\n",
       "    .dataframe thead th {\n",
       "        text-align: right;\n",
       "    }\n",
       "</style>\n",
       "<table border=\"1\" class=\"dataframe\">\n",
       "  <thead>\n",
       "    <tr style=\"text-align: right;\">\n",
       "      <th></th>\n",
       "      <th>book title</th>\n",
       "      <th>ratings</th>\n",
       "      <th>avg_score</th>\n",
       "      <th>author</th>\n",
       "      <th>score</th>\n",
       "      <th>votes</th>\n",
       "    </tr>\n",
       "  </thead>\n",
       "  <tbody>\n",
       "    <tr>\n",
       "      <th>count</th>\n",
       "      <td>4999</td>\n",
       "      <td>4999</td>\n",
       "      <td>4999</td>\n",
       "      <td>4999</td>\n",
       "      <td>4999</td>\n",
       "      <td>4999</td>\n",
       "    </tr>\n",
       "    <tr>\n",
       "      <th>unique</th>\n",
       "      <td>4983</td>\n",
       "      <td>3747</td>\n",
       "      <td>194</td>\n",
       "      <td>2457</td>\n",
       "      <td>1141</td>\n",
       "      <td>182</td>\n",
       "    </tr>\n",
       "    <tr>\n",
       "      <th>top</th>\n",
       "      <td>A French Affair</td>\n",
       "      <td>avg</td>\n",
       "      <td>really</td>\n",
       "      <td>Nora Roberts</td>\n",
       "      <td>100,</td>\n",
       "      <td>1</td>\n",
       "    </tr>\n",
       "    <tr>\n",
       "      <th>freq</th>\n",
       "      <td>2</td>\n",
       "      <td>169</td>\n",
       "      <td>110</td>\n",
       "      <td>70</td>\n",
       "      <td>479</td>\n",
       "      <td>2851</td>\n",
       "    </tr>\n",
       "  </tbody>\n",
       "</table>\n",
       "</div>"
      ],
      "text/plain": [
       "             book title ratings avg_score        author score votes\n",
       "count              4999    4999      4999          4999  4999  4999\n",
       "unique             4983    3747       194          2457  1141   182\n",
       "top     A French Affair     avg    really  Nora Roberts  100,     1\n",
       "freq                  2     169       110            70   479  2851"
      ]
     },
     "execution_count": 45,
     "metadata": {},
     "output_type": "execute_result"
    }
   ],
   "source": [
    "data.describe()"
   ]
  },
  {
   "attachments": {},
   "cell_type": "markdown",
   "metadata": {},
   "source": [
    "all columns are in object type so in descibing data get messy"
   ]
  },
  {
   "cell_type": "code",
   "execution_count": 46,
   "metadata": {},
   "outputs": [
    {
     "data": {
      "text/plain": [
       "(4999, 6)"
      ]
     },
     "execution_count": 46,
     "metadata": {},
     "output_type": "execute_result"
    }
   ],
   "source": [
    "data.shape"
   ]
  },
  {
   "attachments": {},
   "cell_type": "markdown",
   "metadata": {},
   "source": [
    "###  Data cleaing and handling"
   ]
  },
  {
   "attachments": {},
   "cell_type": "markdown",
   "metadata": {},
   "source": [
    "**Lets clean the data**\n",
    "   - remove inaccurate  values in data\n",
    "   - convert the number type columns from object type to int or float\n",
    "   - detect outliers and handle"
   ]
  },
  {
   "cell_type": "code",
   "execution_count": 47,
   "metadata": {},
   "outputs": [
    {
     "data": {
      "text/html": [
       "<div>\n",
       "<style scoped>\n",
       "    .dataframe tbody tr th:only-of-type {\n",
       "        vertical-align: middle;\n",
       "    }\n",
       "\n",
       "    .dataframe tbody tr th {\n",
       "        vertical-align: top;\n",
       "    }\n",
       "\n",
       "    .dataframe thead th {\n",
       "        text-align: right;\n",
       "    }\n",
       "</style>\n",
       "<table border=\"1\" class=\"dataframe\">\n",
       "  <thead>\n",
       "    <tr style=\"text-align: right;\">\n",
       "      <th></th>\n",
       "      <th>book title</th>\n",
       "      <th>ratings</th>\n",
       "      <th>avg_score</th>\n",
       "      <th>author</th>\n",
       "      <th>score</th>\n",
       "      <th>votes</th>\n",
       "    </tr>\n",
       "  </thead>\n",
       "  <tbody>\n",
       "    <tr>\n",
       "      <th>0</th>\n",
       "      <td>Pride and Prejudice</td>\n",
       "      <td>3,891,470</td>\n",
       "      <td>4.28</td>\n",
       "      <td>Jane Austen</td>\n",
       "      <td>237,502,</td>\n",
       "      <td>2,403</td>\n",
       "    </tr>\n",
       "    <tr>\n",
       "      <th>1</th>\n",
       "      <td>Fifty Shades of Grey (Fifty Shades, #1)</td>\n",
       "      <td>2,409,089</td>\n",
       "      <td>3.66</td>\n",
       "      <td>E.L. James</td>\n",
       "      <td>231,134,</td>\n",
       "      <td>2,344</td>\n",
       "    </tr>\n",
       "    <tr>\n",
       "      <th>2</th>\n",
       "      <td>Beautiful Disaster (Beautiful, #1)</td>\n",
       "      <td>643,007</td>\n",
       "      <td>4.04</td>\n",
       "      <td>Jamie McGuire</td>\n",
       "      <td>216,871,</td>\n",
       "      <td>2,200</td>\n",
       "    </tr>\n",
       "    <tr>\n",
       "      <th>3</th>\n",
       "      <td>Twilight (The Twilight Saga, #1)</td>\n",
       "      <td>6,099,397</td>\n",
       "      <td>3.64</td>\n",
       "      <td>Stephenie Meyer</td>\n",
       "      <td>138,962,</td>\n",
       "      <td>1,426</td>\n",
       "    </tr>\n",
       "    <tr>\n",
       "      <th>4</th>\n",
       "      <td>The Notebook (The Notebook, #1)</td>\n",
       "      <td>1,582,896</td>\n",
       "      <td>4.14</td>\n",
       "      <td>Nicholas Sparks</td>\n",
       "      <td>98,597,</td>\n",
       "      <td>1,013</td>\n",
       "    </tr>\n",
       "    <tr>\n",
       "      <th>...</th>\n",
       "      <td>...</td>\n",
       "      <td>...</td>\n",
       "      <td>...</td>\n",
       "      <td>...</td>\n",
       "      <td>...</td>\n",
       "      <td>...</td>\n",
       "    </tr>\n",
       "    <tr>\n",
       "      <th>4993</th>\n",
       "      <td>The Endearment</td>\n",
       "      <td>4,271</td>\n",
       "      <td>4.04</td>\n",
       "      <td>LaVyrle Spencer</td>\n",
       "      <td>20,</td>\n",
       "      <td>1</td>\n",
       "    </tr>\n",
       "    <tr>\n",
       "      <th>4994</th>\n",
       "      <td>Ein Hauch von Skandal</td>\n",
       "      <td>14,431</td>\n",
       "      <td>4.06</td>\n",
       "      <td>Sandra       Brown</td>\n",
       "      <td>20,</td>\n",
       "      <td>1</td>\n",
       "    </tr>\n",
       "    <tr>\n",
       "      <th>4995</th>\n",
       "      <td>Nothing Personal</td>\n",
       "      <td>4,209</td>\n",
       "      <td>3.63</td>\n",
       "      <td>Jaci Burton</td>\n",
       "      <td>19,</td>\n",
       "      <td>1</td>\n",
       "    </tr>\n",
       "    <tr>\n",
       "      <th>4996</th>\n",
       "      <td>Heiress in Love (Ministry of Marriage, #1)</td>\n",
       "      <td>898</td>\n",
       "      <td>3.71</td>\n",
       "      <td>Christina Brooke</td>\n",
       "      <td>19,</td>\n",
       "      <td>1</td>\n",
       "    </tr>\n",
       "    <tr>\n",
       "      <th>4997</th>\n",
       "      <td>Perfect Mate (Project Rebellion, #1)</td>\n",
       "      <td>3,884</td>\n",
       "      <td>3.73</td>\n",
       "      <td>Mina Carter</td>\n",
       "      <td>19,</td>\n",
       "      <td>1</td>\n",
       "    </tr>\n",
       "  </tbody>\n",
       "</table>\n",
       "<p>4998 rows × 6 columns</p>\n",
       "</div>"
      ],
      "text/plain": [
       "                                      book title    ratings avg_score  \\\n",
       "0                            Pride and Prejudice  3,891,470      4.28   \n",
       "1        Fifty Shades of Grey (Fifty Shades, #1)  2,409,089      3.66   \n",
       "2             Beautiful Disaster (Beautiful, #1)    643,007      4.04   \n",
       "3               Twilight (The Twilight Saga, #1)  6,099,397      3.64   \n",
       "4                The Notebook (The Notebook, #1)  1,582,896      4.14   \n",
       "...                                          ...        ...       ...   \n",
       "4993                              The Endearment      4,271      4.04   \n",
       "4994                       Ein Hauch von Skandal     14,431      4.06   \n",
       "4995                            Nothing Personal      4,209      3.63   \n",
       "4996  Heiress in Love (Ministry of Marriage, #1)        898      3.71   \n",
       "4997        Perfect Mate (Project Rebellion, #1)      3,884      3.73   \n",
       "\n",
       "                  author     score  votes  \n",
       "0            Jane Austen  237,502,  2,403  \n",
       "1             E.L. James  231,134,  2,344  \n",
       "2          Jamie McGuire  216,871,  2,200  \n",
       "3        Stephenie Meyer  138,962,  1,426  \n",
       "4        Nicholas Sparks   98,597,  1,013  \n",
       "...                  ...       ...    ...  \n",
       "4993     LaVyrle Spencer       20,      1  \n",
       "4994  Sandra       Brown       20,      1  \n",
       "4995         Jaci Burton       19,      1  \n",
       "4996    Christina Brooke       19,      1  \n",
       "4997         Mina Carter       19,      1  \n",
       "\n",
       "[4998 rows x 6 columns]"
      ]
     },
     "execution_count": 47,
     "metadata": {},
     "output_type": "execute_result"
    }
   ],
   "source": [
    "data.head(-1)"
   ]
  },
  {
   "cell_type": "code",
   "execution_count": 48,
   "metadata": {},
   "outputs": [
    {
     "data": {
      "text/html": [
       "<div>\n",
       "<style scoped>\n",
       "    .dataframe tbody tr th:only-of-type {\n",
       "        vertical-align: middle;\n",
       "    }\n",
       "\n",
       "    .dataframe tbody tr th {\n",
       "        vertical-align: top;\n",
       "    }\n",
       "\n",
       "    .dataframe thead th {\n",
       "        text-align: right;\n",
       "    }\n",
       "</style>\n",
       "<table border=\"1\" class=\"dataframe\">\n",
       "  <thead>\n",
       "    <tr style=\"text-align: right;\">\n",
       "      <th></th>\n",
       "      <th>book title</th>\n",
       "      <th>ratings</th>\n",
       "      <th>avg_score</th>\n",
       "      <th>author</th>\n",
       "      <th>score</th>\n",
       "      <th>votes</th>\n",
       "    </tr>\n",
       "  </thead>\n",
       "  <tbody>\n",
       "    <tr>\n",
       "      <th>124</th>\n",
       "      <td>Lady Be Good (Wynette, Texas, #2)</td>\n",
       "      <td>17,449</td>\n",
       "      <td>3.99</td>\n",
       "      <td>Susan Elizabeth Phillips</td>\n",
       "      <td>6,460,</td>\n",
       "      <td>98</td>\n",
       "    </tr>\n",
       "    <tr>\n",
       "      <th>109</th>\n",
       "      <td>Pleasure Unbound (Demonica, #1)</td>\n",
       "      <td>53,013</td>\n",
       "      <td>4.04</td>\n",
       "      <td>Larissa Ione</td>\n",
       "      <td>8,392,</td>\n",
       "      <td>97</td>\n",
       "    </tr>\n",
       "    <tr>\n",
       "      <th>103</th>\n",
       "      <td>Heart on a Chain</td>\n",
       "      <td>17,166</td>\n",
       "      <td>4.03</td>\n",
       "      <td>Cindy C. Bennett</td>\n",
       "      <td>8,907,</td>\n",
       "      <td>97</td>\n",
       "    </tr>\n",
       "    <tr>\n",
       "      <th>125</th>\n",
       "      <td>Dream a Little Dream (Chicago Stars, #4)</td>\n",
       "      <td>33,715</td>\n",
       "      <td>4.17</td>\n",
       "      <td>Susan Elizabeth Phillips</td>\n",
       "      <td>6,390,</td>\n",
       "      <td>95</td>\n",
       "    </tr>\n",
       "    <tr>\n",
       "      <th>113</th>\n",
       "      <td>Something Wonderful (Sequels, #2)</td>\n",
       "      <td>28,782</td>\n",
       "      <td>4.31</td>\n",
       "      <td>Judith McNaught</td>\n",
       "      <td>7,709,</td>\n",
       "      <td>95</td>\n",
       "    </tr>\n",
       "    <tr>\n",
       "      <th>6</th>\n",
       "      <td>Outlander (Outlander, #1)</td>\n",
       "      <td>981,467</td>\n",
       "      <td>4.25</td>\n",
       "      <td>Diana Gabaldon</td>\n",
       "      <td>91,404,</td>\n",
       "      <td>932</td>\n",
       "    </tr>\n",
       "    <tr>\n",
       "      <th>122</th>\n",
       "      <td>Vain (The Seven Deadly, #1)</td>\n",
       "      <td>30,329</td>\n",
       "      <td>4.22</td>\n",
       "      <td>Fisher Amelie</td>\n",
       "      <td>6,666,</td>\n",
       "      <td>91</td>\n",
       "    </tr>\n",
       "    <tr>\n",
       "      <th>118</th>\n",
       "      <td>Rules of Protection (Tangled in Texas, #1)</td>\n",
       "      <td>7,479</td>\n",
       "      <td>3.84</td>\n",
       "      <td>Alison Bliss</td>\n",
       "      <td>7,406,</td>\n",
       "      <td>90</td>\n",
       "    </tr>\n",
       "    <tr>\n",
       "      <th>111</th>\n",
       "      <td>Cross My Heart (Cross My Heart, #1)</td>\n",
       "      <td>18,663</td>\n",
       "      <td>3.91</td>\n",
       "      <td>Katie Klein</td>\n",
       "      <td>8,091,</td>\n",
       "      <td>90</td>\n",
       "    </tr>\n",
       "    <tr>\n",
       "      <th>814</th>\n",
       "      <td>Sweet Revenge</td>\n",
       "      <td>avg</td>\n",
       "      <td>really</td>\n",
       "      <td>Nora Roberts</td>\n",
       "      <td>530,</td>\n",
       "      <td>9</td>\n",
       "    </tr>\n",
       "  </tbody>\n",
       "</table>\n",
       "</div>"
      ],
      "text/plain": [
       "                                     book title  ratings avg_score  \\\n",
       "124           Lady Be Good (Wynette, Texas, #2)   17,449      3.99   \n",
       "109             Pleasure Unbound (Demonica, #1)   53,013      4.04   \n",
       "103                            Heart on a Chain   17,166      4.03   \n",
       "125    Dream a Little Dream (Chicago Stars, #4)   33,715      4.17   \n",
       "113           Something Wonderful (Sequels, #2)   28,782      4.31   \n",
       "6                     Outlander (Outlander, #1)  981,467      4.25   \n",
       "122                 Vain (The Seven Deadly, #1)   30,329      4.22   \n",
       "118  Rules of Protection (Tangled in Texas, #1)    7,479      3.84   \n",
       "111         Cross My Heart (Cross My Heart, #1)   18,663      3.91   \n",
       "814                               Sweet Revenge      avg    really   \n",
       "\n",
       "                       author    score votes  \n",
       "124  Susan Elizabeth Phillips   6,460,    98  \n",
       "109              Larissa Ione   8,392,    97  \n",
       "103          Cindy C. Bennett   8,907,    97  \n",
       "125  Susan Elizabeth Phillips   6,390,    95  \n",
       "113           Judith McNaught   7,709,    95  \n",
       "6              Diana Gabaldon  91,404,   932  \n",
       "122             Fisher Amelie   6,666,    91  \n",
       "118              Alison Bliss   7,406,    90  \n",
       "111               Katie Klein   8,091,    90  \n",
       "814              Nora Roberts     530,     9  "
      ]
     },
     "execution_count": 48,
     "metadata": {},
     "output_type": "execute_result"
    }
   ],
   "source": [
    "data.sort_values(by=['votes','ratings'], ascending=False).head(10)"
   ]
  },
  {
   "attachments": {},
   "cell_type": "markdown",
   "metadata": {},
   "source": [
    "- i was check on data with diffrent scenorio, here in row of 814 rating values is 'avg'and avg_score values is 'really', so need to remove values before or EDA or analysing it. those are inacuurate values, drop them is best solution "
   ]
  },
  {
   "cell_type": "code",
   "execution_count": 49,
   "metadata": {},
   "outputs": [
    {
     "data": {
      "text/html": [
       "<div>\n",
       "<style scoped>\n",
       "    .dataframe tbody tr th:only-of-type {\n",
       "        vertical-align: middle;\n",
       "    }\n",
       "\n",
       "    .dataframe tbody tr th {\n",
       "        vertical-align: top;\n",
       "    }\n",
       "\n",
       "    .dataframe thead th {\n",
       "        text-align: right;\n",
       "    }\n",
       "</style>\n",
       "<table border=\"1\" class=\"dataframe\">\n",
       "  <thead>\n",
       "    <tr style=\"text-align: right;\">\n",
       "      <th></th>\n",
       "      <th>book title</th>\n",
       "      <th>ratings</th>\n",
       "      <th>avg_score</th>\n",
       "      <th>author</th>\n",
       "      <th>score</th>\n",
       "      <th>votes</th>\n",
       "    </tr>\n",
       "  </thead>\n",
       "  <tbody>\n",
       "    <tr>\n",
       "      <th>44</th>\n",
       "      <td>Leaving Paradise (Leaving Paradise, #1)</td>\n",
       "      <td>avg</td>\n",
       "      <td>really</td>\n",
       "      <td>Simone Elkeles</td>\n",
       "      <td>20,519,</td>\n",
       "      <td>222</td>\n",
       "    </tr>\n",
       "    <tr>\n",
       "      <th>72</th>\n",
       "      <td>Wallbanger (Cocktail, #1)</td>\n",
       "      <td>avg</td>\n",
       "      <td>really</td>\n",
       "      <td>Alice Clayton</td>\n",
       "      <td>13,646,</td>\n",
       "      <td>161</td>\n",
       "    </tr>\n",
       "    <tr>\n",
       "      <th>98</th>\n",
       "      <td>Lock and Key</td>\n",
       "      <td>avg</td>\n",
       "      <td>really</td>\n",
       "      <td>Sarah Dessen</td>\n",
       "      <td>9,825,</td>\n",
       "      <td>112</td>\n",
       "    </tr>\n",
       "    <tr>\n",
       "      <th>115</th>\n",
       "      <td>Backstage Pass (Sinners on Tour, #1)</td>\n",
       "      <td>avg</td>\n",
       "      <td>really</td>\n",
       "      <td>Olivia Cunning</td>\n",
       "      <td>7,579,</td>\n",
       "      <td>89</td>\n",
       "    </tr>\n",
       "    <tr>\n",
       "      <th>258</th>\n",
       "      <td>The V Girl: a Coming of Age Story</td>\n",
       "      <td>avg</td>\n",
       "      <td>really</td>\n",
       "      <td>Mya Robarts</td>\n",
       "      <td>2,690,</td>\n",
       "      <td>33</td>\n",
       "    </tr>\n",
       "    <tr>\n",
       "      <th>...</th>\n",
       "      <td>...</td>\n",
       "      <td>...</td>\n",
       "      <td>...</td>\n",
       "      <td>...</td>\n",
       "      <td>...</td>\n",
       "      <td>...</td>\n",
       "    </tr>\n",
       "    <tr>\n",
       "      <th>4858</th>\n",
       "      <td>Edge of Passion (Stealth Guardians, #1)</td>\n",
       "      <td>avg</td>\n",
       "      <td>really</td>\n",
       "      <td>Tina Folsom</td>\n",
       "      <td>30,</td>\n",
       "      <td>1</td>\n",
       "    </tr>\n",
       "    <tr>\n",
       "      <th>4877</th>\n",
       "      <td>Stranger in the Moonlight (Edilean, #7)</td>\n",
       "      <td>avg</td>\n",
       "      <td>really</td>\n",
       "      <td>Jude Deveraux</td>\n",
       "      <td>29,</td>\n",
       "      <td>1</td>\n",
       "    </tr>\n",
       "    <tr>\n",
       "      <th>4907</th>\n",
       "      <td>Knight Triumphant (Graham, #4)</td>\n",
       "      <td>avg</td>\n",
       "      <td>really</td>\n",
       "      <td>Shannon Drake</td>\n",
       "      <td>27,</td>\n",
       "      <td>1</td>\n",
       "    </tr>\n",
       "    <tr>\n",
       "      <th>4952</th>\n",
       "      <td>Honggane (Honggane, #1)</td>\n",
       "      <td>avg</td>\n",
       "      <td>really</td>\n",
       "      <td>Mi-Ri Hwang</td>\n",
       "      <td>23,</td>\n",
       "      <td>1</td>\n",
       "    </tr>\n",
       "    <tr>\n",
       "      <th>4973</th>\n",
       "      <td>Waiting on the Sidelines (Waiting on the Sidel...</td>\n",
       "      <td>avg</td>\n",
       "      <td>really</td>\n",
       "      <td>Ginger Scott</td>\n",
       "      <td>21,</td>\n",
       "      <td>1</td>\n",
       "    </tr>\n",
       "  </tbody>\n",
       "</table>\n",
       "<p>169 rows × 6 columns</p>\n",
       "</div>"
      ],
      "text/plain": [
       "                                             book title ratings avg_score  \\\n",
       "44              Leaving Paradise (Leaving Paradise, #1)     avg    really   \n",
       "72                            Wallbanger (Cocktail, #1)     avg    really   \n",
       "98                                         Lock and Key     avg    really   \n",
       "115                Backstage Pass (Sinners on Tour, #1)     avg    really   \n",
       "258                   The V Girl: a Coming of Age Story     avg    really   \n",
       "...                                                 ...     ...       ...   \n",
       "4858            Edge of Passion (Stealth Guardians, #1)     avg    really   \n",
       "4877            Stranger in the Moonlight (Edilean, #7)     avg    really   \n",
       "4907                     Knight Triumphant (Graham, #4)     avg    really   \n",
       "4952                            Honggane (Honggane, #1)     avg    really   \n",
       "4973  Waiting on the Sidelines (Waiting on the Sidel...     avg    really   \n",
       "\n",
       "              author    score votes  \n",
       "44    Simone Elkeles  20,519,   222  \n",
       "72     Alice Clayton  13,646,   161  \n",
       "98      Sarah Dessen   9,825,   112  \n",
       "115   Olivia Cunning   7,579,    89  \n",
       "258      Mya Robarts   2,690,    33  \n",
       "...              ...      ...   ...  \n",
       "4858     Tina Folsom      30,     1  \n",
       "4877   Jude Deveraux      29,     1  \n",
       "4907   Shannon Drake      27,     1  \n",
       "4952     Mi-Ri Hwang      23,     1  \n",
       "4973    Ginger Scott      21,     1  \n",
       "\n",
       "[169 rows x 6 columns]"
      ]
     },
     "execution_count": 49,
     "metadata": {},
     "output_type": "execute_result"
    }
   ],
   "source": [
    "string_val_row=data[data['ratings'] == 'avg']\n",
    "\n",
    "string_val_row"
   ]
  },
  {
   "attachments": {},
   "cell_type": "markdown",
   "metadata": {},
   "source": [
    "there are 170 rows with wrong value . out 4999 removing 170 didnot afftect the dataset "
   ]
  },
  {
   "cell_type": "code",
   "execution_count": 50,
   "metadata": {},
   "outputs": [],
   "source": [
    "#droping the rows   \n",
    "data.drop(data[data['ratings'] == 'avg'].index, inplace=True)\n"
   ]
  },
  {
   "attachments": {},
   "cell_type": "markdown",
   "metadata": {},
   "source": [
    " 170 rows values droped"
   ]
  },
  {
   "cell_type": "code",
   "execution_count": 51,
   "metadata": {},
   "outputs": [
    {
     "name": "stdout",
     "output_type": "stream",
     "text": [
      "<class 'pandas.core.frame.DataFrame'>\n",
      "Int64Index: 4830 entries, 0 to 4998\n",
      "Data columns (total 6 columns):\n",
      " #   Column      Non-Null Count  Dtype \n",
      "---  ------      --------------  ----- \n",
      " 0   book title  4830 non-null   object\n",
      " 1   ratings     4830 non-null   object\n",
      " 2   avg_score   4830 non-null   object\n",
      " 3   author      4830 non-null   object\n",
      " 4   score       4830 non-null   object\n",
      " 5   votes       4830 non-null   object\n",
      "dtypes: object(6)\n",
      "memory usage: 264.1+ KB\n"
     ]
    }
   ],
   "source": [
    "data.info()"
   ]
  },
  {
   "attachments": {},
   "cell_type": "markdown",
   "metadata": {},
   "source": [
    "now we have 4829 rows dataset \n",
    "- lets convert the 'ratings' ,'avg_score','score' and 'votes' columns into float type."
   ]
  },
  {
   "cell_type": "code",
   "execution_count": 52,
   "metadata": {},
   "outputs": [
    {
     "name": "stdout",
     "output_type": "stream",
     "text": [
      "count    4830.000000\n",
      "mean      257.248240\n",
      "std       153.373567\n",
      "min         0.000000\n",
      "25%       257.000000\n",
      "50%       257.000000\n",
      "75%       257.000000\n",
      "max       999.000000\n",
      "Name: ratings, dtype: float64\n"
     ]
    }
   ],
   "source": [
    "# Convert the 'ratings' column to a numeric data type\n",
    "data['ratings'] = pd.to_numeric(data['ratings'], errors='coerce')\n",
    "data['ratings'].fillna(int(data['ratings'].mean()), inplace=True)\n",
    "print(data['ratings'].describe())\n"
   ]
  },
  {
   "cell_type": "code",
   "execution_count": 53,
   "metadata": {},
   "outputs": [
    {
     "name": "stdout",
     "output_type": "stream",
     "text": [
      "count    4823.000000\n",
      "mean        4.007643\n",
      "std         0.311293\n",
      "min         0.000000\n",
      "25%         3.840000\n",
      "50%         4.020000\n",
      "75%         4.190000\n",
      "max         4.970000\n",
      "Name: avg_score, dtype: float64\n"
     ]
    }
   ],
   "source": [
    "# Convert the 'avg_score' column to a numeric data type\n",
    "data['avg_score'] = pd.to_numeric(data['avg_score'], errors='coerce')\n",
    "print(data['avg_score'].describe())"
   ]
  },
  {
   "attachments": {},
   "cell_type": "markdown",
   "metadata": {},
   "source": [
    "due to some invalid or inaccurate values in avg_Score column, while converting it instead of value may be any null value store   "
   ]
  },
  {
   "cell_type": "code",
   "execution_count": 54,
   "metadata": {},
   "outputs": [
    {
     "name": "stdout",
     "output_type": "stream",
     "text": [
      "count    4830.000000\n",
      "mean       10.594410\n",
      "std        49.073656\n",
      "min         1.000000\n",
      "25%         1.000000\n",
      "50%         1.000000\n",
      "75%         4.000000\n",
      "max       932.000000\n",
      "Name: votes, dtype: float64\n"
     ]
    }
   ],
   "source": [
    "# Convert the 'votes' column to a numeric data type\n",
    "data['votes'] = pd.to_numeric(data['votes'], errors='coerce')\n",
    "data['votes'].fillna(int(data['votes'].mean()), inplace=True)\n",
    "\n",
    "print(data['votes'].describe())"
   ]
  },
  {
   "cell_type": "code",
   "execution_count": 55,
   "metadata": {},
   "outputs": [],
   "source": [
    "data[\"score\"] = df[\"score\"].str.split(',').str[0].astype(float)"
   ]
  },
  {
   "cell_type": "code",
   "execution_count": 56,
   "metadata": {},
   "outputs": [
    {
     "name": "stdout",
     "output_type": "stream",
     "text": [
      "count    4830.00000\n",
      "mean      154.61470\n",
      "std       179.33367\n",
      "min         1.00000\n",
      "25%        69.00000\n",
      "50%        96.00000\n",
      "75%       164.00000\n",
      "max       999.00000\n",
      "Name: score, dtype: float64\n"
     ]
    }
   ],
   "source": [
    "# Define a lambda function to convert each value to numeric, or return the original value if conversion fails\n",
    "to_numeric_or_original = lambda x: pd.to_numeric(x, errors='coerce') if isinstance(x, str) else x\n",
    "\n",
    "# Apply the lambda function to each value in the 'score' column\n",
    "data['score'] = data['score'].apply(to_numeric_or_original)\n",
    "\n",
    "# Get summary statistics for the 'score' column\n",
    "print(data['score'].describe())\n"
   ]
  },
  {
   "cell_type": "code",
   "execution_count": 57,
   "metadata": {},
   "outputs": [
    {
     "name": "stdout",
     "output_type": "stream",
     "text": [
      "<class 'pandas.core.frame.DataFrame'>\n",
      "Int64Index: 4830 entries, 0 to 4998\n",
      "Data columns (total 6 columns):\n",
      " #   Column      Non-Null Count  Dtype  \n",
      "---  ------      --------------  -----  \n",
      " 0   book title  4830 non-null   object \n",
      " 1   ratings     4830 non-null   float64\n",
      " 2   avg_score   4823 non-null   float64\n",
      " 3   author      4830 non-null   object \n",
      " 4   score       4830 non-null   float64\n",
      " 5   votes       4830 non-null   float64\n",
      "dtypes: float64(4), object(2)\n",
      "memory usage: 264.1+ KB\n"
     ]
    }
   ],
   "source": [
    "data.info()"
   ]
  },
  {
   "cell_type": "code",
   "execution_count": 58,
   "metadata": {},
   "outputs": [
    {
     "data": {
      "text/html": [
       "<div>\n",
       "<style scoped>\n",
       "    .dataframe tbody tr th:only-of-type {\n",
       "        vertical-align: middle;\n",
       "    }\n",
       "\n",
       "    .dataframe tbody tr th {\n",
       "        vertical-align: top;\n",
       "    }\n",
       "\n",
       "    .dataframe thead th {\n",
       "        text-align: right;\n",
       "    }\n",
       "</style>\n",
       "<table border=\"1\" class=\"dataframe\">\n",
       "  <thead>\n",
       "    <tr style=\"text-align: right;\">\n",
       "      <th></th>\n",
       "      <th>ratings</th>\n",
       "      <th>avg_score</th>\n",
       "      <th>score</th>\n",
       "      <th>votes</th>\n",
       "    </tr>\n",
       "  </thead>\n",
       "  <tbody>\n",
       "    <tr>\n",
       "      <th>count</th>\n",
       "      <td>4830.000000</td>\n",
       "      <td>4823.000000</td>\n",
       "      <td>4830.00000</td>\n",
       "      <td>4830.000000</td>\n",
       "    </tr>\n",
       "    <tr>\n",
       "      <th>mean</th>\n",
       "      <td>257.248240</td>\n",
       "      <td>4.007643</td>\n",
       "      <td>154.61470</td>\n",
       "      <td>10.594410</td>\n",
       "    </tr>\n",
       "    <tr>\n",
       "      <th>std</th>\n",
       "      <td>153.373567</td>\n",
       "      <td>0.311293</td>\n",
       "      <td>179.33367</td>\n",
       "      <td>49.073656</td>\n",
       "    </tr>\n",
       "    <tr>\n",
       "      <th>min</th>\n",
       "      <td>0.000000</td>\n",
       "      <td>0.000000</td>\n",
       "      <td>1.00000</td>\n",
       "      <td>1.000000</td>\n",
       "    </tr>\n",
       "    <tr>\n",
       "      <th>25%</th>\n",
       "      <td>257.000000</td>\n",
       "      <td>3.840000</td>\n",
       "      <td>69.00000</td>\n",
       "      <td>1.000000</td>\n",
       "    </tr>\n",
       "    <tr>\n",
       "      <th>50%</th>\n",
       "      <td>257.000000</td>\n",
       "      <td>4.020000</td>\n",
       "      <td>96.00000</td>\n",
       "      <td>1.000000</td>\n",
       "    </tr>\n",
       "    <tr>\n",
       "      <th>75%</th>\n",
       "      <td>257.000000</td>\n",
       "      <td>4.190000</td>\n",
       "      <td>164.00000</td>\n",
       "      <td>4.000000</td>\n",
       "    </tr>\n",
       "    <tr>\n",
       "      <th>max</th>\n",
       "      <td>999.000000</td>\n",
       "      <td>4.970000</td>\n",
       "      <td>999.00000</td>\n",
       "      <td>932.000000</td>\n",
       "    </tr>\n",
       "  </tbody>\n",
       "</table>\n",
       "</div>"
      ],
      "text/plain": [
       "           ratings    avg_score       score        votes\n",
       "count  4830.000000  4823.000000  4830.00000  4830.000000\n",
       "mean    257.248240     4.007643   154.61470    10.594410\n",
       "std     153.373567     0.311293   179.33367    49.073656\n",
       "min       0.000000     0.000000     1.00000     1.000000\n",
       "25%     257.000000     3.840000    69.00000     1.000000\n",
       "50%     257.000000     4.020000    96.00000     1.000000\n",
       "75%     257.000000     4.190000   164.00000     4.000000\n",
       "max     999.000000     4.970000   999.00000   932.000000"
      ]
     },
     "execution_count": 58,
     "metadata": {},
     "output_type": "execute_result"
    }
   ],
   "source": [
    "data.describe()"
   ]
  },
  {
   "attachments": {},
   "cell_type": "markdown",
   "metadata": {},
   "source": [
    "#### Summary statistics\n",
    "Ratings:\n",
    "- The average score is 257.\n",
    "- The std is 153.37, indicating no wide variation in the ratings.\n",
    "- The min rating is 0, which suggests that some data points may be invalid or incomplete.\n",
    "- The max rating is 999, indicating some extreme values for ratings.\n",
    "- The median(50%) rating is also 257, which indicates that the data is symmetrically distributed around the mean.\n",
    "\n",
    "Avg_score:\n",
    "- The average score is 4.01.\n",
    "- The std for scores is 0.31, indicating that the scores are distributed around the mean.\n",
    "- The min score is 0, which suggests that some data points may be invalid or incomplete.\n",
    "- The max score is 4.97, which is within the range of typical scores (1-5).\n",
    "- The median score is 4.02, which is slightly higher than the mean avg_score.\n",
    "\n",
    "Score:\n",
    "- The average score is 154.54.\n",
    "- The std for scores is 179.28, indicating a wide variation in the scores.\n",
    "- The min score is 1, indicating that there are no missing or invalid data points.\n",
    "- The max score is 999, which suggests that some data points may be invalid or incomplete.\n",
    "- The median score is 96, which is lower than the mean score, This could suggest that the dataset has a skewed distribution, with    some extreme values on the higher end of the scale.\n",
    "\n",
    "Votes:\n",
    "- The average number of votes is 10.60.\n",
    "- The std for votes is 49.08, indicating a wide variation in the number of votes.\n",
    "- The min votes is 1, indicating that there are no missing or invalid data points.\n",
    "- The max votes is 932, which suggests that there are some data points that have a very high number of votes.\n",
    "- 75% of the votes are 164 or less, indicating that most data points have a small number of votes."
   ]
  },
  {
   "attachments": {},
   "cell_type": "markdown",
   "metadata": {},
   "source": [
    "## Outlier analysis"
   ]
  },
  {
   "attachments": {},
   "cell_type": "markdown",
   "metadata": {},
   "source": [
    "**1. ratings column**"
   ]
  },
  {
   "cell_type": "code",
   "execution_count": 59,
   "metadata": {},
   "outputs": [
    {
     "data": {
      "image/png": "[encoded data removed]",
      "text/plain": [
       "<Figure size 360x720 with 1 Axes>"
      ]
     },
     "metadata": {},
     "output_type": "display_data"
    },
    {
     "name": "stdout",
     "output_type": "stream",
     "text": [
      "count    4830.000000\n",
      "mean      257.248240\n",
      "std       153.373567\n",
      "min         0.000000\n",
      "25%       257.000000\n",
      "50%       257.000000\n",
      "75%       257.000000\n",
      "max       999.000000\n",
      "Name: ratings, dtype: float64\n"
     ]
    }
   ],
   "source": [
    "plt.figure(figsize=(5,10), facecolor='w')\n",
    "sns.boxplot(data=data['ratings'])\n",
    "plt.show()\n",
    "\n",
    "print(data['ratings'].describe())"
   ]
  },
  {
   "attachments": {},
   "cell_type": "markdown",
   "metadata": {},
   "source": [
    "- the mean value is also same as median, which suggests that the distribution of the data points is approximately symmetric.\n",
    "- minimum value in your dataset is 0 and the maximum value is 999, This indicates that there are some extreme values in your dataset that are significantly higher or lower than the majority of the data points.\n",
    "- These extreme values are also known as outliers."
   ]
  },
  {
   "attachments": {},
   "cell_type": "markdown",
   "metadata": {},
   "source": [
    "**Let handle outliers in rating column**"
   ]
  },
  {
   "cell_type": "code",
   "execution_count": 60,
   "metadata": {},
   "outputs": [
    {
     "data": {
      "text/plain": [
       "book title    1513\n",
       "ratings       1513\n",
       "avg_score     1513\n",
       "author        1513\n",
       "score         1513\n",
       "votes         1513\n",
       "dtype: int64"
      ]
     },
     "execution_count": 60,
     "metadata": {},
     "output_type": "execute_result"
    }
   ],
   "source": [
    "# Calculate the IQR for the ratings column\n",
    "q1 = data['ratings'].quantile(0.25)\n",
    "q3 = data['ratings'].quantile(0.75)\n",
    "iqr = q3 - q1\n",
    "# Identify potential outliers\n",
    "lower_bound = q1 - 1.5*iqr\n",
    "upper_bound = q3 + 1.5*iqr\n",
    "\n",
    "outliers_ratings =data[(data['ratings'] < lower_bound) | (data['ratings'] > upper_bound)].count()\n",
    "outliers_ratings"
   ]
  },
  {
   "attachments": {},
   "cell_type": "markdown",
   "metadata": {},
   "source": [
    "- 1513 rows having outliers \n",
    "- adjusting the outlier with median value\n"
   ]
  },
  {
   "cell_type": "code",
   "execution_count": 61,
   "metadata": {},
   "outputs": [],
   "source": [
    "median = np.median(data['ratings'])\n",
    "data.loc[(data['ratings'] < lower_bound) | (data['ratings'] > upper_bound), 'ratings'] = median"
   ]
  },
  {
   "cell_type": "code",
   "execution_count": 62,
   "metadata": {},
   "outputs": [
    {
     "name": "stderr",
     "output_type": "stream",
     "text": [
      "c:\\Users\\Chandru\\AppData\\Local\\Programs\\Python\\Python310\\lib\\site-packages\\seaborn\\distributions.py:316: UserWarning: Dataset has 0 variance; skipping density estimate. Pass `warn_singular=False` to disable this warning.\n",
      "  warnings.warn(msg, UserWarning)\n"
     ]
    },
    {
     "data": {
      "text/plain": [
       "<AxesSubplot: xlabel='ratings', ylabel='Count'>"
      ]
     },
     "execution_count": 62,
     "metadata": {},
     "output_type": "execute_result"
    },
    {
     "data": {
      "image/png": "[encoded data removed]",
      "text/plain": [
       "<Figure size 432x288 with 1 Axes>"
      ]
     },
     "metadata": {
      "needs_background": "light"
     },
     "output_type": "display_data"
    }
   ],
   "source": [
    "sns.histplot(data=data, x=\"ratings\", kde=True)\n",
    "sns.kdeplot(data=data, x=\"ratings\")"
   ]
  },
  {
   "cell_type": "code",
   "execution_count": 63,
   "metadata": {},
   "outputs": [
    {
     "name": "stdout",
     "output_type": "stream",
     "text": [
      "Data looks normally distributed (fail to reject H0)\n"
     ]
    },
    {
     "name": "stderr",
     "output_type": "stream",
     "text": [
      "c:\\Users\\Chandru\\AppData\\Local\\Programs\\Python\\Python310\\lib\\site-packages\\scipy\\stats\\_morestats.py:1797: UserWarning: Input data for shapiro has range zero. The results may not be accurate.\n",
      "  warnings.warn(\"Input data for shapiro has range zero. The results \"\n"
     ]
    }
   ],
   "source": [
    "from scipy.stats import shapiro\n",
    "\n",
    "# perform Shapiro-Wilk test\n",
    "stat, p = shapiro(data['ratings'])\n",
    "\n",
    "# interpret the results\n",
    "alpha = 0.05\n",
    "if p > alpha:\n",
    "    print('Data looks normally distributed (fail to reject H0)')\n",
    "else:\n",
    "    print('Data does not look normally distributed (reject H0)')\n"
   ]
  },
  {
   "attachments": {},
   "cell_type": "markdown",
   "metadata": {},
   "source": [
    "**2. Avg_score column**"
   ]
  },
  {
   "cell_type": "code",
   "execution_count": 64,
   "metadata": {},
   "outputs": [
    {
     "data": {
      "image/png": "[encoded data removed]",
      "text/plain": [
       "<Figure size 360x720 with 1 Axes>"
      ]
     },
     "metadata": {},
     "output_type": "display_data"
    },
    {
     "name": "stdout",
     "output_type": "stream",
     "text": [
      "count    4823.000000\n",
      "mean        4.007643\n",
      "std         0.311293\n",
      "min         0.000000\n",
      "25%         3.840000\n",
      "50%         4.020000\n",
      "75%         4.190000\n",
      "max         4.970000\n",
      "Name: avg_score, dtype: float64\n"
     ]
    }
   ],
   "source": [
    "plt.figure(figsize=(5,10), facecolor='w')\n",
    "sns.boxplot(data=data['avg_score'])\n",
    "plt.show()\n",
    "\n",
    "print(data['avg_score'].describe())\n"
   ]
  },
  {
   "attachments": {},
   "cell_type": "markdown",
   "metadata": {},
   "source": [
    "**Let handle outliers in avg_score column**"
   ]
  },
  {
   "cell_type": "code",
   "execution_count": 66,
   "metadata": {},
   "outputs": [
    {
     "data": {
      "text/plain": [
       "book title    109\n",
       "ratings       109\n",
       "avg_score     109\n",
       "author        109\n",
       "score         109\n",
       "votes         109\n",
       "dtype: int64"
      ]
     },
     "execution_count": 66,
     "metadata": {},
     "output_type": "execute_result"
    }
   ],
   "source": [
    "# Calculate the IQR for the votes column\n",
    "q1 = data['avg_score'].quantile(0.25)\n",
    "q3 = data['avg_score'].quantile(0.75)\n",
    "iqr = q3 - q1\n",
    "# Identify potential outliers\n",
    "lower_bound = q1 - 1.5*iqr\n",
    "upper_bound = q3 + 1.5*iqr\n",
    "\n",
    "outliers_avg =data[(data['avg_score'] < lower_bound) | (data['avg_score'] > upper_bound)].count()\n",
    "outliers_avg"
   ]
  },
  {
   "attachments": {},
   "cell_type": "markdown",
   "metadata": {},
   "source": [
    "- as per abobe desciption the IQR is Q3-Q1 = 4.19-3.84 = 0.35. Therefore, any loer bound value Q1-1.5*IQR = 3.285 or upper bound value Q3+1.5IQR = 4.745 can be considered as outliers.\n"
   ]
  },
  {
   "cell_type": "code",
   "execution_count": 67,
   "metadata": {},
   "outputs": [],
   "source": [
    "median = np.median(data['avg_score'])\n",
    "data.loc[(data['avg_score'] < lower_bound) | (data['avg_score'] > upper_bound), 'avg_score'] = median"
   ]
  },
  {
   "cell_type": "code",
   "execution_count": 68,
   "metadata": {},
   "outputs": [
    {
     "data": {
      "text/plain": [
       "<AxesSubplot: xlabel='avg_score', ylabel='Count'>"
      ]
     },
     "execution_count": 68,
     "metadata": {},
     "output_type": "execute_result"
    },
    {
     "data": {
      "image/png": "[encoded data removed]",
      "text/plain": [
       "<Figure size 432x288 with 1 Axes>"
      ]
     },
     "metadata": {
      "needs_background": "light"
     },
     "output_type": "display_data"
    }
   ],
   "source": [
    "sns.histplot(data=data, x=\"avg_score\", kde=True)\n",
    "sns.kdeplot(data=data, x=\"avg_score\")"
   ]
  },
  {
   "cell_type": "code",
   "execution_count": 69,
   "metadata": {},
   "outputs": [
    {
     "name": "stdout",
     "output_type": "stream",
     "text": [
      "Data looks normally distributed (fail to reject H0)\n"
     ]
    }
   ],
   "source": [
    "from scipy.stats import shapiro\n",
    "\n",
    "# perform Shapiro-Wilk test\n",
    "stat, p = shapiro(data['avg_score'])\n",
    "\n",
    "# interpret the results\n",
    "alpha = 0.05\n",
    "if p > alpha:\n",
    "    print('Data looks normally distributed (fail to reject H0)')\n",
    "else:\n",
    "    print('Data does not look normally distributed (reject H0)')"
   ]
  },
  {
   "attachments": {},
   "cell_type": "markdown",
   "metadata": {},
   "source": [
    "**3. votes**"
   ]
  },
  {
   "cell_type": "code",
   "execution_count": 70,
   "metadata": {},
   "outputs": [
    {
     "data": {
      "image/png": "[encoded data removed]",
      "text/plain": [
       "<Figure size 360x720 with 1 Axes>"
      ]
     },
     "metadata": {},
     "output_type": "display_data"
    },
    {
     "name": "stdout",
     "output_type": "stream",
     "text": [
      "count    4830.000000\n",
      "mean       10.594410\n",
      "std        49.073656\n",
      "min         1.000000\n",
      "25%         1.000000\n",
      "50%         1.000000\n",
      "75%         4.000000\n",
      "max       932.000000\n",
      "Name: votes, dtype: float64\n"
     ]
    }
   ],
   "source": [
    "plt.figure(figsize=(5,10), facecolor='w')\n",
    "sns.boxplot(data=data['votes'])\n",
    "plt.show()\n",
    "\n",
    "print(data['votes'].describe())"
   ]
  },
  {
   "attachments": {},
   "cell_type": "markdown",
   "metadata": {},
   "source": [
    "**Let handle outliers in votes column**"
   ]
  },
  {
   "cell_type": "code",
   "execution_count": 71,
   "metadata": {},
   "outputs": [
    {
     "data": {
      "text/plain": [
       "book title    688\n",
       "ratings       688\n",
       "avg_score     687\n",
       "author        688\n",
       "score         688\n",
       "votes         688\n",
       "dtype: int64"
      ]
     },
     "execution_count": 71,
     "metadata": {},
     "output_type": "execute_result"
    }
   ],
   "source": [
    "# Calculate the IQR for the votes column\n",
    "q1 = data['votes'].quantile(0.25)\n",
    "q3 = data['votes'].quantile(0.75)\n",
    "iqr = q3 - q1\n",
    "# Identify potential outliers\n",
    "lower_bound = q1 - 1.5*iqr\n",
    "upper_bound = q3 + 1.5*iqr\n",
    "\n",
    "outliers_votes =data[(data['votes'] < lower_bound) | (data['votes'] > upper_bound)].count()\n",
    "outliers_votes"
   ]
  },
  {
   "attachments": {},
   "cell_type": "markdown",
   "metadata": {},
   "source": [
    "This code will calculate the IQR for the votes column and then identify any potential outliers that fall below the lower bound or above the upper bound."
   ]
  },
  {
   "cell_type": "code",
   "execution_count": 72,
   "metadata": {},
   "outputs": [],
   "source": [
    "median = np.median(data['votes'])\n",
    "data.loc[(data['votes'] < lower_bound) | (data['votes'] > upper_bound), 'votes'] = median"
   ]
  },
  {
   "cell_type": "code",
   "execution_count": 73,
   "metadata": {},
   "outputs": [
    {
     "data": {
      "text/plain": [
       "<AxesSubplot: xlabel='votes', ylabel='Count'>"
      ]
     },
     "execution_count": 73,
     "metadata": {},
     "output_type": "execute_result"
    },
    {
     "data": {
      "image/png": "[encoded data removed]",
      "text/plain": [
       "<Figure size 432x288 with 1 Axes>"
      ]
     },
     "metadata": {
      "needs_background": "light"
     },
     "output_type": "display_data"
    }
   ],
   "source": [
    "sns.histplot(data=data, x=\"votes\", kde=True)\n",
    "sns.kdeplot(data=data, x=\"votes\")"
   ]
  },
  {
   "cell_type": "code",
   "execution_count": 74,
   "metadata": {},
   "outputs": [
    {
     "name": "stdout",
     "output_type": "stream",
     "text": [
      "Data does not look normally distributed (reject H0)\n"
     ]
    }
   ],
   "source": [
    "from scipy.stats import shapiro\n",
    "\n",
    "# perform Shapiro-Wilk test\n",
    "stat, p = shapiro(data['votes'])\n",
    "\n",
    "# interpret the results\n",
    "alpha = 0.05\n",
    "if p > alpha:\n",
    "    print('Data looks normally distributed (fail to reject H0)')\n",
    "else:\n",
    "    print('Data does not look normally distributed (reject H0)')"
   ]
  },
  {
   "cell_type": "code",
   "execution_count": 75,
   "metadata": {},
   "outputs": [
    {
     "name": "stdout",
     "output_type": "stream",
     "text": [
      "Statistics=0.630, p=0.000\n",
      "Data does not look normally distributed (reject H0)\n"
     ]
    }
   ],
   "source": [
    "# Perform log transformation on the 'ratings' column\n",
    "data['votes_log'] = np.log(data['votes'])\n",
    "\n",
    "# Check if the transformed data is normally distributed using the Shapiro-Wilk test\n",
    "from scipy.stats import shapiro\n",
    "\n",
    "stat, p = shapiro(data['votes_log'])\n",
    "print('Statistics=%.3f, p=%.3f' % (stat, p))\n",
    "if p > 0.05:\n",
    "    print('Data looks normally distributed (fail to reject H0)')\n",
    "else:\n",
    "    print('Data does not look normally distributed (reject H0)')"
   ]
  },
  {
   "cell_type": "code",
   "execution_count": 76,
   "metadata": {},
   "outputs": [
    {
     "data": {
      "text/plain": [
       "<AxesSubplot: xlabel='votes_log', ylabel='Count'>"
      ]
     },
     "execution_count": 76,
     "metadata": {},
     "output_type": "execute_result"
    },
    {
     "data": {
      "image/png": "[encoded data removed]",
      "text/plain": [
       "<Figure size 432x288 with 1 Axes>"
      ]
     },
     "metadata": {
      "needs_background": "light"
     },
     "output_type": "display_data"
    }
   ],
   "source": [
    "sns.histplot(data=data, x=\"votes_log\", kde=True)\n",
    "sns.kdeplot(data=data, x=\"votes_log\")"
   ]
  },
  {
   "attachments": {},
   "cell_type": "markdown",
   "metadata": {},
   "source": [
    "**4. score**"
   ]
  },
  {
   "cell_type": "code",
   "execution_count": 77,
   "metadata": {},
   "outputs": [
    {
     "data": {
      "image/png": "[encoded data removed]",
      "text/plain": [
       "<Figure size 360x720 with 1 Axes>"
      ]
     },
     "metadata": {},
     "output_type": "display_data"
    },
    {
     "name": "stdout",
     "output_type": "stream",
     "text": [
      "count    4830.00000\n",
      "mean      154.61470\n",
      "std       179.33367\n",
      "min         1.00000\n",
      "25%        69.00000\n",
      "50%        96.00000\n",
      "75%       164.00000\n",
      "max       999.00000\n",
      "Name: score, dtype: float64\n"
     ]
    }
   ],
   "source": [
    "score=pd.DataFrame(data, columns=['score'])\n",
    "plt.figure(figsize=(5,10), facecolor='w')\n",
    "sns.boxplot(data=score)\n",
    "plt.show()\n",
    "print(data['score'].describe())"
   ]
  },
  {
   "attachments": {},
   "cell_type": "markdown",
   "metadata": {},
   "source": [
    "**Let handle outliers in score column**"
   ]
  },
  {
   "cell_type": "code",
   "execution_count": 78,
   "metadata": {},
   "outputs": [
    {
     "data": {
      "text/plain": [
       "book title    620\n",
       "ratings       620\n",
       "avg_score     617\n",
       "author        620\n",
       "score         620\n",
       "votes         620\n",
       "votes_log     620\n",
       "dtype: int64"
      ]
     },
     "execution_count": 78,
     "metadata": {},
     "output_type": "execute_result"
    }
   ],
   "source": [
    "# Calculate the IQR for the votes column\n",
    "q1 = data['score'].quantile(0.25)\n",
    "q3 = data['score'].quantile(0.75)\n",
    "iqr = q3 - q1\n",
    "# Identify potential outliers\n",
    "lower_bound = q1 - 1.5*iqr\n",
    "upper_bound = q3 + 1.5*iqr\n",
    "\n",
    "outliers_score =data[(data['score'] < lower_bound) | (data['score'] > upper_bound)].count()\n",
    "outliers_score"
   ]
  },
  {
   "cell_type": "code",
   "execution_count": 79,
   "metadata": {},
   "outputs": [],
   "source": [
    "median = np.median(data['score'])\n",
    "data.loc[(data['score'] < lower_bound) | (data['score'] > upper_bound), 'score'] = median"
   ]
  },
  {
   "cell_type": "code",
   "execution_count": null,
   "metadata": {},
   "outputs": [],
   "source": [
    "# Perform log transformation on the 'ratings' column\n",
    "data['votes_log'] = np.log(data['votes'])\n",
    "\n",
    "# Check if the transformed data is normally distributed using the Shapiro-Wilk test\n",
    "from scipy.stats import shapiro\n",
    "\n",
    "stat, p = shapiro(data['votes_log'])\n",
    "print('Statistics=%.3f, p=%.3f' % (stat, p))\n",
    "if p > 0.05:\n",
    "    print('Data looks normally distributed (fail to reject H0)')\n",
    "else:\n",
    "    print('Data does not look normally distributed (reject H0)')"
   ]
  },
  {
   "cell_type": "code",
   "execution_count": 80,
   "metadata": {},
   "outputs": [
    {
     "data": {
      "text/plain": [
       "<AxesSubplot: xlabel='score', ylabel='Count'>"
      ]
     },
     "execution_count": 80,
     "metadata": {},
     "output_type": "execute_result"
    },
    {
     "data": {
      "image/png": "[encoded data removed]",
      "text/plain": [
       "<Figure size 432x288 with 1 Axes>"
      ]
     },
     "metadata": {
      "needs_background": "light"
     },
     "output_type": "display_data"
    }
   ],
   "source": [
    "sns.histplot(data=data, x=\"score\", kde=True)\n",
    "sns.kdeplot(data=data, x=\"score\")"
   ]
  },
  {
   "attachments": {},
   "cell_type": "markdown",
   "metadata": {},
   "source": [
    "distribution lightly skewded "
   ]
  },
  {
   "cell_type": "code",
   "execution_count": 81,
   "metadata": {},
   "outputs": [
    {
     "name": "stdout",
     "output_type": "stream",
     "text": [
      "Data does not look normally distributed (reject H0)\n"
     ]
    }
   ],
   "source": [
    "from scipy.stats import shapiro\n",
    "\n",
    "# perform Shapiro-Wilk test\n",
    "stat, p = shapiro(data['score'])\n",
    "\n",
    "# interpret the results\n",
    "alpha = 0.05\n",
    "if p > alpha:\n",
    "    print('Data looks normally distributed (fail to reject H0)')\n",
    "else:\n",
    "    print('Data does not look normally distributed (reject H0)')"
   ]
  },
  {
   "attachments": {},
   "cell_type": "markdown",
   "metadata": {},
   "source": [
    "data didnot distributed normally,\n",
    "- let's do log transformation on them"
   ]
  },
  {
   "cell_type": "code",
   "execution_count": 82,
   "metadata": {},
   "outputs": [
    {
     "name": "stdout",
     "output_type": "stream",
     "text": [
      "Statistics=0.679, p=0.000\n",
      "Data does not look normally distributed (reject H0)\n"
     ]
    }
   ],
   "source": [
    "# Perform log transformation on the 'score' column\n",
    "data['score_log'] = np.log(data['score'])\n",
    "\n",
    "# Check if the transformed data is normally distributed using the Shapiro-Wilk test\n",
    "from scipy.stats import shapiro\n",
    "\n",
    "stat, p = shapiro(data['score_log'])\n",
    "print('Statistics=%.3f, p=%.3f' % (stat, p))\n",
    "if p > 0.05:\n",
    "    print('Data looks normally distributed (fail to reject H0)')\n",
    "else:\n",
    "    print('Data does not look normally distributed (reject H0)')"
   ]
  },
  {
   "cell_type": "code",
   "execution_count": 88,
   "metadata": {},
   "outputs": [
    {
     "data": {
      "text/plain": [
       "<AxesSubplot: xlabel='score', ylabel='Count'>"
      ]
     },
     "execution_count": 88,
     "metadata": {},
     "output_type": "execute_result"
    },
    {
     "data": {
      "image/png": "[encoded data removed]",
      "text/plain": [
       "<Figure size 432x288 with 1 Axes>"
      ]
     },
     "metadata": {
      "needs_background": "light"
     },
     "output_type": "display_data"
    }
   ],
   "source": [
    "sns.histplot(data=data, x=\"score\", kde=True)\n",
    "sns.kdeplot(data=data, x=\"score\")"
   ]
  },
  {
   "cell_type": "code",
   "execution_count": 84,
   "metadata": {},
   "outputs": [
    {
     "name": "stdout",
     "output_type": "stream",
     "text": [
      "<class 'pandas.core.frame.DataFrame'>\n",
      "Int64Index: 4830 entries, 0 to 4998\n",
      "Data columns (total 8 columns):\n",
      " #   Column      Non-Null Count  Dtype  \n",
      "---  ------      --------------  -----  \n",
      " 0   book title  4830 non-null   object \n",
      " 1   ratings     4830 non-null   float64\n",
      " 2   avg_score   4714 non-null   float64\n",
      " 3   author      4830 non-null   object \n",
      " 4   score       4830 non-null   float64\n",
      " 5   votes       4830 non-null   float64\n",
      " 6   votes_log   4830 non-null   float64\n",
      " 7   score_log   4830 non-null   float64\n",
      "dtypes: float64(6), object(2)\n",
      "memory usage: 468.6+ KB\n"
     ]
    }
   ],
   "source": [
    "data.info()"
   ]
  },
  {
   "cell_type": "code",
   "execution_count": 90,
   "metadata": {},
   "outputs": [
    {
     "data": {
      "text/plain": [
       "116"
      ]
     },
     "execution_count": 90,
     "metadata": {},
     "output_type": "execute_result"
    }
   ],
   "source": [
    "data['avg_score'].isna().sum()"
   ]
  },
  {
   "cell_type": "code",
   "execution_count": 91,
   "metadata": {},
   "outputs": [],
   "source": [
    "data['avg_score'].fillna(data['avg_score'].median(), inplace=True)"
   ]
  },
  {
   "cell_type": "code",
   "execution_count": 118,
   "metadata": {},
   "outputs": [],
   "source": [
    "data=data.drop([\"score_log\",\"votes_log\"],axis='columns')"
   ]
  },
  {
   "cell_type": "code",
   "execution_count": 119,
   "metadata": {},
   "outputs": [
    {
     "name": "stdout",
     "output_type": "stream",
     "text": [
      "<class 'pandas.core.frame.DataFrame'>\n",
      "Int64Index: 4830 entries, 0 to 4998\n",
      "Data columns (total 6 columns):\n",
      " #   Column      Non-Null Count  Dtype  \n",
      "---  ------      --------------  -----  \n",
      " 0   book title  4830 non-null   object \n",
      " 1   ratings     4830 non-null   float64\n",
      " 2   avg_score   4830 non-null   float64\n",
      " 3   author      4830 non-null   object \n",
      " 4   score       4830 non-null   float64\n",
      " 5   votes       4830 non-null   float64\n",
      "dtypes: float64(4), object(2)\n",
      "memory usage: 393.2+ KB\n"
     ]
    }
   ],
   "source": [
    "data.info()"
   ]
  },
  {
   "cell_type": "code",
   "execution_count": 120,
   "metadata": {},
   "outputs": [
    {
     "data": {
      "text/html": [
       "<div>\n",
       "<style scoped>\n",
       "    .dataframe tbody tr th:only-of-type {\n",
       "        vertical-align: middle;\n",
       "    }\n",
       "\n",
       "    .dataframe tbody tr th {\n",
       "        vertical-align: top;\n",
       "    }\n",
       "\n",
       "    .dataframe thead th {\n",
       "        text-align: right;\n",
       "    }\n",
       "</style>\n",
       "<table border=\"1\" class=\"dataframe\">\n",
       "  <thead>\n",
       "    <tr style=\"text-align: right;\">\n",
       "      <th></th>\n",
       "      <th>ratings</th>\n",
       "      <th>avg_score</th>\n",
       "      <th>score</th>\n",
       "      <th>votes</th>\n",
       "    </tr>\n",
       "  </thead>\n",
       "  <tbody>\n",
       "    <tr>\n",
       "      <th>count</th>\n",
       "      <td>4830.0</td>\n",
       "      <td>4830.000000</td>\n",
       "      <td>4830.000000</td>\n",
       "      <td>4830.000000</td>\n",
       "    </tr>\n",
       "    <tr>\n",
       "      <th>mean</th>\n",
       "      <td>257.0</td>\n",
       "      <td>4.013443</td>\n",
       "      <td>95.363354</td>\n",
       "      <td>1.768116</td>\n",
       "    </tr>\n",
       "    <tr>\n",
       "      <th>std</th>\n",
       "      <td>0.0</td>\n",
       "      <td>0.248703</td>\n",
       "      <td>59.818628</td>\n",
       "      <td>1.565726</td>\n",
       "    </tr>\n",
       "    <tr>\n",
       "      <th>min</th>\n",
       "      <td>257.0</td>\n",
       "      <td>3.320000</td>\n",
       "      <td>1.000000</td>\n",
       "      <td>1.000000</td>\n",
       "    </tr>\n",
       "    <tr>\n",
       "      <th>25%</th>\n",
       "      <td>257.0</td>\n",
       "      <td>3.850000</td>\n",
       "      <td>69.000000</td>\n",
       "      <td>1.000000</td>\n",
       "    </tr>\n",
       "    <tr>\n",
       "      <th>50%</th>\n",
       "      <td>257.0</td>\n",
       "      <td>4.020000</td>\n",
       "      <td>96.000000</td>\n",
       "      <td>1.000000</td>\n",
       "    </tr>\n",
       "    <tr>\n",
       "      <th>75%</th>\n",
       "      <td>257.0</td>\n",
       "      <td>4.180000</td>\n",
       "      <td>100.000000</td>\n",
       "      <td>2.000000</td>\n",
       "    </tr>\n",
       "    <tr>\n",
       "      <th>max</th>\n",
       "      <td>257.0</td>\n",
       "      <td>4.710000</td>\n",
       "      <td>304.000000</td>\n",
       "      <td>8.000000</td>\n",
       "    </tr>\n",
       "  </tbody>\n",
       "</table>\n",
       "</div>"
      ],
      "text/plain": [
       "       ratings    avg_score        score        votes\n",
       "count   4830.0  4830.000000  4830.000000  4830.000000\n",
       "mean     257.0     4.013443    95.363354     1.768116\n",
       "std        0.0     0.248703    59.818628     1.565726\n",
       "min      257.0     3.320000     1.000000     1.000000\n",
       "25%      257.0     3.850000    69.000000     1.000000\n",
       "50%      257.0     4.020000    96.000000     1.000000\n",
       "75%      257.0     4.180000   100.000000     2.000000\n",
       "max      257.0     4.710000   304.000000     8.000000"
      ]
     },
     "execution_count": 120,
     "metadata": {},
     "output_type": "execute_result"
    }
   ],
   "source": [
    "data.describe()"
   ]
  },
  {
   "attachments": {},
   "cell_type": "markdown",
   "metadata": {},
   "source": [
    "## EDA"
   ]
  },
  {
   "cell_type": "code",
   "execution_count": 122,
   "metadata": {},
   "outputs": [
    {
     "data": {
      "text/html": [
       "<div>\n",
       "<style scoped>\n",
       "    .dataframe tbody tr th:only-of-type {\n",
       "        vertical-align: middle;\n",
       "    }\n",
       "\n",
       "    .dataframe tbody tr th {\n",
       "        vertical-align: top;\n",
       "    }\n",
       "\n",
       "    .dataframe thead th {\n",
       "        text-align: right;\n",
       "    }\n",
       "</style>\n",
       "<table border=\"1\" class=\"dataframe\">\n",
       "  <thead>\n",
       "    <tr style=\"text-align: right;\">\n",
       "      <th></th>\n",
       "      <th>book title</th>\n",
       "      <th>ratings</th>\n",
       "      <th>avg_score</th>\n",
       "      <th>author</th>\n",
       "      <th>score</th>\n",
       "      <th>votes</th>\n",
       "    </tr>\n",
       "  </thead>\n",
       "  <tbody>\n",
       "    <tr>\n",
       "      <th>0</th>\n",
       "      <td>Pride and Prejudice</td>\n",
       "      <td>257.0</td>\n",
       "      <td>4.28</td>\n",
       "      <td>Jane Austen</td>\n",
       "      <td>237.0</td>\n",
       "      <td>1.0</td>\n",
       "    </tr>\n",
       "    <tr>\n",
       "      <th>1</th>\n",
       "      <td>Fifty Shades of Grey (Fifty Shades, #1)</td>\n",
       "      <td>257.0</td>\n",
       "      <td>3.66</td>\n",
       "      <td>E.L. James</td>\n",
       "      <td>231.0</td>\n",
       "      <td>1.0</td>\n",
       "    </tr>\n",
       "    <tr>\n",
       "      <th>2</th>\n",
       "      <td>Beautiful Disaster (Beautiful, #1)</td>\n",
       "      <td>257.0</td>\n",
       "      <td>4.04</td>\n",
       "      <td>Jamie McGuire</td>\n",
       "      <td>216.0</td>\n",
       "      <td>1.0</td>\n",
       "    </tr>\n",
       "    <tr>\n",
       "      <th>3</th>\n",
       "      <td>Twilight (The Twilight Saga, #1)</td>\n",
       "      <td>257.0</td>\n",
       "      <td>3.64</td>\n",
       "      <td>Stephenie Meyer</td>\n",
       "      <td>138.0</td>\n",
       "      <td>1.0</td>\n",
       "    </tr>\n",
       "    <tr>\n",
       "      <th>4</th>\n",
       "      <td>The Notebook (The Notebook, #1)</td>\n",
       "      <td>257.0</td>\n",
       "      <td>4.14</td>\n",
       "      <td>Nicholas Sparks</td>\n",
       "      <td>98.0</td>\n",
       "      <td>1.0</td>\n",
       "    </tr>\n",
       "  </tbody>\n",
       "</table>\n",
       "</div>"
      ],
      "text/plain": [
       "                                book title  ratings  avg_score  \\\n",
       "0                      Pride and Prejudice    257.0       4.28   \n",
       "1  Fifty Shades of Grey (Fifty Shades, #1)    257.0       3.66   \n",
       "2       Beautiful Disaster (Beautiful, #1)    257.0       4.04   \n",
       "3         Twilight (The Twilight Saga, #1)    257.0       3.64   \n",
       "4          The Notebook (The Notebook, #1)    257.0       4.14   \n",
       "\n",
       "            author  score  votes  \n",
       "0      Jane Austen  237.0    1.0  \n",
       "1       E.L. James  231.0    1.0  \n",
       "2    Jamie McGuire  216.0    1.0  \n",
       "3  Stephenie Meyer  138.0    1.0  \n",
       "4  Nicholas Sparks   98.0    1.0  "
      ]
     },
     "execution_count": 122,
     "metadata": {},
     "output_type": "execute_result"
    }
   ],
   "source": [
    "data.head(5)"
   ]
  },
  {
   "cell_type": "code",
   "execution_count": 95,
   "metadata": {},
   "outputs": [
    {
     "name": "stdout",
     "output_type": "stream",
     "text": [
      "number of author 2391\n"
     ]
    }
   ],
   "source": [
    "print(\"number of author\",data.author.nunique())"
   ]
  },
  {
   "cell_type": "code",
   "execution_count": 153,
   "metadata": {},
   "outputs": [
    {
     "name": "stdout",
     "output_type": "stream",
     "text": [
      "TOp 10 highest book writers\n",
      "Nora Roberts        68\n",
      "Kristen Ashley      34\n",
      "Lisa Kleypas        31\n",
      "Suzanne Halliday    30\n",
      "Ella Fox            26\n",
      "Julia Quinn         26\n",
      "Eloisa James        25\n",
      "Nalini Singh        24\n",
      "Lora Leigh          20\n",
      "Julie Garwood       20\n",
      "Name: author, dtype: int64\n"
     ]
    }
   ],
   "source": [
    "print(\"TOp 10 highest book writers\")\n",
    "print(data['author'].value_counts().head(10))"
   ]
  },
  {
   "cell_type": "code",
   "execution_count": 124,
   "metadata": {},
   "outputs": [
    {
     "data": {
      "text/html": [
       "<div>\n",
       "<style scoped>\n",
       "    .dataframe tbody tr th:only-of-type {\n",
       "        vertical-align: middle;\n",
       "    }\n",
       "\n",
       "    .dataframe tbody tr th {\n",
       "        vertical-align: top;\n",
       "    }\n",
       "\n",
       "    .dataframe thead th {\n",
       "        text-align: right;\n",
       "    }\n",
       "</style>\n",
       "<table border=\"1\" class=\"dataframe\">\n",
       "  <thead>\n",
       "    <tr style=\"text-align: right;\">\n",
       "      <th></th>\n",
       "      <th>author</th>\n",
       "      <th>votes</th>\n",
       "    </tr>\n",
       "  </thead>\n",
       "  <tbody>\n",
       "    <tr>\n",
       "      <th>1778</th>\n",
       "      <td>Nora Roberts</td>\n",
       "      <td>129.0</td>\n",
       "    </tr>\n",
       "    <tr>\n",
       "      <th>1288</th>\n",
       "      <td>Kristen Ashley</td>\n",
       "      <td>91.0</td>\n",
       "    </tr>\n",
       "    <tr>\n",
       "      <th>1355</th>\n",
       "      <td>Laurann Dohner</td>\n",
       "      <td>73.0</td>\n",
       "    </tr>\n",
       "    <tr>\n",
       "      <th>1722</th>\n",
       "      <td>Nalini Singh</td>\n",
       "      <td>67.0</td>\n",
       "    </tr>\n",
       "    <tr>\n",
       "      <th>1445</th>\n",
       "      <td>Lisa Kleypas</td>\n",
       "      <td>57.0</td>\n",
       "    </tr>\n",
       "    <tr>\n",
       "      <th>2264</th>\n",
       "      <td>Tessa Dare</td>\n",
       "      <td>55.0</td>\n",
       "    </tr>\n",
       "    <tr>\n",
       "      <th>662</th>\n",
       "      <td>Eloisa James</td>\n",
       "      <td>54.0</td>\n",
       "    </tr>\n",
       "    <tr>\n",
       "      <th>2038</th>\n",
       "      <td>Sarah J. Maas</td>\n",
       "      <td>53.0</td>\n",
       "    </tr>\n",
       "    <tr>\n",
       "      <th>770</th>\n",
       "      <td>Gena Showalter</td>\n",
       "      <td>53.0</td>\n",
       "    </tr>\n",
       "    <tr>\n",
       "      <th>772</th>\n",
       "      <td>Georgette Heyer</td>\n",
       "      <td>49.0</td>\n",
       "    </tr>\n",
       "  </tbody>\n",
       "</table>\n",
       "</div>"
      ],
      "text/plain": [
       "               author  votes\n",
       "1778     Nora Roberts  129.0\n",
       "1288   Kristen Ashley   91.0\n",
       "1355   Laurann Dohner   73.0\n",
       "1722     Nalini Singh   67.0\n",
       "1445     Lisa Kleypas   57.0\n",
       "2264       Tessa Dare   55.0\n",
       "662      Eloisa James   54.0\n",
       "2038    Sarah J. Maas   53.0\n",
       "770    Gena Showalter   53.0\n",
       "772   Georgette Heyer   49.0"
      ]
     },
     "execution_count": 124,
     "metadata": {},
     "output_type": "execute_result"
    }
   ],
   "source": [
    "dfvalued=data.groupby(['author'])['votes'].sum().reset_index()\n",
    "\n",
    "dfvalued.sort_values(by=\"votes\",ascending=False).head(10)"
   ]
  },
  {
   "cell_type": "code",
   "execution_count": 134,
   "metadata": {},
   "outputs": [
    {
     "data": {
      "text/html": [
       "<div>\n",
       "<style scoped>\n",
       "    .dataframe tbody tr th:only-of-type {\n",
       "        vertical-align: middle;\n",
       "    }\n",
       "\n",
       "    .dataframe tbody tr th {\n",
       "        vertical-align: top;\n",
       "    }\n",
       "\n",
       "    .dataframe thead th {\n",
       "        text-align: right;\n",
       "    }\n",
       "</style>\n",
       "<table border=\"1\" class=\"dataframe\">\n",
       "  <thead>\n",
       "    <tr style=\"text-align: right;\">\n",
       "      <th></th>\n",
       "      <th>book title</th>\n",
       "      <th>votes</th>\n",
       "    </tr>\n",
       "  </thead>\n",
       "  <tbody>\n",
       "    <tr>\n",
       "      <th>34</th>\n",
       "      <td>Key of Valor (Key Trilogy, #3)</td>\n",
       "      <td>7.0</td>\n",
       "    </tr>\n",
       "    <tr>\n",
       "      <th>45</th>\n",
       "      <td>River's End</td>\n",
       "      <td>7.0</td>\n",
       "    </tr>\n",
       "    <tr>\n",
       "      <th>52</th>\n",
       "      <td>The Heart of Devin MacKade (The MacKade Brothe...</td>\n",
       "      <td>7.0</td>\n",
       "    </tr>\n",
       "    <tr>\n",
       "      <th>15</th>\n",
       "      <td>Daring to Dream (Dream Trilogy, #1)</td>\n",
       "      <td>6.0</td>\n",
       "    </tr>\n",
       "    <tr>\n",
       "      <th>61</th>\n",
       "      <td>The Search</td>\n",
       "      <td>6.0</td>\n",
       "    </tr>\n",
       "    <tr>\n",
       "      <th>5</th>\n",
       "      <td>Blue Dahlia (In the Garden, #1)</td>\n",
       "      <td>5.0</td>\n",
       "    </tr>\n",
       "    <tr>\n",
       "      <th>33</th>\n",
       "      <td>Key of Light (Key Trilogy, #1)</td>\n",
       "      <td>5.0</td>\n",
       "    </tr>\n",
       "    <tr>\n",
       "      <th>4</th>\n",
       "      <td>Blood Brothers (Sign of Seven, #1)</td>\n",
       "      <td>5.0</td>\n",
       "    </tr>\n",
       "    <tr>\n",
       "      <th>3</th>\n",
       "      <td>Black Rose (In the Garden, #2)</td>\n",
       "      <td>5.0</td>\n",
       "    </tr>\n",
       "    <tr>\n",
       "      <th>7</th>\n",
       "      <td>Born in Ice (Born In Trilogy, #2)</td>\n",
       "      <td>4.0</td>\n",
       "    </tr>\n",
       "  </tbody>\n",
       "</table>\n",
       "</div>"
      ],
      "text/plain": [
       "                                           book title  votes\n",
       "34                     Key of Valor (Key Trilogy, #3)    7.0\n",
       "45                                        River's End    7.0\n",
       "52  The Heart of Devin MacKade (The MacKade Brothe...    7.0\n",
       "15                Daring to Dream (Dream Trilogy, #1)    6.0\n",
       "61                                         The Search    6.0\n",
       "5                     Blue Dahlia (In the Garden, #1)    5.0\n",
       "33                     Key of Light (Key Trilogy, #1)    5.0\n",
       "4                  Blood Brothers (Sign of Seven, #1)    5.0\n",
       "3                      Black Rose (In the Garden, #2)    5.0\n",
       "7                   Born in Ice (Born In Trilogy, #2)    4.0"
      ]
     },
     "execution_count": 134,
     "metadata": {},
     "output_type": "execute_result"
    }
   ],
   "source": [
    "# Filter the data to only include books by the Nora Roberts author\n",
    "author_df = data[data['author'] == 'Nora Roberts'\t]\n",
    "grouped = author_df.groupby('book title')['votes'].sum().reset_index()\n",
    "sorted_books = grouped.sort_values(by='votes', ascending=False).head(10)\n",
    "sorted_books"
   ]
  },
  {
   "cell_type": "code",
   "execution_count": null,
   "metadata": {},
   "outputs": [],
   "source": [
    "dfvalued=data.groupby(['author'])['votes'].sum().reset_index()\n",
    "\n",
    "dfvalued.sort_values(by=\"votes\",ascending=False).head(10)"
   ]
  },
  {
   "cell_type": "code",
   "execution_count": 139,
   "metadata": {},
   "outputs": [
    {
     "name": "stdout",
     "output_type": "stream",
     "text": [
      "Top 10 books by  votes  \n"
     ]
    },
    {
     "data": {
      "text/html": [
       "<div>\n",
       "<style scoped>\n",
       "    .dataframe tbody tr th:only-of-type {\n",
       "        vertical-align: middle;\n",
       "    }\n",
       "\n",
       "    .dataframe tbody tr th {\n",
       "        vertical-align: top;\n",
       "    }\n",
       "\n",
       "    .dataframe thead th {\n",
       "        text-align: right;\n",
       "    }\n",
       "</style>\n",
       "<table border=\"1\" class=\"dataframe\">\n",
       "  <thead>\n",
       "    <tr style=\"text-align: right;\">\n",
       "      <th></th>\n",
       "      <th>book title</th>\n",
       "      <th>author</th>\n",
       "      <th>votes</th>\n",
       "    </tr>\n",
       "  </thead>\n",
       "  <tbody>\n",
       "    <tr>\n",
       "      <th>4412</th>\n",
       "      <td>Treading Water (Treading Water, #1)</td>\n",
       "      <td>Marie Force</td>\n",
       "      <td>8.0</td>\n",
       "    </tr>\n",
       "    <tr>\n",
       "      <th>981</th>\n",
       "      <td>Dead and Gone (Sookie Stackhouse, #9)</td>\n",
       "      <td>Charlaine Harris</td>\n",
       "      <td>8.0</td>\n",
       "    </tr>\n",
       "    <tr>\n",
       "      <th>2889</th>\n",
       "      <td>Requiem (Delirium, #3)</td>\n",
       "      <td>Lauren Oliver</td>\n",
       "      <td>8.0</td>\n",
       "    </tr>\n",
       "    <tr>\n",
       "      <th>3586</th>\n",
       "      <td>The Champion</td>\n",
       "      <td>Carla Capshaw</td>\n",
       "      <td>8.0</td>\n",
       "    </tr>\n",
       "    <tr>\n",
       "      <th>2634</th>\n",
       "      <td>Origin (Lux, #4)</td>\n",
       "      <td>Jennifer L. Armentrout</td>\n",
       "      <td>8.0</td>\n",
       "    </tr>\n",
       "    <tr>\n",
       "      <th>2881</th>\n",
       "      <td>Remembrance</td>\n",
       "      <td>Jude Deveraux</td>\n",
       "      <td>8.0</td>\n",
       "    </tr>\n",
       "    <tr>\n",
       "      <th>1001</th>\n",
       "      <td>Deeper Than Midnight (Midnight Breed, #9)</td>\n",
       "      <td>Lara Adrian</td>\n",
       "      <td>8.0</td>\n",
       "    </tr>\n",
       "    <tr>\n",
       "      <th>580</th>\n",
       "      <td>Born at Midnight (Shadow Falls, #1)</td>\n",
       "      <td>C.C. Hunter</td>\n",
       "      <td>8.0</td>\n",
       "    </tr>\n",
       "    <tr>\n",
       "      <th>2878</th>\n",
       "      <td>Remember Me?</td>\n",
       "      <td>Sophie Kinsella</td>\n",
       "      <td>8.0</td>\n",
       "    </tr>\n",
       "    <tr>\n",
       "      <th>3752</th>\n",
       "      <td>The Gravity of Us (Elements, #4)</td>\n",
       "      <td>Brittainy C. Cherry</td>\n",
       "      <td>8.0</td>\n",
       "    </tr>\n",
       "  </tbody>\n",
       "</table>\n",
       "</div>"
      ],
      "text/plain": [
       "                                     book title                  author  votes\n",
       "4412        Treading Water (Treading Water, #1)             Marie Force    8.0\n",
       "981       Dead and Gone (Sookie Stackhouse, #9)        Charlaine Harris    8.0\n",
       "2889                     Requiem (Delirium, #3)           Lauren Oliver    8.0\n",
       "3586                               The Champion           Carla Capshaw    8.0\n",
       "2634                           Origin (Lux, #4)  Jennifer L. Armentrout    8.0\n",
       "2881                                Remembrance           Jude Deveraux    8.0\n",
       "1001  Deeper Than Midnight (Midnight Breed, #9)             Lara Adrian    8.0\n",
       "580         Born at Midnight (Shadow Falls, #1)             C.C. Hunter    8.0\n",
       "2878                               Remember Me?         Sophie Kinsella    8.0\n",
       "3752           The Gravity of Us (Elements, #4)     Brittainy C. Cherry    8.0"
      ]
     },
     "execution_count": 139,
     "metadata": {},
     "output_type": "execute_result"
    }
   ],
   "source": [
    "dfvalued=data.groupby(['book title','author'],as_index=False).votes.max()\n",
    "print(\"Top 10 books by  votes  \")\n",
    "dfvalued.sort_values(by=\"votes\",ascending=False).head(10)"
   ]
  },
  {
   "cell_type": "code",
   "execution_count": 98,
   "metadata": {},
   "outputs": [
    {
     "name": "stdout",
     "output_type": "stream",
     "text": [
      "Top 10 books by  rating\n"
     ]
    },
    {
     "data": {
      "text/html": [
       "<div>\n",
       "<style scoped>\n",
       "    .dataframe tbody tr th:only-of-type {\n",
       "        vertical-align: middle;\n",
       "    }\n",
       "\n",
       "    .dataframe tbody tr th {\n",
       "        vertical-align: top;\n",
       "    }\n",
       "\n",
       "    .dataframe thead th {\n",
       "        text-align: right;\n",
       "    }\n",
       "</style>\n",
       "<table border=\"1\" class=\"dataframe\">\n",
       "  <thead>\n",
       "    <tr style=\"text-align: right;\">\n",
       "      <th></th>\n",
       "      <th>book title</th>\n",
       "      <th>author</th>\n",
       "      <th>ratings</th>\n",
       "    </tr>\n",
       "  </thead>\n",
       "  <tbody>\n",
       "    <tr>\n",
       "      <th>0</th>\n",
       "      <td>#Hater (Hashtag, #2)</td>\n",
       "      <td>Cambria Hebert</td>\n",
       "      <td>257.0</td>\n",
       "    </tr>\n",
       "    <tr>\n",
       "      <th>3226</th>\n",
       "      <td>Slide (Roads, #1)</td>\n",
       "      <td>Garrett Leigh</td>\n",
       "      <td>257.0</td>\n",
       "    </tr>\n",
       "    <tr>\n",
       "      <th>3224</th>\n",
       "      <td>Sleepless in Scotland (MacLean Curse, #4)</td>\n",
       "      <td>Karen Hawkins</td>\n",
       "      <td>257.0</td>\n",
       "    </tr>\n",
       "    <tr>\n",
       "      <th>3223</th>\n",
       "      <td>Sleeping With the Wolf (After the Crash, #1)</td>\n",
       "      <td>Maddy Barone</td>\n",
       "      <td>257.0</td>\n",
       "    </tr>\n",
       "    <tr>\n",
       "      <th>3222</th>\n",
       "      <td>Slay Me (Rock Gods, #2)</td>\n",
       "      <td>Joanna Blake</td>\n",
       "      <td>257.0</td>\n",
       "    </tr>\n",
       "    <tr>\n",
       "      <th>3221</th>\n",
       "      <td>Slave to Sensation (Psy-Changeling, #1)</td>\n",
       "      <td>Nalini Singh</td>\n",
       "      <td>257.0</td>\n",
       "    </tr>\n",
       "    <tr>\n",
       "      <th>3220</th>\n",
       "      <td>Slave (Finding Anna, #1)</td>\n",
       "      <td>Sherri Hayes</td>\n",
       "      <td>257.0</td>\n",
       "    </tr>\n",
       "    <tr>\n",
       "      <th>3219</th>\n",
       "      <td>Slammed (Slammed, #1)</td>\n",
       "      <td>Colleen Hoover</td>\n",
       "      <td>257.0</td>\n",
       "    </tr>\n",
       "    <tr>\n",
       "      <th>3218</th>\n",
       "      <td>Slade (Walk of Shame, #1)</td>\n",
       "      <td>Victoria Ashley</td>\n",
       "      <td>257.0</td>\n",
       "    </tr>\n",
       "    <tr>\n",
       "      <th>3217</th>\n",
       "      <td>Slade (New Species, #2)</td>\n",
       "      <td>Laurann Dohner</td>\n",
       "      <td>257.0</td>\n",
       "    </tr>\n",
       "  </tbody>\n",
       "</table>\n",
       "</div>"
      ],
      "text/plain": [
       "                                        book title           author  ratings\n",
       "0                             #Hater (Hashtag, #2)   Cambria Hebert    257.0\n",
       "3226                             Slide (Roads, #1)    Garrett Leigh    257.0\n",
       "3224     Sleepless in Scotland (MacLean Curse, #4)    Karen Hawkins    257.0\n",
       "3223  Sleeping With the Wolf (After the Crash, #1)     Maddy Barone    257.0\n",
       "3222                       Slay Me (Rock Gods, #2)     Joanna Blake    257.0\n",
       "3221       Slave to Sensation (Psy-Changeling, #1)     Nalini Singh    257.0\n",
       "3220                      Slave (Finding Anna, #1)     Sherri Hayes    257.0\n",
       "3219                         Slammed (Slammed, #1)   Colleen Hoover    257.0\n",
       "3218                     Slade (Walk of Shame, #1)  Victoria Ashley    257.0\n",
       "3217                       Slade (New Species, #2)   Laurann Dohner    257.0"
      ]
     },
     "execution_count": 98,
     "metadata": {},
     "output_type": "execute_result"
    }
   ],
   "source": [
    "dfvalued=data.groupby(['book title','author'],as_index=False).ratings.max()\n",
    "print(\"Top 10 books by rating\")\n",
    "dfvalued.sort_values(by=\"ratings\",ascending=False).head(10)"
   ]
  },
  {
   "cell_type": "code",
   "execution_count": 156,
   "metadata": {
    "vscode": {
     "languageId": "ruby"
    }
   },
   "outputs": [
    {
     "name": "stdout",
     "output_type": "stream",
     "text": [
      "Top 10 books by ratings, votes, and average score:\n",
      "+------+----------------------------------------------------+------------------------+-----------+---------+-------------+\n",
      "|      | book title                                         | author                 |   ratings |   votes |   avg_score |\n",
      "+======+====================================================+========================+===========+=========+=============+\n",
      "| 1175 | Empire of Storms (Throne of Glass, #5)             | Sarah J. Maas          |       257 |       8 |        4.57 |\n",
      "+------+----------------------------------------------------+------------------------+-----------+---------+-------------+\n",
      "| 2930 | Rock Chick Redemption (Rock Chick, #3)             | Kristen Ashley         |       257 |       8 |        4.41 |\n",
      "+------+----------------------------------------------------+------------------------+-----------+---------+-------------+\n",
      "|  792 | City of Heavenly Fire (The Mortal Instruments, #6) | Cassandra Clare        |       257 |       8 |        4.4  |\n",
      "+------+----------------------------------------------------+------------------------+-----------+---------+-------------+\n",
      "|  698 | Captive Prince: Volume Two (Captive Prince, #2)    | C.S. Pacat             |       257 |       8 |        4.38 |\n",
      "+------+----------------------------------------------------+------------------------+-----------+---------+-------------+\n",
      "| 1110 | Dreamfever (Fever, #4)                             | Karen Marie Moning     |       257 |       8 |        4.38 |\n",
      "+------+----------------------------------------------------+------------------------+-----------+---------+-------------+\n",
      "|  906 | Crown of Midnight (Throne of Glass, #2)            | Sarah J. Maas          |       257 |       8 |        4.36 |\n",
      "+------+----------------------------------------------------+------------------------+-----------+---------+-------------+\n",
      "| 3000 | Safe with Me (With Me in Seattle, #5)              | Kristen Proby          |       257 |       8 |        4.36 |\n",
      "+------+----------------------------------------------------+------------------------+-----------+---------+-------------+\n",
      "| 3752 | The Gravity of Us (Elements, #4)                   | Brittainy C. Cherry    |       257 |       8 |        4.35 |\n",
      "+------+----------------------------------------------------+------------------------+-----------+---------+-------------+\n",
      "| 4798 | Your Bloods Eve                                    | Linda Jawish           |       257 |       8 |        4.35 |\n",
      "+------+----------------------------------------------------+------------------------+-----------+---------+-------------+\n",
      "| 2634 | Origin (Lux, #4)                                   | Jennifer L. Armentrout |       257 |       8 |        4.34 |\n",
      "+------+----------------------------------------------------+------------------------+-----------+---------+-------------+\n"
     ]
    }
   ],
   "source": [
    "from tabulate import tabulate\n",
    "grouped = data.groupby(['book title', 'author']).agg({'ratings': 'mean', 'votes': 'sum', 'avg_score': 'mean'}).reset_index()\n",
    "sorted_books = grouped.sort_values(by=['ratings', 'votes', 'avg_score'], ascending=False)\n",
    "top_books= sorted_books.head(10)\n",
    "\n",
    "print(\"Top 10 books by ratings, votes, and average score:\")\n",
    "# Print the data as a table using tabulate for better view\n",
    "print(tabulate(top_books, headers=\"keys\", tablefmt=\"grid\"))"
   ]
  },
  {
   "cell_type": "code",
   "execution_count": null,
   "metadata": {},
   "outputs": [],
   "source": []
  }
 ],
 "metadata": {
  "kernelspec": {
   "display_name": "Python 3",
   "language": "python",
   "name": "python3"
  },
  "language_info": {
   "codemirror_mode": {
    "name": "ipython",
    "version": 3
   },
   "file_extension": ".py",
   "mimetype": "text/x-python",
   "name": "python",
   "nbconvert_exporter": "python",
   "pygments_lexer": "ipython3",
   "version": "3.10.4"
  },
  "orig_nbformat": 4,
  "vscode": {
   "interpreter": {
    "hash": "492d89208e1af30f4727fd53e254ea56e6b1a843b376782bfa5f6ce13d676265"
   }
  }
 },
 "nbformat": 4,
 "nbformat_minor": 2
}
