{
 "cells": [
  {
   "cell_type": "code",
   "execution_count": 1,
   "id": "dd63b782",
   "metadata": {
    "_cell_guid": "b1076dfc-b9ad-4769-8c92-a6c4dae69d19",
    "_uuid": "8f2839f25d086af736a60e9eeb907d3b93b6e0e5",
    "execution": {
     "iopub.execute_input": "2023-02-21T11:40:57.379814Z",
     "iopub.status.busy": "2023-02-21T11:40:57.379165Z",
     "iopub.status.idle": "2023-02-21T11:40:57.396675Z",
     "shell.execute_reply": "2023-02-21T11:40:57.395175Z"
    },
    "papermill": {
     "duration": 0.029506,
     "end_time": "2023-02-21T11:40:57.399380",
     "exception": false,
     "start_time": "2023-02-21T11:40:57.369874",
     "status": "completed"
    },
    "tags": []
   },
   "outputs": [
    {
     "name": "stdout",
     "output_type": "stream",
     "text": [
      "/kaggle/input/product-sales-data/statsfinal.csv\n"
     ]
    }
   ],
   "source": [
    "# This Python 3 environment comes with many helpful analytics libraries installed\n",
    "# It is defined by the kaggle/python Docker image: https://github.com/kaggle/docker-python\n",
    "# For example, here's several helpful packages to load\n",
    "\n",
    "import numpy as np # linear algebra\n",
    "import pandas as pd # data processing, CSV file I/O (e.g. pd.read_csv)\n",
    "\n",
    "# Input data files are available in the read-only \"../input/\" directory\n",
    "# For example, running this (by clicking run or pressing Shift+Enter) will list all files under the input directory\n",
    "\n",
    "import os\n",
    "for dirname, _, filenames in os.walk('/kaggle/input'):\n",
    "    for filename in filenames:\n",
    "        print(os.path.join(dirname, filename))\n",
    "\n",
    "# You can write up to 20GB to the current directory (/kaggle/working/) that gets preserved as output when you create a version using \"Save & Run All\" \n",
    "# You can also write temporary files to /kaggle/temp/, but they won't be saved outside of the current session"
   ]
  },
  {
   "cell_type": "markdown",
   "id": "09a6319c",
   "metadata": {
    "papermill": {
     "duration": 0.00573,
     "end_time": "2023-02-21T11:40:57.411523",
     "exception": false,
     "start_time": "2023-02-21T11:40:57.405793",
     "status": "completed"
    },
    "tags": []
   },
   "source": [
    "**Let's Analyz and find following**\n",
    "* Is there any trend in the sales of all four products during certain months?\n",
    "* Out of all four products , which product has seen the highest sales in all the given years?\n",
    "* The company has all it's retail centers closed on the 31st of December every year. Mr: Hariharan , the CEO , would love to get an estimate on no: of units of each product that could be sold on 31st of Dec , every year , if all their retail centers were kept open.\n",
    "* The CEO is considering an idea to drop the production of any one of the products. He wants you to analyze this data and suggest whether his idea would result in a massive setback for the company. \n",
    "* The CEO would also like to predict the sales and revenues for the year 2024. He wants you to give a yearly estimate with the best possible accuracy.\n",
    "\n",
    "* Can you help REC corp with your analytical and data science skills ?\n",
    "> NOTE: This is a hypothetical dataset generated using python for educational purposes. It bears no resemblance to any real firm. Any similarity is a matter of coincidence"
   ]
  },
  {
   "cell_type": "markdown",
   "id": "f52094bb",
   "metadata": {
    "papermill": {
     "duration": 0.005605,
     "end_time": "2023-02-21T11:40:57.423067",
     "exception": false,
     "start_time": "2023-02-21T11:40:57.417462",
     "status": "completed"
    },
    "tags": []
   },
   "source": [
    "### Loading Dataset"
   ]
  },
  {
   "cell_type": "code",
   "execution_count": 2,
   "id": "dc7dd4bf",
   "metadata": {
    "execution": {
     "iopub.execute_input": "2023-02-21T11:40:57.436563Z",
     "iopub.status.busy": "2023-02-21T11:40:57.436156Z",
     "iopub.status.idle": "2023-02-21T11:40:57.484129Z",
     "shell.execute_reply": "2023-02-21T11:40:57.482351Z"
    },
    "papermill": {
     "duration": 0.058074,
     "end_time": "2023-02-21T11:40:57.486976",
     "exception": false,
     "start_time": "2023-02-21T11:40:57.428902",
     "status": "completed"
    },
    "tags": []
   },
   "outputs": [],
   "source": [
    "#if you open in Kaggle editor\n",
    "data = pd.read_csv('/kaggle/input/product-sales-data/statsfinal.csv')"
   ]
  },
  {
   "cell_type": "code",
   "execution_count": 3,
   "id": "6502264b",
   "metadata": {
    "execution": {
     "iopub.execute_input": "2023-02-21T11:40:57.501169Z",
     "iopub.status.busy": "2023-02-21T11:40:57.500488Z",
     "iopub.status.idle": "2023-02-21T11:40:57.529821Z",
     "shell.execute_reply": "2023-02-21T11:40:57.528988Z"
    },
    "papermill": {
     "duration": 0.038767,
     "end_time": "2023-02-21T11:40:57.531847",
     "exception": false,
     "start_time": "2023-02-21T11:40:57.493080",
     "status": "completed"
    },
    "tags": []
   },
   "outputs": [
    {
     "data": {
      "text/html": [
       "<div>\n",
       "<style scoped>\n",
       "    .dataframe tbody tr th:only-of-type {\n",
       "        vertical-align: middle;\n",
       "    }\n",
       "\n",
       "    .dataframe tbody tr th {\n",
       "        vertical-align: top;\n",
       "    }\n",
       "\n",
       "    .dataframe thead th {\n",
       "        text-align: right;\n",
       "    }\n",
       "</style>\n",
       "<table border=\"1\" class=\"dataframe\">\n",
       "  <thead>\n",
       "    <tr style=\"text-align: right;\">\n",
       "      <th></th>\n",
       "      <th>Unnamed: 0</th>\n",
       "      <th>Date</th>\n",
       "      <th>Q-P1</th>\n",
       "      <th>Q-P2</th>\n",
       "      <th>Q-P3</th>\n",
       "      <th>Q-P4</th>\n",
       "      <th>S-P1</th>\n",
       "      <th>S-P2</th>\n",
       "      <th>S-P3</th>\n",
       "      <th>S-P4</th>\n",
       "    </tr>\n",
       "  </thead>\n",
       "  <tbody>\n",
       "    <tr>\n",
       "      <th>0</th>\n",
       "      <td>0</td>\n",
       "      <td>13-06-2010</td>\n",
       "      <td>5422</td>\n",
       "      <td>3725</td>\n",
       "      <td>576</td>\n",
       "      <td>907</td>\n",
       "      <td>17187.74</td>\n",
       "      <td>23616.50</td>\n",
       "      <td>3121.92</td>\n",
       "      <td>6466.91</td>\n",
       "    </tr>\n",
       "    <tr>\n",
       "      <th>1</th>\n",
       "      <td>1</td>\n",
       "      <td>14-06-2010</td>\n",
       "      <td>7047</td>\n",
       "      <td>779</td>\n",
       "      <td>3578</td>\n",
       "      <td>1574</td>\n",
       "      <td>22338.99</td>\n",
       "      <td>4938.86</td>\n",
       "      <td>19392.76</td>\n",
       "      <td>11222.62</td>\n",
       "    </tr>\n",
       "    <tr>\n",
       "      <th>2</th>\n",
       "      <td>2</td>\n",
       "      <td>15-06-2010</td>\n",
       "      <td>1572</td>\n",
       "      <td>2082</td>\n",
       "      <td>595</td>\n",
       "      <td>1145</td>\n",
       "      <td>4983.24</td>\n",
       "      <td>13199.88</td>\n",
       "      <td>3224.90</td>\n",
       "      <td>8163.85</td>\n",
       "    </tr>\n",
       "    <tr>\n",
       "      <th>3</th>\n",
       "      <td>3</td>\n",
       "      <td>16-06-2010</td>\n",
       "      <td>5657</td>\n",
       "      <td>2399</td>\n",
       "      <td>3140</td>\n",
       "      <td>1672</td>\n",
       "      <td>17932.69</td>\n",
       "      <td>15209.66</td>\n",
       "      <td>17018.80</td>\n",
       "      <td>11921.36</td>\n",
       "    </tr>\n",
       "    <tr>\n",
       "      <th>4</th>\n",
       "      <td>4</td>\n",
       "      <td>17-06-2010</td>\n",
       "      <td>3668</td>\n",
       "      <td>3207</td>\n",
       "      <td>2184</td>\n",
       "      <td>708</td>\n",
       "      <td>11627.56</td>\n",
       "      <td>20332.38</td>\n",
       "      <td>11837.28</td>\n",
       "      <td>5048.04</td>\n",
       "    </tr>\n",
       "    <tr>\n",
       "      <th>...</th>\n",
       "      <td>...</td>\n",
       "      <td>...</td>\n",
       "      <td>...</td>\n",
       "      <td>...</td>\n",
       "      <td>...</td>\n",
       "      <td>...</td>\n",
       "      <td>...</td>\n",
       "      <td>...</td>\n",
       "      <td>...</td>\n",
       "      <td>...</td>\n",
       "    </tr>\n",
       "    <tr>\n",
       "      <th>4594</th>\n",
       "      <td>4594</td>\n",
       "      <td>29-01-2023</td>\n",
       "      <td>1227</td>\n",
       "      <td>3044</td>\n",
       "      <td>5510</td>\n",
       "      <td>1896</td>\n",
       "      <td>3889.59</td>\n",
       "      <td>19298.96</td>\n",
       "      <td>29864.20</td>\n",
       "      <td>13518.48</td>\n",
       "    </tr>\n",
       "    <tr>\n",
       "      <th>4595</th>\n",
       "      <td>4595</td>\n",
       "      <td>30-01-2023</td>\n",
       "      <td>2476</td>\n",
       "      <td>3419</td>\n",
       "      <td>525</td>\n",
       "      <td>1359</td>\n",
       "      <td>7848.92</td>\n",
       "      <td>21676.46</td>\n",
       "      <td>2845.50</td>\n",
       "      <td>9689.67</td>\n",
       "    </tr>\n",
       "    <tr>\n",
       "      <th>4596</th>\n",
       "      <td>4596</td>\n",
       "      <td>31-01-2023</td>\n",
       "      <td>7446</td>\n",
       "      <td>841</td>\n",
       "      <td>4825</td>\n",
       "      <td>1311</td>\n",
       "      <td>23603.82</td>\n",
       "      <td>5331.94</td>\n",
       "      <td>26151.50</td>\n",
       "      <td>9347.43</td>\n",
       "    </tr>\n",
       "    <tr>\n",
       "      <th>4597</th>\n",
       "      <td>4597</td>\n",
       "      <td>01-02-2023</td>\n",
       "      <td>6289</td>\n",
       "      <td>3143</td>\n",
       "      <td>3588</td>\n",
       "      <td>474</td>\n",
       "      <td>19936.13</td>\n",
       "      <td>19926.62</td>\n",
       "      <td>19446.96</td>\n",
       "      <td>3379.62</td>\n",
       "    </tr>\n",
       "    <tr>\n",
       "      <th>4598</th>\n",
       "      <td>4598</td>\n",
       "      <td>02-02-2023</td>\n",
       "      <td>3122</td>\n",
       "      <td>1188</td>\n",
       "      <td>5899</td>\n",
       "      <td>517</td>\n",
       "      <td>9896.74</td>\n",
       "      <td>7531.92</td>\n",
       "      <td>31972.58</td>\n",
       "      <td>3686.21</td>\n",
       "    </tr>\n",
       "  </tbody>\n",
       "</table>\n",
       "<p>4599 rows × 10 columns</p>\n",
       "</div>"
      ],
      "text/plain": [
       "      Unnamed: 0        Date  Q-P1  Q-P2  Q-P3  Q-P4      S-P1      S-P2  \\\n",
       "0              0  13-06-2010  5422  3725   576   907  17187.74  23616.50   \n",
       "1              1  14-06-2010  7047   779  3578  1574  22338.99   4938.86   \n",
       "2              2  15-06-2010  1572  2082   595  1145   4983.24  13199.88   \n",
       "3              3  16-06-2010  5657  2399  3140  1672  17932.69  15209.66   \n",
       "4              4  17-06-2010  3668  3207  2184   708  11627.56  20332.38   \n",
       "...          ...         ...   ...   ...   ...   ...       ...       ...   \n",
       "4594        4594  29-01-2023  1227  3044  5510  1896   3889.59  19298.96   \n",
       "4595        4595  30-01-2023  2476  3419   525  1359   7848.92  21676.46   \n",
       "4596        4596  31-01-2023  7446   841  4825  1311  23603.82   5331.94   \n",
       "4597        4597  01-02-2023  6289  3143  3588   474  19936.13  19926.62   \n",
       "4598        4598  02-02-2023  3122  1188  5899   517   9896.74   7531.92   \n",
       "\n",
       "          S-P3      S-P4  \n",
       "0      3121.92   6466.91  \n",
       "1     19392.76  11222.62  \n",
       "2      3224.90   8163.85  \n",
       "3     17018.80  11921.36  \n",
       "4     11837.28   5048.04  \n",
       "...        ...       ...  \n",
       "4594  29864.20  13518.48  \n",
       "4595   2845.50   9689.67  \n",
       "4596  26151.50   9347.43  \n",
       "4597  19446.96   3379.62  \n",
       "4598  31972.58   3686.21  \n",
       "\n",
       "[4599 rows x 10 columns]"
      ]
     },
     "execution_count": 3,
     "metadata": {},
     "output_type": "execute_result"
    }
   ],
   "source": [
    "data.head(-1)"
   ]
  },
  {
   "cell_type": "code",
   "execution_count": 4,
   "id": "4739dc13",
   "metadata": {
    "execution": {
     "iopub.execute_input": "2023-02-21T11:40:57.546715Z",
     "iopub.status.busy": "2023-02-21T11:40:57.546074Z",
     "iopub.status.idle": "2023-02-21T11:40:57.551680Z",
     "shell.execute_reply": "2023-02-21T11:40:57.550905Z"
    },
    "papermill": {
     "duration": 0.015367,
     "end_time": "2023-02-21T11:40:57.553727",
     "exception": false,
     "start_time": "2023-02-21T11:40:57.538360",
     "status": "completed"
    },
    "tags": []
   },
   "outputs": [
    {
     "data": {
      "text/plain": [
       "(4600, 10)"
      ]
     },
     "execution_count": 4,
     "metadata": {},
     "output_type": "execute_result"
    }
   ],
   "source": [
    "data.shape"
   ]
  },
  {
   "cell_type": "code",
   "execution_count": 5,
   "id": "edfdd353",
   "metadata": {
    "execution": {
     "iopub.execute_input": "2023-02-21T11:40:57.568600Z",
     "iopub.status.busy": "2023-02-21T11:40:57.567965Z",
     "iopub.status.idle": "2023-02-21T11:40:57.575019Z",
     "shell.execute_reply": "2023-02-21T11:40:57.573820Z"
    },
    "papermill": {
     "duration": 0.017372,
     "end_time": "2023-02-21T11:40:57.577563",
     "exception": false,
     "start_time": "2023-02-21T11:40:57.560191",
     "status": "completed"
    },
    "tags": []
   },
   "outputs": [
    {
     "data": {
      "text/plain": [
       "Index(['Unnamed: 0', 'Date', 'Q-P1', 'Q-P2', 'Q-P3', 'Q-P4', 'S-P1', 'S-P2',\n",
       "       'S-P3', 'S-P4'],\n",
       "      dtype='object')"
      ]
     },
     "execution_count": 5,
     "metadata": {},
     "output_type": "execute_result"
    }
   ],
   "source": [
    "data.columns"
   ]
  },
  {
   "cell_type": "code",
   "execution_count": 6,
   "id": "d45f4d50",
   "metadata": {
    "execution": {
     "iopub.execute_input": "2023-02-21T11:40:57.592384Z",
     "iopub.status.busy": "2023-02-21T11:40:57.592020Z",
     "iopub.status.idle": "2023-02-21T11:40:57.610580Z",
     "shell.execute_reply": "2023-02-21T11:40:57.608726Z"
    },
    "papermill": {
     "duration": 0.029414,
     "end_time": "2023-02-21T11:40:57.613634",
     "exception": false,
     "start_time": "2023-02-21T11:40:57.584220",
     "status": "completed"
    },
    "tags": []
   },
   "outputs": [
    {
     "name": "stdout",
     "output_type": "stream",
     "text": [
      "[   0    1    2 ... 4597 4598 4599]\n",
      "['13-06-2010' '14-06-2010' '15-06-2010' ... '01-02-2023' '02-02-2023'\n",
      " '03-02-2023']\n",
      "[5422 7047 1572 ... 1227 3122 1234]\n",
      "[3725  779 2082 ... 3404  841 3143]\n",
      "[ 576 3578  595 ... 4825 3588 5899]\n",
      "[ 907 1574 1145 ... 1161 1151 1112]\n",
      "[17187.74 22338.99  4983.24 ...  3889.59  9896.74  3911.78]\n",
      "[23616.5   4938.86 13199.88 ... 21581.36  5331.94 19926.62]\n",
      "[ 3121.92 19392.76  3224.9  ... 26151.5  19446.96 31972.58]\n",
      "[ 6466.91 11222.62  8163.85 ...  8277.93  8206.63  7928.56]\n"
     ]
    }
   ],
   "source": [
    "for col in data:\n",
    "    print(data[col].unique())"
   ]
  },
  {
   "cell_type": "markdown",
   "id": "54c0480d",
   "metadata": {
    "papermill": {
     "duration": 0.00641,
     "end_time": "2023-02-21T11:40:57.627107",
     "exception": false,
     "start_time": "2023-02-21T11:40:57.620697",
     "status": "completed"
    },
    "tags": []
   },
   "source": [
    "**Observation**\n",
    "* column \"uamed:0\" is having unique key so no use\n",
    "* data strat from 13-6-2010 and end at 02-02-23 so we have both years incomplete data \n",
    "* we have Each products sales and revenve with day,month and year"
   ]
  },
  {
   "cell_type": "code",
   "execution_count": 7,
   "id": "3fa9e678",
   "metadata": {
    "execution": {
     "iopub.execute_input": "2023-02-21T11:40:57.642351Z",
     "iopub.status.busy": "2023-02-21T11:40:57.641460Z",
     "iopub.status.idle": "2023-02-21T11:40:57.648864Z",
     "shell.execute_reply": "2023-02-21T11:40:57.647661Z"
    },
    "papermill": {
     "duration": 0.017739,
     "end_time": "2023-02-21T11:40:57.651360",
     "exception": false,
     "start_time": "2023-02-21T11:40:57.633621",
     "status": "completed"
    },
    "tags": []
   },
   "outputs": [],
   "source": [
    "#droping useless data\n",
    "data=data.drop(columns=['Unnamed: 0'])"
   ]
  },
  {
   "cell_type": "code",
   "execution_count": 8,
   "id": "274b3aa3",
   "metadata": {
    "execution": {
     "iopub.execute_input": "2023-02-21T11:40:57.667177Z",
     "iopub.status.busy": "2023-02-21T11:40:57.666780Z",
     "iopub.status.idle": "2023-02-21T11:40:57.682230Z",
     "shell.execute_reply": "2023-02-21T11:40:57.681130Z"
    },
    "papermill": {
     "duration": 0.026676,
     "end_time": "2023-02-21T11:40:57.684894",
     "exception": false,
     "start_time": "2023-02-21T11:40:57.658218",
     "status": "completed"
    },
    "tags": []
   },
   "outputs": [],
   "source": [
    "# split data colum so we can drop 2010 and 2023 data for incomplete data\n",
    "data['Day'] =data['Date'].apply(lambda x:x.split('-')[0])\n",
    "data['Month']=data['Date'].apply(lambda x:x.split('-')[1])\n",
    "data['Year']=data['Date'].apply(lambda x:x.split('-')[2])"
   ]
  },
  {
   "cell_type": "code",
   "execution_count": 9,
   "id": "0799a47e",
   "metadata": {
    "execution": {
     "iopub.execute_input": "2023-02-21T11:40:57.700060Z",
     "iopub.status.busy": "2023-02-21T11:40:57.699654Z",
     "iopub.status.idle": "2023-02-21T11:40:57.709280Z",
     "shell.execute_reply": "2023-02-21T11:40:57.708193Z"
    },
    "papermill": {
     "duration": 0.01985,
     "end_time": "2023-02-21T11:40:57.711464",
     "exception": false,
     "start_time": "2023-02-21T11:40:57.691614",
     "status": "completed"
    },
    "tags": []
   },
   "outputs": [],
   "source": [
    "#droping Data from 2010 and 2023\n",
    "data = data.drop(index=data[(data['Year'] == '2010') | (data['Year'] == '2023')].index)\n"
   ]
  },
  {
   "cell_type": "code",
   "execution_count": 10,
   "id": "3a9a8bdf",
   "metadata": {
    "execution": {
     "iopub.execute_input": "2023-02-21T11:40:57.727409Z",
     "iopub.status.busy": "2023-02-21T11:40:57.726639Z",
     "iopub.status.idle": "2023-02-21T11:40:57.749400Z",
     "shell.execute_reply": "2023-02-21T11:40:57.747949Z"
    },
    "papermill": {
     "duration": 0.033762,
     "end_time": "2023-02-21T11:40:57.751937",
     "exception": false,
     "start_time": "2023-02-21T11:40:57.718175",
     "status": "completed"
    },
    "tags": []
   },
   "outputs": [
    {
     "data": {
      "text/html": [
       "<div>\n",
       "<style scoped>\n",
       "    .dataframe tbody tr th:only-of-type {\n",
       "        vertical-align: middle;\n",
       "    }\n",
       "\n",
       "    .dataframe tbody tr th {\n",
       "        vertical-align: top;\n",
       "    }\n",
       "\n",
       "    .dataframe thead th {\n",
       "        text-align: right;\n",
       "    }\n",
       "</style>\n",
       "<table border=\"1\" class=\"dataframe\">\n",
       "  <thead>\n",
       "    <tr style=\"text-align: right;\">\n",
       "      <th></th>\n",
       "      <th>Date</th>\n",
       "      <th>Q-P1</th>\n",
       "      <th>Q-P2</th>\n",
       "      <th>Q-P3</th>\n",
       "      <th>Q-P4</th>\n",
       "      <th>S-P1</th>\n",
       "      <th>S-P2</th>\n",
       "      <th>S-P3</th>\n",
       "      <th>S-P4</th>\n",
       "      <th>Day</th>\n",
       "      <th>Month</th>\n",
       "      <th>Year</th>\n",
       "    </tr>\n",
       "  </thead>\n",
       "  <tbody>\n",
       "    <tr>\n",
       "      <th>201</th>\n",
       "      <td>01-01-2011</td>\n",
       "      <td>281</td>\n",
       "      <td>3956</td>\n",
       "      <td>4186</td>\n",
       "      <td>1537</td>\n",
       "      <td>890.77</td>\n",
       "      <td>25081.04</td>\n",
       "      <td>22688.12</td>\n",
       "      <td>10958.81</td>\n",
       "      <td>01</td>\n",
       "      <td>01</td>\n",
       "      <td>2011</td>\n",
       "    </tr>\n",
       "    <tr>\n",
       "      <th>202</th>\n",
       "      <td>02-01-2011</td>\n",
       "      <td>7665</td>\n",
       "      <td>1350</td>\n",
       "      <td>4266</td>\n",
       "      <td>1789</td>\n",
       "      <td>24298.05</td>\n",
       "      <td>8559.00</td>\n",
       "      <td>23121.72</td>\n",
       "      <td>12755.57</td>\n",
       "      <td>02</td>\n",
       "      <td>01</td>\n",
       "      <td>2011</td>\n",
       "    </tr>\n",
       "    <tr>\n",
       "      <th>203</th>\n",
       "      <td>03-01-2011</td>\n",
       "      <td>937</td>\n",
       "      <td>3758</td>\n",
       "      <td>4311</td>\n",
       "      <td>314</td>\n",
       "      <td>2970.29</td>\n",
       "      <td>23825.72</td>\n",
       "      <td>23365.62</td>\n",
       "      <td>2238.82</td>\n",
       "      <td>03</td>\n",
       "      <td>01</td>\n",
       "      <td>2011</td>\n",
       "    </tr>\n",
       "    <tr>\n",
       "      <th>204</th>\n",
       "      <td>04-01-2011</td>\n",
       "      <td>6378</td>\n",
       "      <td>968</td>\n",
       "      <td>4530</td>\n",
       "      <td>995</td>\n",
       "      <td>20218.26</td>\n",
       "      <td>6137.12</td>\n",
       "      <td>24552.60</td>\n",
       "      <td>7094.35</td>\n",
       "      <td>04</td>\n",
       "      <td>01</td>\n",
       "      <td>2011</td>\n",
       "    </tr>\n",
       "    <tr>\n",
       "      <th>205</th>\n",
       "      <td>05-01-2011</td>\n",
       "      <td>731</td>\n",
       "      <td>2174</td>\n",
       "      <td>5908</td>\n",
       "      <td>1505</td>\n",
       "      <td>2317.27</td>\n",
       "      <td>13783.16</td>\n",
       "      <td>32021.36</td>\n",
       "      <td>10730.65</td>\n",
       "      <td>05</td>\n",
       "      <td>01</td>\n",
       "      <td>2011</td>\n",
       "    </tr>\n",
       "    <tr>\n",
       "      <th>...</th>\n",
       "      <td>...</td>\n",
       "      <td>...</td>\n",
       "      <td>...</td>\n",
       "      <td>...</td>\n",
       "      <td>...</td>\n",
       "      <td>...</td>\n",
       "      <td>...</td>\n",
       "      <td>...</td>\n",
       "      <td>...</td>\n",
       "      <td>...</td>\n",
       "      <td>...</td>\n",
       "      <td>...</td>\n",
       "    </tr>\n",
       "    <tr>\n",
       "      <th>4560</th>\n",
       "      <td>25-12-2022</td>\n",
       "      <td>456</td>\n",
       "      <td>2530</td>\n",
       "      <td>3333</td>\n",
       "      <td>570</td>\n",
       "      <td>1445.52</td>\n",
       "      <td>16040.20</td>\n",
       "      <td>18064.86</td>\n",
       "      <td>4064.10</td>\n",
       "      <td>25</td>\n",
       "      <td>12</td>\n",
       "      <td>2022</td>\n",
       "    </tr>\n",
       "    <tr>\n",
       "      <th>4561</th>\n",
       "      <td>26-12-2022</td>\n",
       "      <td>7600</td>\n",
       "      <td>662</td>\n",
       "      <td>4510</td>\n",
       "      <td>988</td>\n",
       "      <td>24092.00</td>\n",
       "      <td>4197.08</td>\n",
       "      <td>24444.20</td>\n",
       "      <td>7044.44</td>\n",
       "      <td>26</td>\n",
       "      <td>12</td>\n",
       "      <td>2022</td>\n",
       "    </tr>\n",
       "    <tr>\n",
       "      <th>4562</th>\n",
       "      <td>27-12-2022</td>\n",
       "      <td>7114</td>\n",
       "      <td>2948</td>\n",
       "      <td>681</td>\n",
       "      <td>700</td>\n",
       "      <td>22551.38</td>\n",
       "      <td>18690.32</td>\n",
       "      <td>3691.02</td>\n",
       "      <td>4991.00</td>\n",
       "      <td>27</td>\n",
       "      <td>12</td>\n",
       "      <td>2022</td>\n",
       "    </tr>\n",
       "    <tr>\n",
       "      <th>4563</th>\n",
       "      <td>28-12-2022</td>\n",
       "      <td>7759</td>\n",
       "      <td>356</td>\n",
       "      <td>1834</td>\n",
       "      <td>1142</td>\n",
       "      <td>24596.03</td>\n",
       "      <td>2257.04</td>\n",
       "      <td>9940.28</td>\n",
       "      <td>8142.46</td>\n",
       "      <td>28</td>\n",
       "      <td>12</td>\n",
       "      <td>2022</td>\n",
       "    </tr>\n",
       "    <tr>\n",
       "      <th>4564</th>\n",
       "      <td>29-12-2022</td>\n",
       "      <td>6457</td>\n",
       "      <td>1851</td>\n",
       "      <td>3369</td>\n",
       "      <td>669</td>\n",
       "      <td>20468.69</td>\n",
       "      <td>11735.34</td>\n",
       "      <td>18259.98</td>\n",
       "      <td>4769.97</td>\n",
       "      <td>29</td>\n",
       "      <td>12</td>\n",
       "      <td>2022</td>\n",
       "    </tr>\n",
       "  </tbody>\n",
       "</table>\n",
       "<p>4364 rows × 12 columns</p>\n",
       "</div>"
      ],
      "text/plain": [
       "            Date  Q-P1  Q-P2  Q-P3  Q-P4      S-P1      S-P2      S-P3  \\\n",
       "201   01-01-2011   281  3956  4186  1537    890.77  25081.04  22688.12   \n",
       "202   02-01-2011  7665  1350  4266  1789  24298.05   8559.00  23121.72   \n",
       "203   03-01-2011   937  3758  4311   314   2970.29  23825.72  23365.62   \n",
       "204   04-01-2011  6378   968  4530   995  20218.26   6137.12  24552.60   \n",
       "205   05-01-2011   731  2174  5908  1505   2317.27  13783.16  32021.36   \n",
       "...          ...   ...   ...   ...   ...       ...       ...       ...   \n",
       "4560  25-12-2022   456  2530  3333   570   1445.52  16040.20  18064.86   \n",
       "4561  26-12-2022  7600   662  4510   988  24092.00   4197.08  24444.20   \n",
       "4562  27-12-2022  7114  2948   681   700  22551.38  18690.32   3691.02   \n",
       "4563  28-12-2022  7759   356  1834  1142  24596.03   2257.04   9940.28   \n",
       "4564  29-12-2022  6457  1851  3369   669  20468.69  11735.34  18259.98   \n",
       "\n",
       "          S-P4 Day Month  Year  \n",
       "201   10958.81  01    01  2011  \n",
       "202   12755.57  02    01  2011  \n",
       "203    2238.82  03    01  2011  \n",
       "204    7094.35  04    01  2011  \n",
       "205   10730.65  05    01  2011  \n",
       "...        ...  ..   ...   ...  \n",
       "4560   4064.10  25    12  2022  \n",
       "4561   7044.44  26    12  2022  \n",
       "4562   4991.00  27    12  2022  \n",
       "4563   8142.46  28    12  2022  \n",
       "4564   4769.97  29    12  2022  \n",
       "\n",
       "[4364 rows x 12 columns]"
      ]
     },
     "execution_count": 10,
     "metadata": {},
     "output_type": "execute_result"
    }
   ],
   "source": [
    "data.head(-1)"
   ]
  },
  {
   "cell_type": "code",
   "execution_count": 11,
   "id": "1bc074bf",
   "metadata": {
    "execution": {
     "iopub.execute_input": "2023-02-21T11:40:57.768001Z",
     "iopub.status.busy": "2023-02-21T11:40:57.767601Z",
     "iopub.status.idle": "2023-02-21T11:40:57.775940Z",
     "shell.execute_reply": "2023-02-21T11:40:57.774822Z"
    },
    "papermill": {
     "duration": 0.019229,
     "end_time": "2023-02-21T11:40:57.778396",
     "exception": false,
     "start_time": "2023-02-21T11:40:57.759167",
     "status": "completed"
    },
    "tags": []
   },
   "outputs": [],
   "source": [
    "data['Total Sales'] = data['Q-P1'] + data['Q-P2'] + data['Q-P3'] + data['Q-P4']\n",
    "data['Total Revenue'] = data['S-P1'] + data['S-P2'] + data['S-P4'] + data['S-P4']"
   ]
  },
  {
   "cell_type": "code",
   "execution_count": 12,
   "id": "ff2ab6df",
   "metadata": {
    "execution": {
     "iopub.execute_input": "2023-02-21T11:40:57.794336Z",
     "iopub.status.busy": "2023-02-21T11:40:57.793931Z",
     "iopub.status.idle": "2023-02-21T11:40:58.884975Z",
     "shell.execute_reply": "2023-02-21T11:40:58.883844Z"
    },
    "papermill": {
     "duration": 1.102181,
     "end_time": "2023-02-21T11:40:58.887575",
     "exception": false,
     "start_time": "2023-02-21T11:40:57.785394",
     "status": "completed"
    },
    "tags": []
   },
   "outputs": [
    {
     "data": {
      "image/png": "[encoded data removed]",
      "text/plain": [
       "<Figure size 640x480 with 1 Axes>"
      ]
     },
     "metadata": {},
     "output_type": "display_data"
    }
   ],
   "source": [
    "import matplotlib.pyplot as plt  \n",
    "import seaborn as sns\n",
    "# bar chart of total sales and revenue by product\n",
    "product_sales = data[['Q-P1', 'Q-P2', 'Q-P3', 'Q-P4']].sum()\n",
    "product_revenue = data[['S-P1', 'S-P2', 'S-P3', 'S-P4']].sum()\n",
    "plt.bar(['Q-P1', 'Q-P2', 'Q-P3', 'Q-P4'], product_sales, label='Total Sales')\n",
    "plt.bar(['S-P1', 'S-P2', 'S-P3', 'S-P4'], product_revenue, label='Total Revenue')\n",
    "plt.legend()\n",
    "plt.xlabel('Product')\n",
    "plt.ylabel('Amount')\n",
    "plt.title('Total Sales and Revenue by Product')\n",
    "plt.show()"
   ]
  },
  {
   "cell_type": "code",
   "execution_count": 13,
   "id": "780e3464",
   "metadata": {
    "execution": {
     "iopub.execute_input": "2023-02-21T11:40:58.904135Z",
     "iopub.status.busy": "2023-02-21T11:40:58.903725Z",
     "iopub.status.idle": "2023-02-21T11:40:59.197514Z",
     "shell.execute_reply": "2023-02-21T11:40:59.196413Z"
    },
    "papermill": {
     "duration": 0.30509,
     "end_time": "2023-02-21T11:40:59.200217",
     "exception": false,
     "start_time": "2023-02-21T11:40:58.895127",
     "status": "completed"
    },
    "tags": []
   },
   "outputs": [
    {
     "data": {
      "image/png": "[encoded data removed]",
      "text/plain": [
       "<Figure size 1000x500 with 1 Axes>"
      ]
     },
     "metadata": {},
     "output_type": "display_data"
    }
   ],
   "source": [
    "\n",
    "fig, ax = plt.subplots(figsize=(10, 5))\n",
    "\n",
    "# iterate over each product and plot its total sales by year\n",
    "for product in ['Q-P1', 'Q-P2', 'Q-P3', 'Q-P4']:\n",
    "    product_sales = data.groupby('Year')[f'Q-P{product[-1]}'].sum()\n",
    "    ax.plot(product_sales.index, product_sales.values, label=product)\n",
    "\n",
    "ax.legend()\n",
    "ax.set_xlabel('Year')\n",
    "ax.set_ylabel('Total Sales')\n",
    "ax.set_title('Total Sales by Product and Year')\n",
    "\n",
    "plt.show()"
   ]
  },
  {
   "cell_type": "code",
   "execution_count": 14,
   "id": "bbf93197",
   "metadata": {
    "execution": {
     "iopub.execute_input": "2023-02-21T11:40:59.217963Z",
     "iopub.status.busy": "2023-02-21T11:40:59.217556Z",
     "iopub.status.idle": "2023-02-21T11:40:59.516640Z",
     "shell.execute_reply": "2023-02-21T11:40:59.515536Z"
    },
    "papermill": {
     "duration": 0.311199,
     "end_time": "2023-02-21T11:40:59.519596",
     "exception": false,
     "start_time": "2023-02-21T11:40:59.208397",
     "status": "completed"
    },
    "tags": []
   },
   "outputs": [
    {
     "data": {
      "image/png": "[encoded data removed]",
      "text/plain": [
       "<Figure size 1000x500 with 1 Axes>"
      ]
     },
     "metadata": {},
     "output_type": "display_data"
    }
   ],
   "source": [
    "fig, ax = plt.subplots(figsize=(10, 5))\n",
    "\n",
    "# iterate over each product and plot its total revenue by year\n",
    "for product in ['S-P1', 'S-P2', 'S-P3', 'S-P4']:\n",
    "    product_sales = data.groupby('Year')[f'S-P{product[-1]}'].sum()\n",
    "    ax.plot(product_sales.index, product_sales.values, label=product)\n",
    "\n",
    "ax.legend()\n",
    "ax.set_xlabel('Year')\n",
    "ax.set_ylabel('Total revenue')\n",
    "ax.set_title('Total revenue by Product and Year')\n",
    "\n",
    "plt.show()"
   ]
  },
  {
   "cell_type": "code",
   "execution_count": 15,
   "id": "fcc2cbb5",
   "metadata": {
    "execution": {
     "iopub.execute_input": "2023-02-21T11:40:59.539679Z",
     "iopub.status.busy": "2023-02-21T11:40:59.539299Z",
     "iopub.status.idle": "2023-02-21T11:40:59.545885Z",
     "shell.execute_reply": "2023-02-21T11:40:59.544792Z"
    },
    "papermill": {
     "duration": 0.019009,
     "end_time": "2023-02-21T11:40:59.548154",
     "exception": false,
     "start_time": "2023-02-21T11:40:59.529145",
     "status": "completed"
    },
    "tags": []
   },
   "outputs": [],
   "source": [
    "data['Month'] = data['Month'].replace('9', '09')"
   ]
  },
  {
   "cell_type": "code",
   "execution_count": 16,
   "id": "36bd2c96",
   "metadata": {
    "execution": {
     "iopub.execute_input": "2023-02-21T11:40:59.567623Z",
     "iopub.status.busy": "2023-02-21T11:40:59.567247Z",
     "iopub.status.idle": "2023-02-21T11:40:59.858851Z",
     "shell.execute_reply": "2023-02-21T11:40:59.857665Z"
    },
    "papermill": {
     "duration": 0.304487,
     "end_time": "2023-02-21T11:40:59.861628",
     "exception": false,
     "start_time": "2023-02-21T11:40:59.557141",
     "status": "completed"
    },
    "tags": []
   },
   "outputs": [
    {
     "data": {
      "image/png": "[encoded data removed]",
      "text/plain": [
       "<Figure size 640x480 with 1 Axes>"
      ]
     },
     "metadata": {},
     "output_type": "display_data"
    }
   ],
   "source": [
    "# Create a figure and axis\n",
    "def month_plot():\n",
    "    fig, ax = plt.subplots()\n",
    "\n",
    "    # Plot the sales data for each product by month\n",
    "    data.groupby('Month')[['Q-P1', 'Q-P2', 'Q-P3', 'Q-P4']].sum().plot(ax=ax)\n",
    "\n",
    "    # Set the x-axis limits to only show up to December\n",
    "    ax.set_xlim(left=0, right=13)\n",
    "\n",
    "    # Set the axis labels and title\n",
    "    ax.set_xlabel('Month')\n",
    "    ax.set_ylabel('Total unit sales')\n",
    "    ax.set_title('Trend in sales of all four products by month')\n",
    "\n",
    "    # Show the plot\n",
    "    plt.show()\n",
    "\n",
    "month_plot()"
   ]
  },
  {
   "cell_type": "markdown",
   "id": "68ed7546",
   "metadata": {
    "papermill": {
     "duration": 0.009353,
     "end_time": "2023-02-21T11:40:59.880988",
     "exception": false,
     "start_time": "2023-02-21T11:40:59.871635",
     "status": "completed"
    },
    "tags": []
   },
   "source": [
    "The CEO is considering an idea to drop the production of any one of the products. He wants you to analyze this data and suggest whether his idea would result in a massive setback for the company."
   ]
  },
  {
   "cell_type": "code",
   "execution_count": 17,
   "id": "d41ee733",
   "metadata": {
    "execution": {
     "iopub.execute_input": "2023-02-21T11:40:59.901917Z",
     "iopub.status.busy": "2023-02-21T11:40:59.901492Z",
     "iopub.status.idle": "2023-02-21T11:40:59.913062Z",
     "shell.execute_reply": "2023-02-21T11:40:59.912017Z"
    },
    "papermill": {
     "duration": 0.024976,
     "end_time": "2023-02-21T11:40:59.915541",
     "exception": false,
     "start_time": "2023-02-21T11:40:59.890565",
     "status": "completed"
    },
    "tags": []
   },
   "outputs": [],
   "source": [
    "total_sales = data[['Q-P1', 'Q-P2', 'Q-P3', 'Q-P4']].sum()\n",
    "total_revenue = data[['S-P1', 'S-P2', 'S-P3', 'S-P4']].sum()\n",
    "sales_contribution = total_sales / total_sales.sum()\n",
    "revenue_contribution = total_revenue / total_revenue.sum()\n",
    "\n"
   ]
  },
  {
   "cell_type": "code",
   "execution_count": 18,
   "id": "0f7205b8",
   "metadata": {
    "execution": {
     "iopub.execute_input": "2023-02-21T11:40:59.936713Z",
     "iopub.status.busy": "2023-02-21T11:40:59.936306Z",
     "iopub.status.idle": "2023-02-21T11:41:00.205245Z",
     "shell.execute_reply": "2023-02-21T11:41:00.204067Z"
    },
    "papermill": {
     "duration": 0.282235,
     "end_time": "2023-02-21T11:41:00.207670",
     "exception": false,
     "start_time": "2023-02-21T11:40:59.925435",
     "status": "completed"
    },
    "tags": []
   },
   "outputs": [
    {
     "data": {
      "image/png": "[encoded data removed]",
      "text/plain": [
       "<Figure size 1000x500 with 1 Axes>"
      ]
     },
     "metadata": {},
     "output_type": "display_data"
    }
   ],
   "source": [
    "fig, ax = plt.subplots(figsize=(10, 5))\n",
    "\n",
    "ax.bar(['P1', 'P2', 'P3', 'P4'], sales_contribution, color='blue', alpha=0.5, label='Sales')\n",
    "ax.bar(['S1', 'S2', 'S3', 'S4'], revenue_contribution, color='orange', alpha=0.5, label='Revenue')\n",
    "\n",
    "ax.legend()\n",
    "ax.set_xlabel('Product')\n",
    "ax.set_ylabel('Contribution')\n",
    "ax.set_title('Contribution of Each Product to Total Sales and Revenue')\n",
    "\n",
    "plt.show()\n"
   ]
  },
  {
   "cell_type": "code",
   "execution_count": 19,
   "id": "89f5a6ef",
   "metadata": {
    "execution": {
     "iopub.execute_input": "2023-02-21T11:41:00.230099Z",
     "iopub.status.busy": "2023-02-21T11:41:00.229147Z",
     "iopub.status.idle": "2023-02-21T11:41:00.235049Z",
     "shell.execute_reply": "2023-02-21T11:41:00.234329Z"
    },
    "papermill": {
     "duration": 0.01924,
     "end_time": "2023-02-21T11:41:00.237097",
     "exception": false,
     "start_time": "2023-02-21T11:41:00.217857",
     "status": "completed"
    },
    "tags": []
   },
   "outputs": [
    {
     "data": {
      "text/plain": [
       "Index(['Date', 'Q-P1', 'Q-P2', 'Q-P3', 'Q-P4', 'S-P1', 'S-P2', 'S-P3', 'S-P4',\n",
       "       'Day', 'Month', 'Year', 'Total Sales', 'Total Revenue'],\n",
       "      dtype='object')"
      ]
     },
     "execution_count": 19,
     "metadata": {},
     "output_type": "execute_result"
    }
   ],
   "source": [
    "data.columns"
   ]
  },
  {
   "cell_type": "code",
   "execution_count": null,
   "id": "ac9b3b22",
   "metadata": {
    "papermill": {
     "duration": 0.009848,
     "end_time": "2023-02-21T11:41:00.257297",
     "exception": false,
     "start_time": "2023-02-21T11:41:00.247449",
     "status": "completed"
    },
    "tags": []
   },
   "outputs": [],
   "source": []
  }
 ],
 "metadata": {
  "kernelspec": {
   "display_name": "Python 3",
   "language": "python",
   "name": "python3"
  },
  "language_info": {
   "codemirror_mode": {
    "name": "ipython",
    "version": 3
   },
   "file_extension": ".py",
   "mimetype": "text/x-python",
   "name": "python",
   "nbconvert_exporter": "python",
   "pygments_lexer": "ipython3",
   "version": "3.7.12"
  },
  "papermill": {
   "default_parameters": {},
   "duration": 11.653877,
   "end_time": "2023-02-21T11:41:00.988956",
   "environment_variables": {},
   "exception": null,
   "input_path": "__notebook__.ipynb",
   "output_path": "__notebook__.ipynb",
   "parameters": {},
   "start_time": "2023-02-21T11:40:49.335079",
   "version": "2.3.4"
  }
 },
 "nbformat": 4,
 "nbformat_minor": 5
}
